{
  "cells": [
    {
      "cell_type": "markdown",
      "metadata": {
        "id": "view-in-github",
        "colab_type": "text"
      },
      "source": [
        "<a href=\"https://colab.research.google.com/github/agroimpacts/nmeo/blob/class%2Ff2023/materials/code/notebooks/drone_image_analysis.ipynb\" target=\"_parent\"><img src=\"https://colab.research.google.com/assets/colab-badge.svg\" alt=\"Open In Colab\"/></a>"
      ]
    },
    {
      "cell_type": "markdown",
      "metadata": {
        "id": "bDZtCMPDU8G1"
      },
      "source": [
        "## Stacking and comparing drone orthomosaicks\n",
        "\n",
        "In this exercise, we will process the orthomosaicks created in PIX4D into multiband, cloud-optimized geotiffs, and then compare the differences in their values to evaluate the impact of 1) PPK correction, and 2) the choice to approach used to calculate surface reflectance"
      ]
    },
    {
      "cell_type": "code",
      "execution_count": null,
      "metadata": {
        "id": "Y-NvHvBm3Ar9"
      },
      "outputs": [],
      "source": [
        "from google.colab import drive\n",
        "root = '/content/gdrive'\n",
        "drive.mount(root)"
      ]
    },
    {
      "cell_type": "markdown",
      "metadata": {
        "id": "0NJ-8_9AV3uH"
      },
      "source": [
        "## Installs and imports"
      ]
    },
    {
      "cell_type": "code",
      "execution_count": null,
      "metadata": {
        "id": "0o7h9NM-3EpA"
      },
      "outputs": [],
      "source": [
        "%%capture\n",
        "# %pip install affine\n",
        "%pip install leafmap\n",
        "%pip install localtileserver\n",
        "%pip install rio-cogeo\n",
        "%pip install rioxarray"
      ]
    },
    {
      "cell_type": "markdown",
      "metadata": {
        "id": "8KFtpSNC7Bev"
      },
      "source": [
        "Restart runtime and then run imports"
      ]
    },
    {
      "cell_type": "code",
      "execution_count": null,
      "metadata": {
        "id": "FSSh550E4MIH"
      },
      "outputs": [],
      "source": [
        "import os\n",
        "import re\n",
        "import sys\n",
        "from pathlib import Path\n",
        "from subprocess import run\n",
        "import pandas as pd\n",
        "import numpy as np\n",
        "import leafmap.leafmap as leafmap\n",
        "import localtileserver\n",
        "import geopandas as gpd\n",
        "import rasterio\n",
        "from rasterio.plot import show\n",
        "import rioxarray as rxr\n",
        "import xarray as xr"
      ]
    },
    {
      "cell_type": "markdown",
      "metadata": {
        "id": "V0CrPkKPWWoa"
      },
      "source": [
        "## Process images"
      ]
    },
    {
      "cell_type": "markdown",
      "metadata": {
        "id": "y2F8Pw2JWZtx"
      },
      "source": [
        "### Paths"
      ]
    },
    {
      "cell_type": "code",
      "execution_count": null,
      "metadata": {
        "id": "oQDVS3Ad620a"
      },
      "outputs": [],
      "source": [
        "root = '/content/gdrive/MyDrive'\n",
        "img_dir = Path(root) / \"data/nmeo/drones/p4d/\"\n",
        "os.listdir(img_dir)"
      ]
    },
    {
      "cell_type": "markdown",
      "metadata": {
        "id": "weocxhUWXKbi"
      },
      "source": [
        "### List files and directories"
      ]
    },
    {
      "cell_type": "code",
      "execution_count": null,
      "metadata": {
        "id": "-JWRhnar73AL"
      },
      "outputs": [],
      "source": [
        "patterns = (\"green.tif\", \"red.tif\", \"edge.tif\", \"nir.tif\")\n",
        "paths = []\n",
        "for path, _, files in os.walk(img_dir):\n",
        "    for file in files:\n",
        "        # print(file)\n",
        "        if 'transparent_refl' in file and file.endswith(patterns):\n",
        "            # print(\"..valid file\")\n",
        "            paths.append(str(Path(path) / file))\n",
        "        # else:\n",
        "        #     print(\"..Not interested\")"
      ]
    },
    {
      "cell_type": "markdown",
      "metadata": {
        "id": "Rfr0vQrjeGas"
      },
      "source": [
        "Note you will have to change to code below to make the paths and folder name conventions match the ones you are using"
      ]
    },
    {
      "cell_type": "code",
      "execution_count": null,
      "metadata": {
        "id": "3obEYipE8kgU"
      },
      "outputs": [],
      "source": [
        "path_df = pd.DataFrame({\n",
        "    \"type\": [re.sub(\"0054_\", \"\", path.split(\"/\")[-4]) for path in paths],\n",
        "    \"path\": paths\n",
        "})\n",
        "path_df"
      ]
    },
    {
      "cell_type": "markdown",
      "metadata": {
        "id": "9kQJkqyDFIYd"
      },
      "source": [
        "### Stack PPK-corrected images\n",
        "\n",
        "Read in each band of the PPK corrected image, mask the nodata areas, reproject, and clip to an extent"
      ]
    },
    {
      "cell_type": "code",
      "execution_count": null,
      "metadata": {
        "id": "ZGSeGXLE-NRR"
      },
      "outputs": [],
      "source": [
        "imgs = []\n",
        "for i, row in path_df.query(\"type=='ppk'\").iterrows():\n",
        "    img = rxr.open_rasterio(row.path).squeeze().copy()\n",
        "    nodat = img.rio.nodata\n",
        "    # print(img.rio.nodata)\n",
        "\n",
        "    # Mask out no data areas\n",
        "    img = img.where(img != nodat)\n",
        "    # img.rio.write_nodata(nodat, encoded=True, inplace=True)\n",
        "\n",
        "    # increment bands and append to list\n",
        "    img[\"band\"] = i+1\n",
        "    imgs.append(img)"
      ]
    },
    {
      "cell_type": "markdown",
      "metadata": {
        "id": "QsDWuEryHaWc"
      },
      "source": [
        "Stack reproject, and write to disk"
      ]
    },
    {
      "cell_type": "code",
      "execution_count": null,
      "metadata": {
        "id": "xwwzMJSy-OG7"
      },
      "outputs": [],
      "source": [
        "img_stack = xr.concat(imgs, dim=\"band\")\n",
        "img_stack = img_stack.rio.reproject(\"EPSG:4326\", resolution=0.11/111111)\\\n",
        "    .rio.clip_box(minx=-71.8101, miny=42.1193,\n",
        "                  maxx=-71.8041, maxy=42.1242)\n",
        "img_stack.rio.write_nodata(np.nan, encoded=True, inplace=True)\n",
        "\n",
        "out_path = Path(img_dir) / \"ortho_ppk_stack.tif\"\n",
        "img_stack.rio.to_raster(out_path)"
      ]
    },
    {
      "cell_type": "code",
      "source": [
        "# img_stack"
      ],
      "metadata": {
        "id": "8HJfQTg-pGOd"
      },
      "execution_count": null,
      "outputs": []
    },
    {
      "cell_type": "markdown",
      "metadata": {
        "id": "pZAq2NAPHmeu"
      },
      "source": [
        "COG-ify"
      ]
    },
    {
      "cell_type": "code",
      "execution_count": null,
      "metadata": {
        "id": "d29jhImMHo2P"
      },
      "outputs": [],
      "source": [
        "cmd = ['rio', 'cogeo', 'create', '-b', '1,2,3,4', out_path, out_path]\n",
        "p = run(cmd, capture_output=True)\n",
        "msg = p.stderr.decode().split('\\n')\n",
        "print(f'...{msg[-2]}')\n",
        "\n",
        "cmd = ['rio', 'cogeo', 'validate', out_path]\n",
        "p = run(cmd, capture_output = True)\n",
        "msg = p.stdout.decode().split('\\n')\n",
        "print(f'...{msg[0]}')"
      ]
    },
    {
      "cell_type": "markdown",
      "metadata": {
        "id": "7-_vtZOvIUit"
      },
      "source": [
        "### Stack non-PPK images\n",
        "\n",
        "Read in each band of the non-PPK corrected images, mask the nodata areas"
      ]
    },
    {
      "cell_type": "code",
      "execution_count": null,
      "metadata": {
        "id": "68JnqckwIUiu"
      },
      "outputs": [],
      "source": [
        "imgs = []\n",
        "for i, row in path_df.query(\"type=='noppk'\").iterrows():\n",
        "    img = rxr.open_rasterio(row.path).squeeze()\n",
        "    nodat = img.rio.nodata\n",
        "\n",
        "    # Mask out no data areas\n",
        "    img = img.where(img != nodat)\n",
        "    # img.rio.write_nodata(nodat, encoded=True, inplace=True)\n",
        "\n",
        "    # increment bands and append to list\n",
        "    img[\"band\"] = i+1\n",
        "    imgs.append(img)"
      ]
    },
    {
      "cell_type": "markdown",
      "metadata": {
        "id": "P6Utc-NrIUiu"
      },
      "source": [
        "Stack and write to disk. Note that here we use `rio.reproject_match` to align the img_stack of noppk to the ppk raster. This allows us to do band math between the two images."
      ]
    },
    {
      "cell_type": "code",
      "source": [
        "ppk.min(skipna=True)"
      ],
      "metadata": {
        "id": "_Vs_mjijtUeK"
      },
      "execution_count": null,
      "outputs": []
    },
    {
      "cell_type": "code",
      "execution_count": null,
      "metadata": {
        "id": "eIK7ucUUIUiv"
      },
      "outputs": [],
      "source": [
        "img_stack = xr.concat(imgs, dim=\"band\")\n",
        "ppk = rxr.open_rasterio(str(Path(img_dir) / \"ortho_ppk_stack.tif\"))\n",
        "\n",
        "img_stack = img_stack.rio.reproject_match(ppk)\n",
        "img_stack.rio.write_nodata(np.nan, encoded=True, inplace=True)\n",
        "\n",
        "out_path = Path(img_dir) / \"ortho_noppk_stack.tif\"\n",
        "img_stack.rio.to_raster(out_path)"
      ]
    },
    {
      "cell_type": "markdown",
      "metadata": {
        "id": "9il1KI6tIUiv"
      },
      "source": [
        "COG-ify"
      ]
    },
    {
      "cell_type": "code",
      "execution_count": null,
      "metadata": {
        "id": "hTvUiUrQIUiw"
      },
      "outputs": [],
      "source": [
        "cmd = ['rio', 'cogeo', 'create', '-b', '1,2,3,4', out_path, out_path]\n",
        "p = run(cmd, capture_output=True)\n",
        "msg = p.stderr.decode().split('\\n')\n",
        "print(f'...{msg[-2]}')\n",
        "\n",
        "cmd = ['rio', 'cogeo', 'validate', out_path]\n",
        "p = run(cmd, capture_output = True)\n",
        "msg = p.stdout.decode().split('\\n')\n",
        "print(f'...{msg[0]}')"
      ]
    },
    {
      "cell_type": "markdown",
      "metadata": {
        "id": "2aDowSxbJs_H"
      },
      "source": [
        "## Calculate differences in images"
      ]
    },
    {
      "cell_type": "code",
      "execution_count": null,
      "metadata": {
        "id": "4evpCKbfKR-c"
      },
      "outputs": [],
      "source": [
        "cog_paths = [\n",
        "    str(Path(img_dir) / \"ortho_ppk_stack.tif\"),\n",
        "    str(Path(img_dir) / \"ortho_noppk_stack.tif\")\n",
        "]\n",
        "\n",
        "ppk = rxr.open_rasterio(cog_paths[0])#.squeeze()\n",
        "noppk = rxr.open_rasterio(cog_paths[1])#.squeeze()"
      ]
    },
    {
      "cell_type": "code",
      "execution_count": null,
      "metadata": {
        "id": "ovpK0GVkKgNF"
      },
      "outputs": [],
      "source": [
        "ppk_noppk_dif = ppk - noppk\n",
        "out_path = Path(img_dir) / \"ortho_ppk-noppk_diff.tif\"\n",
        "ppk_noppk_dif.rio.to_raster(out_path)\n",
        "# ppk_noppk_dif.plot.imshow(col=\"band\", col_wrap=2, cmap=\"Greys_r\")"
      ]
    },
    {
      "cell_type": "code",
      "source": [
        "# ppk_noppk_dif.plot.imshow(col=\"band\", col_wrap=2, cmap=\"Greys_r\")"
      ],
      "metadata": {
        "id": "bokQ48IUr7fH"
      },
      "execution_count": null,
      "outputs": []
    },
    {
      "cell_type": "markdown",
      "metadata": {
        "id": "MNSdtd1vs2a1"
      },
      "source": [
        "Visualize"
      ]
    },
    {
      "cell_type": "code",
      "execution_count": null,
      "metadata": {
        "id": "_s08kOlZHLv8"
      },
      "outputs": [],
      "source": [
        "m = leafmap.Map()\n",
        "m.add_basemap()\n",
        "m.add_basemap(\"SATELLITE\")\n",
        "m.add_raster(str(out_path), bands=[1], layer_name=\"PPK difference\")\n",
        "m.add_raster(cog_paths[0], bands=[1], layer_name=\"PPK\", vmin=0, vmax = 0.5)\n",
        "m.add_raster(cog_paths[1], bands=[1], layer_name=\"noPPK\", vmin=0, vmax = 0.5)\n",
        "m"
      ]
    },
    {
      "cell_type": "markdown",
      "metadata": {
        "id": "H5wwbl9cfHYK"
      },
      "source": [
        "## Homework\n",
        "\n",
        "- Use pix4d together with the PPK corrected images from eMotion3 to make orthomosaicks that do not use the calibration targets (you can either reset the calibration targets or load the list images into a new pix4d project that excludes those images with targets in them)\n",
        "- Adapt this notebook to process the orthomosaicks into a cropped, reprojected multiband tiff that aligns with the PPK raster.\n",
        "- Compare differences between the PPK images and the new one made using a different reflectance conversion.  "
      ]
    },
    {
      "cell_type": "markdown",
      "source": [
        "### PPK no targets"
      ],
      "metadata": {
        "id": "e6flRo76XK60"
      }
    },
    {
      "cell_type": "markdown",
      "source": [
        "#### Stack"
      ],
      "metadata": {
        "id": "CVJGGc9kM1ef"
      }
    },
    {
      "cell_type": "code",
      "source": [
        "imgs = []\n",
        "for i, row in path_df.query(\"type=='ppk_notargets'\").iterrows():\n",
        "    img = rxr.open_rasterio(row.path).squeeze().copy()\n",
        "    nodat = img.rio.nodata\n",
        "\n",
        "    # Mask out no data areas\n",
        "    img = img.where(img != nodat)\n",
        "\n",
        "    # increment bands and append to list\n",
        "    img[\"band\"] = i+1\n",
        "    imgs.append(img)"
      ],
      "metadata": {
        "id": "Pl0NspqoXPO7"
      },
      "execution_count": null,
      "outputs": []
    },
    {
      "cell_type": "code",
      "source": [
        "img_stack = xr.concat(imgs, dim=\"band\")\n",
        "ppk = rxr.open_rasterio(str(Path(img_dir) / \"ortho_ppk_stack.tif\"))\n",
        "\n",
        "img_stack = img_stack.rio.reproject_match(ppk)\n",
        "img_stack.rio.write_nodata(np.nan, encoded=True, inplace=True)\n",
        "\n",
        "out_path = Path(img_dir) / \"ortho_ppk_notargets_stack.tif\"\n",
        "img_stack.rio.to_raster(out_path)"
      ],
      "metadata": {
        "id": "FdNI3OQqXRCg"
      },
      "execution_count": null,
      "outputs": []
    },
    {
      "cell_type": "markdown",
      "source": [
        "#### COG-ify"
      ],
      "metadata": {
        "id": "YNezXsbBM41g"
      }
    },
    {
      "cell_type": "code",
      "source": [
        "cmd = ['rio', 'cogeo', 'create', '-b', '1,2,3,4', out_path, out_path]\n",
        "p = run(cmd, capture_output=True)\n",
        "msg = p.stderr.decode().split('\\n')\n",
        "print(f'...{msg[-2]}')\n",
        "\n",
        "cmd = ['rio', 'cogeo', 'validate', out_path]\n",
        "p = run(cmd, capture_output = True)\n",
        "msg = p.stdout.decode().split('\\n')\n",
        "print(f'...{msg[0]}')"
      ],
      "metadata": {
        "id": "VIDBCef8XT3M"
      },
      "execution_count": null,
      "outputs": []
    },
    {
      "cell_type": "markdown",
      "source": [
        "### Calculate reflectance differences"
      ],
      "metadata": {
        "id": "OP7YqgQ9NM_j"
      }
    },
    {
      "cell_type": "code",
      "source": [
        "cog_paths = [\n",
        "    str(Path(img_dir) / \"ortho_ppk_stack.tif\"),\n",
        "    str(Path(img_dir) / \"ortho_ppk_notargets_stack.tif\")\n",
        "]\n",
        "\n",
        "ppk = rxr.open_rasterio(cog_paths[0])\n",
        "ppknt = rxr.open_rasterio(cog_paths[1])\n",
        "\n",
        "ppk_ppknt_dif = (ppk - ppknt)\n",
        "out_path = Path(img_dir) / \"ortho_ppk-ppknt_diff.tif\"\n",
        "ppk_ppknt_dif.rio.to_raster(out_path)\n"
      ],
      "metadata": {
        "id": "a8WRM-tgX7_u"
      },
      "execution_count": null,
      "outputs": []
    },
    {
      "cell_type": "markdown",
      "source": [
        "#### Difference maps"
      ],
      "metadata": {
        "id": "ukJ-W4FTNWsw"
      }
    },
    {
      "cell_type": "code",
      "source": [
        "m = leafmap.Map()\n",
        "m.add_basemap()\n",
        "m.add_basemap(\"SATELLITE\")\n",
        "m.add_raster(str(out_path), bands=[1], layer_name=\"PPK reflectance diff\")\n",
        "m"
      ],
      "metadata": {
        "id": "btnGY2_WYOk7"
      },
      "execution_count": null,
      "outputs": []
    },
    {
      "cell_type": "code",
      "source": [
        "ppk_ppknt_dif.plot.imshow(col=\"band\", col_wrap=2, cmap=\"Greys_r\")"
      ],
      "metadata": {
        "id": "sf3flb-vZINx"
      },
      "execution_count": null,
      "outputs": []
    },
    {
      "cell_type": "markdown",
      "source": [
        "#### Difference statistics"
      ],
      "metadata": {
        "id": "Pga80gFbNayg"
      }
    },
    {
      "cell_type": "code",
      "source": [
        "from matplotlib import pyplot as plot\n",
        "fig, ax = plot.subplots(2, 2, figsize=(12, 4))\n",
        "for i in range(4):\n",
        "    ax[i//2, i%2].hist(ppk_ppknt_dif[i].values.ravel())"
      ],
      "metadata": {
        "id": "Hw-OmWCJZUW_"
      },
      "execution_count": null,
      "outputs": []
    },
    {
      "cell_type": "code",
      "source": [
        "for i in range(4):\n",
        "    print(ppk_ppknt_dif[i].mean(skipna=True).values)"
      ],
      "metadata": {
        "id": "DN7FhF8ba7zV"
      },
      "execution_count": null,
      "outputs": []
    }
  ],
  "metadata": {
    "colab": {
      "toc_visible": true,
      "provenance": [],
      "authorship_tag": "ABX9TyM5OrQVKXdiuPjE33UVh9nE",
      "include_colab_link": true
    },
    "kernelspec": {
      "display_name": "Python 3",
      "name": "python3"
    },
    "language_info": {
      "name": "python"
    }
  },
  "nbformat": 4,
  "nbformat_minor": 0
}