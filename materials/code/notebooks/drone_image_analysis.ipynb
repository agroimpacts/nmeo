{
  "nbformat": 4,
  "nbformat_minor": 0,
  "metadata": {
    "colab": {
      "provenance": [],
      "toc_visible": true,
      "authorship_tag": "ABX9TyMczL9U4ASeRJURZ27JGDQc",
      "include_colab_link": true
    },
    "kernelspec": {
      "name": "python3",
      "display_name": "Python 3"
    },
    "language_info": {
      "name": "python"
    }
  },
  "cells": [
    {
      "cell_type": "markdown",
      "metadata": {
        "id": "view-in-github",
        "colab_type": "text"
      },
      "source": [
        "<a href=\"https://colab.research.google.com/github/agroimpacts/nmeo/blob/class%2Ff2023/materials/code/notebooks/drone_image_analysis.ipynb\" target=\"_parent\"><img src=\"https://colab.research.google.com/assets/colab-badge.svg\" alt=\"Open In Colab\"/></a>"
      ]
    },
    {
      "cell_type": "markdown",
      "source": [
        "## Stacking and comparing drone orthomosaicks\n",
        "\n",
        "In this exercise, we will process the orthomosaicks created in PIX4D into multiband, cloud-optimized geotiffs, and then compare the differences in their values to evaluate the impact of 1) PPK correction, and 2) the choice to approach used to calculate surface reflectance"
      ],
      "metadata": {
        "id": "bDZtCMPDU8G1"
      }
    },
    {
      "cell_type": "code",
      "execution_count": null,
      "metadata": {
        "id": "Y-NvHvBm3Ar9"
      },
      "outputs": [],
      "source": [
        "from google.colab import drive\n",
        "root = '/content/gdrive'\n",
        "drive.mount(root)"
      ]
    },
    {
      "cell_type": "markdown",
      "source": [
        "## Installs and imports"
      ],
      "metadata": {
        "id": "0NJ-8_9AV3uH"
      }
    },
    {
      "cell_type": "code",
      "source": [
        "%%capture\n",
        "# %pip install affine\n",
        "%pip install leafmap\n",
        "%pip install localtileserver\n",
        "%pip install rio-cogeo\n",
        "%pip install rioxarray"
      ],
      "metadata": {
        "id": "0o7h9NM-3EpA"
      },
      "execution_count": null,
      "outputs": []
    },
    {
      "cell_type": "markdown",
      "source": [
        "Restart runtime and then run imports"
      ],
      "metadata": {
        "id": "8KFtpSNC7Bev"
      }
    },
    {
      "cell_type": "code",
      "source": [
        "import os\n",
        "import re\n",
        "import sys\n",
        "from pathlib import Path\n",
        "from subprocess import run\n",
        "import pandas as pd\n",
        "import numpy as np\n",
        "import leafmap.leafmap as leafmap\n",
        "import localtileserver\n",
        "import geopandas as gpd\n",
        "import rasterio\n",
        "from rasterio.plot import show\n",
        "import rioxarray as rxr\n",
        "import xarray as xr"
      ],
      "metadata": {
        "id": "FSSh550E4MIH"
      },
      "execution_count": null,
      "outputs": []
    },
    {
      "cell_type": "markdown",
      "source": [
        "## Process images"
      ],
      "metadata": {
        "id": "V0CrPkKPWWoa"
      }
    },
    {
      "cell_type": "markdown",
      "source": [
        "### Paths"
      ],
      "metadata": {
        "id": "y2F8Pw2JWZtx"
      }
    },
    {
      "cell_type": "code",
      "source": [
        "root = '/content/gdrive/MyDrive'\n",
        "img_dir = Path(root) / \"data/nmeo/drones/p4d/\"\n",
        "os.listdir(img_dir)"
      ],
      "metadata": {
        "id": "oQDVS3Ad620a"
      },
      "execution_count": null,
      "outputs": []
    },
    {
      "cell_type": "markdown",
      "source": [
        "### List files and directories"
      ],
      "metadata": {
        "id": "weocxhUWXKbi"
      }
    },
    {
      "cell_type": "code",
      "source": [
        "patterns = (\"green.tif\", \"red.tif\", \"edge.tif\", \"nir.tif\")\n",
        "paths = []\n",
        "for path, subdirs, files in os.walk(img_dir):\n",
        "    for file in files:\n",
        "        # print(file)\n",
        "        if 'transparent_refl' in file and file.endswith(patterns):\n",
        "            paths.append(str(Path(path) / file))"
      ],
      "metadata": {
        "id": "-JWRhnar73AL"
      },
      "execution_count": null,
      "outputs": []
    },
    {
      "cell_type": "markdown",
      "source": [
        "Note you will have to change to code below to make the paths and folder name conventions match the ones you are using"
      ],
      "metadata": {
        "id": "Rfr0vQrjeGas"
      }
    },
    {
      "cell_type": "code",
      "source": [
        "path_df = pd.DataFrame({\n",
        "    \"type\": [re.sub(\"0054_\", \"\", path.split(\"/\")[8]) for path in paths],\n",
        "    \"path\": paths\n",
        "})\n",
        "path_df"
      ],
      "metadata": {
        "id": "3obEYipE8kgU"
      },
      "execution_count": null,
      "outputs": []
    },
    {
      "cell_type": "markdown",
      "source": [
        "### Stack PPK-corrected images\n",
        "\n",
        "Read in each band of the PPK corrected image, mask the nodata areas, reproject, and clip to an extent"
      ],
      "metadata": {
        "id": "9kQJkqyDFIYd"
      }
    },
    {
      "cell_type": "code",
      "source": [
        "imgs = []\n",
        "for i, row in path_df.query(\"type=='ppk'\").iterrows():\n",
        "    img = rxr.open_rasterio(row.path).squeeze().copy()\n",
        "    nodat = img.rio.nodata\n",
        "\n",
        "    # Mask out no data areas\n",
        "    img = img.where(img != nodat)\n",
        "    # img.rio.write_nodata(nodat, encoded=True, inplace=True)\n",
        "\n",
        "    # increment bands and append to list\n",
        "    img[\"band\"] = i+1\n",
        "    imgs.append(img)"
      ],
      "metadata": {
        "id": "ZGSeGXLE-NRR"
      },
      "execution_count": null,
      "outputs": []
    },
    {
      "cell_type": "markdown",
      "source": [
        "Stack reproject, and write to disk"
      ],
      "metadata": {
        "id": "QsDWuEryHaWc"
      }
    },
    {
      "cell_type": "code",
      "source": [
        "img_stack = xr.concat(imgs, dim=\"band\")\n",
        "img_stack = img_stack.rio.reproject(\"EPSG:4326\", resolution=0.11/111111)\\\n",
        "    .rio.clip_box(minx=-71.8101, miny=42.1193,\n",
        "                  maxx=-71.8041, maxy=42.1242)\n",
        "img_stack.rio.write_nodata(np.nan, encoded=True, inplace=True)\n",
        "\n",
        "out_path = Path(img_dir) / \"ortho_ppk_stack.tif\"\n",
        "img_stack.rio.to_raster(out_path)"
      ],
      "metadata": {
        "id": "xwwzMJSy-OG7"
      },
      "execution_count": null,
      "outputs": []
    },
    {
      "cell_type": "markdown",
      "source": [
        "COG-ify"
      ],
      "metadata": {
        "id": "pZAq2NAPHmeu"
      }
    },
    {
      "cell_type": "code",
      "source": [
        "cmd = ['rio', 'cogeo', 'create', '-b', '1,2,3,4', out_path, out_path]\n",
        "p = run(cmd, capture_output=True)\n",
        "msg = p.stderr.decode().split('\\n')\n",
        "print(f'...{msg[-2]}')\n",
        "\n",
        "cmd = ['rio', 'cogeo', 'validate', out_path]\n",
        "p = run(cmd, capture_output = True)\n",
        "msg = p.stdout.decode().split('\\n')\n",
        "print(f'...{msg[0]}')"
      ],
      "metadata": {
        "id": "d29jhImMHo2P"
      },
      "execution_count": null,
      "outputs": []
    },
    {
      "cell_type": "markdown",
      "source": [
        "### Stack non-PPK images\n",
        "\n",
        "Read in each band of the non-PPK corrected images, mask the nodata areas"
      ],
      "metadata": {
        "id": "7-_vtZOvIUit"
      }
    },
    {
      "cell_type": "code",
      "source": [
        "imgs = []\n",
        "for i, row in path_df.query(\"type=='noppk'\").iterrows():\n",
        "    img = rxr.open_rasterio(row.path).squeeze()\n",
        "    nodat = img.rio.nodata\n",
        "\n",
        "    # Mask out no data areas\n",
        "    img = img.where(img != nodat)\n",
        "    # img.rio.write_nodata(nodat, encoded=True, inplace=True)\n",
        "\n",
        "    # increment bands and append to list\n",
        "    img[\"band\"] = i+1\n",
        "    imgs.append(img)"
      ],
      "metadata": {
        "id": "68JnqckwIUiu"
      },
      "execution_count": null,
      "outputs": []
    },
    {
      "cell_type": "markdown",
      "source": [
        "Stack and write to disk. Note that here we use `rio.reproject_match` to align the img_stack of noppk to the ppk raster. This allows us to do band math between the two images."
      ],
      "metadata": {
        "id": "P6Utc-NrIUiu"
      }
    },
    {
      "cell_type": "code",
      "source": [
        "img_stack = xr.concat(imgs, dim=\"band\")\n",
        "ppk = rxr.open_rasterio(str(Path(img_dir) / \"ortho_ppk_stack.tif\"))\n",
        "\n",
        "img_stack = img_stack.rio.reproject_match(ppk)\n",
        "img_stack.rio.write_nodata(np.nan, encoded=True, inplace=True)\n",
        "\n",
        "out_path = Path(img_dir) / \"ortho_noppk_stack.tif\"\n",
        "img_stack.rio.to_raster(out_path)"
      ],
      "metadata": {
        "id": "eIK7ucUUIUiv"
      },
      "execution_count": null,
      "outputs": []
    },
    {
      "cell_type": "markdown",
      "source": [
        "COG-ify"
      ],
      "metadata": {
        "id": "9il1KI6tIUiv"
      }
    },
    {
      "cell_type": "code",
      "source": [
        "cmd = ['rio', 'cogeo', 'create', '-b', '1,2,3,4', out_path, out_path]\n",
        "p = run(cmd, capture_output=True)\n",
        "msg = p.stderr.decode().split('\\n')\n",
        "print(f'...{msg[-2]}')\n",
        "\n",
        "cmd = ['rio', 'cogeo', 'validate', out_path]\n",
        "p = run(cmd, capture_output = True)\n",
        "msg = p.stdout.decode().split('\\n')\n",
        "print(f'...{msg[0]}')"
      ],
      "metadata": {
        "id": "hTvUiUrQIUiw"
      },
      "execution_count": null,
      "outputs": []
    },
    {
      "cell_type": "markdown",
      "source": [
        "### Plot and compare"
      ],
      "metadata": {
        "id": "plt0RaAoIw4L"
      }
    },
    {
      "cell_type": "code",
      "source": [],
      "metadata": {
        "id": "_2blIT2VI81c"
      },
      "execution_count": null,
      "outputs": []
    },
    {
      "cell_type": "markdown",
      "source": [
        "## Calculate differences in images"
      ],
      "metadata": {
        "id": "2aDowSxbJs_H"
      }
    },
    {
      "cell_type": "code",
      "source": [
        "cog_paths = [\n",
        "    str(Path(img_dir) / \"ortho_ppk_stack.tif\"),\n",
        "    str(Path(img_dir) / \"ortho_noppk_stack.tif\")\n",
        "]\n",
        "\n",
        "ppk = rxr.open_rasterio(cog_paths[0])#.squeeze()\n",
        "noppk = rxr.open_rasterio(cog_paths[1])#.squeeze()"
      ],
      "metadata": {
        "id": "4evpCKbfKR-c"
      },
      "execution_count": null,
      "outputs": []
    },
    {
      "cell_type": "code",
      "source": [
        "ppk_noppk_dif = (ppk - noppk)\n",
        "out_path = Path(img_dir) / \"ortho_ppk-noppk_diff.tif\"\n",
        "ppk_noppk_dif.rio.to_raster(out_path)\n",
        "# ppk_noppk_dif.plot.imshow(col=\"band\", col_wrap=2, cmap=\"Greys_r\")"
      ],
      "metadata": {
        "id": "ovpK0GVkKgNF"
      },
      "execution_count": null,
      "outputs": []
    },
    {
      "cell_type": "markdown",
      "source": [
        "Visualize"
      ],
      "metadata": {
        "id": "MNSdtd1vs2a1"
      }
    },
    {
      "cell_type": "code",
      "source": [
        "m = leafmap.Map()\n",
        "m.add_basemap()\n",
        "m.add_basemap(\"SATELLITE\")\n",
        "m.add_raster(str(out_path), bands=[1, 2, 3], layer_name=\"PPK\")\n",
        "m"
      ],
      "metadata": {
        "id": "_s08kOlZHLv8"
      },
      "execution_count": null,
      "outputs": []
    },
    {
      "cell_type": "markdown",
      "source": [
        "## Homework\n",
        "\n",
        "- Use pix4d together with the PPK corrected images from eMotion3 to make orthomosaicks that do not use the calibration targets (you can either reset the calibration targets or load the list images into a new pix4d project that excludes those images with targets in them)\n",
        "- Adapt this notebook to process the orthomosaicks into a cropped, reprojected multiband tiff that aligns with the PPK raster.\n",
        "- Compare differences between the PPK images and the new one made using a different reflectance conversion.  "
      ],
      "metadata": {
        "id": "H5wwbl9cfHYK"
      }
    }
  ]
}