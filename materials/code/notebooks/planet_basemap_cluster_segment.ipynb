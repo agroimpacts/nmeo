{
  "nbformat": 4,
  "nbformat_minor": 0,
  "metadata": {
    "colab": {
      "provenance": [],
      "toc_visible": true,
      "authorship_tag": "ABX9TyMPmHWBqEmn/TEDOgcgGx9r",
      "include_colab_link": true
    },
    "kernelspec": {
      "name": "python3",
      "display_name": "Python 3"
    },
    "language_info": {
      "name": "python"
    }
  },
  "cells": [
    {
      "cell_type": "markdown",
      "metadata": {
        "id": "view-in-github",
        "colab_type": "text"
      },
      "source": [
        "<a href=\"https://colab.research.google.com/github/agroimpacts/nmeo/blob/class%2Ff2023/materials/code/notebooks/planet_basemap_cluster_segment.ipynb\" target=\"_parent\"><img src=\"https://colab.research.google.com/assets/colab-badge.svg\" alt=\"Open In Colab\"/></a>"
      ]
    },
    {
      "cell_type": "markdown",
      "source": [
        "## Analyzing Planet tiles\n",
        "\n",
        "In this exercise, we are going to perform some basic analyses on the Planet images we reprojected and retiled from NICFI quads over Malawi.  \n",
        "\n",
        "We will calculate NDVI, perform a cluster analysis (unsupervised classification), and segment the image."
      ],
      "metadata": {
        "id": "dzsD1zTqTf-j"
      }
    },
    {
      "cell_type": "code",
      "source": [
        "from google.colab import drive\n",
        "drive.mount('/content/gdrive')"
      ],
      "metadata": {
        "id": "FBq-rfbzT5bG"
      },
      "execution_count": null,
      "outputs": []
    },
    {
      "cell_type": "markdown",
      "source": [
        "## Set up"
      ],
      "metadata": {
        "id": "faEbAZF6Vg0Q"
      }
    },
    {
      "cell_type": "markdown",
      "source": [
        "### Installs and imports"
      ],
      "metadata": {
        "id": "0lfBsssVhgTh"
      }
    },
    {
      "cell_type": "code",
      "source": [
        "%%capture\n",
        "%pip install leafmap\n",
        "%pip install localtileserver\n",
        "%pip install pysnic\n",
        "%pip install rioxarray\n",
        "%pip install rio-cogeo"
      ],
      "metadata": {
        "id": "TnFASkt6UhoD"
      },
      "execution_count": null,
      "outputs": []
    },
    {
      "cell_type": "markdown",
      "source": [
        "Restart runtime to enable imports"
      ],
      "metadata": {
        "id": "0MSueBJq6-sA"
      }
    },
    {
      "cell_type": "code",
      "source": [
        "root = '/content/gdrive'\n",
        "import os\n",
        "import sys\n",
        "import re\n",
        "from subprocess import run\n",
        "from pathlib import Path\n",
        "import pandas as pd\n",
        "import leafmap.leafmap as leafmap\n",
        "# import leafmap.foliumap as leafmap\n",
        "import localtileserver\n",
        "import numpy as np\n",
        "import geopandas as gpd\n",
        "import rioxarray as rxr\n",
        "\n",
        "import rasterio\n",
        "from rasterio.plot import show, reshape_as_raster, reshape_as_image\n",
        "from rasterio.windows import Window\n",
        "import random\n",
        "\n",
        "from matplotlib import pyplot as plt\n",
        "from pysnic.algorithms.snic import snic\n",
        "from sklearn.cluster import KMeans"
      ],
      "metadata": {
        "id": "GN2hCXyFU-PX"
      },
      "execution_count": null,
      "outputs": []
    },
    {
      "cell_type": "markdown",
      "source": [
        "### Paths and files"
      ],
      "metadata": {
        "id": "qXgrE41hVjEf"
      }
    },
    {
      "cell_type": "code",
      "source": [
        "proj_path = f\"{root}/MyDrive/data/nmeo\"  # main output path\n",
        "\n",
        "quad_dir = f\"{proj_path}/quads\"  # for downloaded NICFI quads\n",
        "tile_dir = f\"{proj_path}/tiles\"  # for output tiles\n",
        "analyses_dir = f\"{proj_path}/analyses\"  # for output tiles\n",
        "if not os.path.exists(analyses_dir):\n",
        "    os.makedirs(analyses_dir, exist_ok=True)\n",
        "\n",
        "tile_path = f\"{proj_path}/inputs/malawi_tiles_buf179.geojson\""
      ],
      "metadata": {
        "id": "XkBkZj2GVn06"
      },
      "execution_count": null,
      "outputs": []
    },
    {
      "cell_type": "markdown",
      "source": [
        "### Get Planet tiles"
      ],
      "metadata": {
        "id": "A0P_lS8BXVgk"
      }
    },
    {
      "cell_type": "code",
      "source": [
        "cog_tiles = [f\"{tile_dir}/{tile}\" for tile in os.listdir(tile_dir)\n",
        "             if \".xml\" not in tile]\n",
        "cog_tiles"
      ],
      "metadata": {
        "id": "3yi3ovb2W0gd"
      },
      "execution_count": null,
      "outputs": []
    },
    {
      "cell_type": "markdown",
      "source": [
        "## Calculate a VI using xarray/rioxarray\n",
        "\n",
        "Instead of rasterio, this time around we will work with the image using [`xarray`](https://docs.xarray.dev/en/stable/getting-started-guide/why-xarray.html) and [`rioxarray`](https://corteva.github.io/rioxarray/stable/readme.html).\n",
        "\n",
        "Here we will simply read in one of the images, calculate NDVI from it, and plot."
      ],
      "metadata": {
        "id": "i3Ybs2QZdpUH"
      }
    },
    {
      "cell_type": "code",
      "source": [
        "img = rxr.open_rasterio(cog_tiles[0])\n",
        "\n",
        "# calculate ndvi\n",
        "ndvi = ((img[3] - img[2]) / (img[3] + img[2]))\n",
        "\n",
        "fig, ax_arr = plt.subplots(1, 2, sharex=True, figsize=(20, 10))\n",
        "ax1, ax2 = ax_arr.ravel()\n",
        "img[[3,2,1]].plot.imshow(ax=ax1, vmin=0, vmax=3000)\n",
        "ax1.set_title(\"NGB\")\n",
        "ndvi.plot.imshow(ax=ax2, add_colorbar=False, vmin=-1, vmax=1)\n",
        "ax2.set_title(\"NIR\")\n",
        "None"
      ],
      "metadata": {
        "id": "oRXYgUpZXkou"
      },
      "execution_count": null,
      "outputs": []
    },
    {
      "cell_type": "markdown",
      "source": [
        "## Cluster an image\n",
        "\n",
        "Here we will use kmeans clustering to do an unsupervised classification of the imagery"
      ],
      "metadata": {
        "id": "kFKwlBkKWPyZ"
      }
    },
    {
      "cell_type": "markdown",
      "source": [
        "### Read in image\n",
        "\n",
        "We are collecting just the innermost 2000X2000 pixels of the image, removing the overlap between each tiles and its neighbor.\n"
      ],
      "metadata": {
        "id": "mFiCbzjfoxBG"
      }
    },
    {
      "cell_type": "code",
      "source": [
        "with rasterio.open(cog_tiles[0]) as src:\n",
        "    window = Window(179, 179, 2000, 2000)\n",
        "    dst_transform = src.window_transform(window)\n",
        "    dst_meta = src.meta.copy()\n",
        "\n",
        "    img = src.read(window=window)\n",
        "\n",
        "# Same thing, with rioxarray\n",
        "# img = rxr.open_rasterio(cog_tiles[0])\\\n",
        "#     .isel(x=slice(358, 2358), y=slice(358, 2358))\\\n",
        "#     .load()\n",
        "\n",
        "# get height and width of image\n",
        "_, h, w = img.shape\n",
        "\n"
      ],
      "metadata": {
        "id": "LyOw1uL6SAk9"
      },
      "execution_count": null,
      "outputs": []
    },
    {
      "cell_type": "markdown",
      "source": [
        "### Reshape and sample the data"
      ],
      "metadata": {
        "id": "Qgi1-8-lpFRo"
      }
    },
    {
      "cell_type": "markdown",
      "source": [
        "Kmeans needs the data values all in one row, with one column per band. For that we use a function to flatten the image."
      ],
      "metadata": {
        "id": "sCfFqb-UnaXZ"
      }
    },
    {
      "cell_type": "code",
      "source": [
        "def get_flat(array):\n",
        "    _, h, w = array.shape\n",
        "    data = np.empty((h * w, len(array)))\n",
        "    for i in range(len(array)):\n",
        "        data[:, i] = array[i, :, :].flatten()\n",
        "\n",
        "    return data"
      ],
      "metadata": {
        "id": "JZMq8QjUkmi0"
      },
      "execution_count": null,
      "outputs": []
    },
    {
      "cell_type": "markdown",
      "source": [
        "And then apply it to the data. We then sample 1000 observations from that dataset to provide some samples for training the model, as opposed to using all 4,000,000 * 4 values"
      ],
      "metadata": {
        "id": "m1jSwlWGkpnb"
      }
    },
    {
      "cell_type": "code",
      "source": [
        "data = get_flat(img).tolist()\n",
        "random.seed(1) # this makes sure the same random sample is collected\n",
        "data_sample = random.sample(data, 1000)\n",
        "print(f\"{len(data)} pixels in image, {len(data_sample)} pixels in sample\")"
      ],
      "metadata": {
        "id": "okOQwWY1SXcD"
      },
      "execution_count": null,
      "outputs": []
    },
    {
      "cell_type": "markdown",
      "source": [
        "### Fit the model and make a prediction\n",
        "Now let's fit the model. We will specify that there should be 7 clusters, or classes, identified."
      ],
      "metadata": {
        "id": "RMBJZaI5od0t"
      }
    },
    {
      "cell_type": "code",
      "source": [
        "# fit the model with a random_state value, to ensure reproducibility\n",
        "model = KMeans(n_clusters=7, random_state=1)\n",
        "model.fit(data_sample)"
      ],
      "metadata": {
        "id": "NAS9znWQSeJ7"
      },
      "execution_count": null,
      "outputs": []
    },
    {
      "cell_type": "markdown",
      "source": [
        "Run the prediction, applying to the full reshaped image data"
      ],
      "metadata": {
        "id": "AE6E3HGGpS8h"
      }
    },
    {
      "cell_type": "code",
      "source": [
        "out = model.predict(data).reshape((h, w)).astype(np.uint8)"
      ],
      "metadata": {
        "id": "_SL-fJhOVoeT"
      },
      "execution_count": null,
      "outputs": []
    },
    {
      "cell_type": "markdown",
      "source": [
        "Let's write the image out to a geotiff. We have to first prepare the necessary metadata, in terms of number of rows, height, and the spatial transform of the image. Note that when we read in the tile image initially, we collected image metadata in `dst_meta`, and collected the spatial transform for the subset of the image we captured using the `Window` function by applying the `window_transform` function.\n",
        "\n",
        "We update the `dst_meta` object with those values, and then write out the geotiff."
      ],
      "metadata": {
        "id": "T_Cn6RW9pcBo"
      }
    },
    {
      "cell_type": "code",
      "source": [
        "i = 0\n",
        "dst_meta[\"transform\"] = dst_transform\n",
        "dst_meta[\"height\"] = h\n",
        "dst_meta[\"width\"] = w\n",
        "dst_meta[\"count\"] = 1 # only one output band\n",
        "dst_meta[\"dtype\"] = np.uint8 # reduces the size of image on disk\n",
        "# dst_meta[\"nodata\"] = -128\n",
        "\n",
        "out_file = Path(analyses_dir) / f\"cluster7_{i}.tif\"\n",
        "with rasterio.open(out_file, \"w+\", **dst_meta) as dst:\n",
        "    dst.write(out, 1)"
      ],
      "metadata": {
        "id": "nUADKswhV2cr"
      },
      "execution_count": null,
      "outputs": []
    },
    {
      "cell_type": "markdown",
      "source": [
        "### Have a look\n",
        "\n",
        "We can look quickly at the output classification using `rasterio`'s `show` function."
      ],
      "metadata": {
        "id": "4qqRqoDnqkWu"
      }
    },
    {
      "cell_type": "code",
      "source": [
        "show(rasterio.open(out_file))\n",
        "None"
      ],
      "metadata": {
        "id": "8xB-_BG0rNX7"
      },
      "execution_count": null,
      "outputs": []
    },
    {
      "cell_type": "markdown",
      "source": [
        "Let's compare to the image using leafmap. Note, showing the cluster image might throw errors and fail to display--it worked previously but seems to now show an error related to more than one data type."
      ],
      "metadata": {
        "id": "FCGOOkviiSBg"
      }
    },
    {
      "cell_type": "code",
      "source": [
        "m = leafmap.Map()\n",
        "m.add_basemap()\n",
        "m.add_basemap(\"SATELLITE\")\n",
        "m.add_raster(cog_tiles[0], vmin=0, vmax=2500, layer_name=\"Tile\")\n",
        "m.add_raster(str(out_file), layer_name=\"Clusters\", palette=\"Spectral\",\n",
        "             vmin=0, vmax=7, zoom_to_layer=True)\n",
        "m"
      ],
      "metadata": {
        "id": "fmGo2DY6mUIX"
      },
      "execution_count": null,
      "outputs": []
    },
    {
      "cell_type": "markdown",
      "source": [
        "## Cluster all images\n",
        "\n",
        "We are now going to make a larger model that can cluster all the images, and then apply that to cluster all of the collected tiles."
      ],
      "metadata": {
        "id": "2K9IirgstChX"
      }
    },
    {
      "cell_type": "markdown",
      "source": [
        "### Collect samples from each image"
      ],
      "metadata": {
        "id": "mfUFoF2jtvEv"
      }
    },
    {
      "cell_type": "code",
      "source": [
        "data_samples = []\n",
        "for cog in cog_tiles:\n",
        "    print(f\"Processing {os.path.basename(cog)}\")\n",
        "    with rasterio.open(cog_tiles[0]) as src:\n",
        "        window = Window(179, 179, 2000, 2000)\n",
        "        img = src.read(window=window)\n",
        "\n",
        "    data = get_flat(img).tolist()\n",
        "    random.seed(1) # this makes sure the same random sample is collected\n",
        "    data_samples.extend(random.sample(data, 500))"
      ],
      "metadata": {
        "id": "k-Wo9fI0lrUI"
      },
      "execution_count": null,
      "outputs": []
    },
    {
      "cell_type": "markdown",
      "source": [
        "### Fit the model"
      ],
      "metadata": {
        "id": "5rqhjFgSvLuj"
      }
    },
    {
      "cell_type": "code",
      "source": [
        "model = KMeans(n_clusters=7, random_state=1)\n",
        "model.fit(data_samples)"
      ],
      "metadata": {
        "id": "qvjkUox4vV1J"
      },
      "execution_count": null,
      "outputs": []
    },
    {
      "cell_type": "markdown",
      "source": [
        "### Make a prediction on each image"
      ],
      "metadata": {
        "id": "96vzNxjGvaDy"
      }
    },
    {
      "cell_type": "code",
      "source": [
        "for i in range(len(cog_tiles)):\n",
        "# for i in range(2):\n",
        "    print(i)\n",
        "    with rasterio.open(cog_tiles[i]) as src:\n",
        "        window = Window(179, 179, 2000, 2000)\n",
        "        dst_transform = src.window_transform(window)\n",
        "        dst_meta = src.meta.copy()\n",
        "        img = src.read(window=window)\n",
        "\n",
        "    # get height and width of image\n",
        "    _, h, w = img.shape\n",
        "\n",
        "    # reshape\n",
        "    data = get_flat(img).tolist()\n",
        "\n",
        "    # predict\n",
        "    out = model.predict(data).reshape((h, w)).astype(np.uint8)\n",
        "\n",
        "    # write out\n",
        "    dst_meta[\"transform\"] = dst_transform\n",
        "    dst_meta[\"height\"] = h\n",
        "    dst_meta[\"width\"] = w\n",
        "    dst_meta[\"count\"] = 1 # only one output band\n",
        "    dst_meta[\"dtype\"] = np.uint8 # reduces the size of image on disk\n",
        "\n",
        "    out_file = str(Path(analyses_dir) / f\"cluster7_2_{i}.tif\")\n",
        "    with rasterio.open(out_file, \"w+\", **dst_meta) as dst:\n",
        "        dst.write(out, 1)\n"
      ],
      "metadata": {
        "id": "ZsCwbfqWvxCc"
      },
      "execution_count": null,
      "outputs": []
    },
    {
      "cell_type": "markdown",
      "source": [
        "### Mosaic and COGify the predictions\n"
      ],
      "metadata": {
        "id": "dC6SCsscxJCk"
      }
    },
    {
      "cell_type": "code",
      "source": [
        "from rasterio.merge import merge\n",
        "\n",
        "# get list of predictions\n",
        "cluster_files = [\n",
        "    f\"{analyses_dir}/{clust}\" for clust in os.listdir(analyses_dir)\n",
        "    if \"_2_\" in clust\n",
        "]\n",
        "\n",
        "# read them into a list\n",
        "files_to_mosaic = []\n",
        "for file in cluster_files:\n",
        "    src = rasterio.open(file)\n",
        "    files_to_mosaic.append(src)\n",
        "\n",
        "# mosaic/merge them\n",
        "mosaic, out_trans = merge(files_to_mosaic)\n",
        "\n",
        "# Update metadata and write to disk\n",
        "dst_meta = src.meta.copy()\n",
        "dst_meta.update({\n",
        "    \"height\": mosaic.shape[1],\n",
        "    \"width\": mosaic.shape[2],\n",
        "    \"transform\": out_trans\n",
        "    # \"count\": 1\n",
        "})\n",
        "\n",
        "out_file = str(Path(analyses_dir) / \"cluster7_mosaic.tif\")\n",
        "with rasterio.open(out_file, \"w\", **dst_meta) as dst:\n",
        "    dst.write(mosaic)\n"
      ],
      "metadata": {
        "id": "hszXq1VLz7MH"
      },
      "execution_count": null,
      "outputs": []
    },
    {
      "cell_type": "markdown",
      "source": [
        "COGify"
      ],
      "metadata": {
        "id": "3-574Q_L3L77"
      }
    },
    {
      "cell_type": "code",
      "source": [
        "cmd = ['rio', 'cogeo', 'create', '-b', '1', str(out_file), str(out_file)]\n",
        "p = run(cmd, capture_output=True)\n",
        "msg = p.stderr.decode().split('\\n')\n",
        "print(f'...{msg[-2]}')\n",
        "\n",
        "cmd = ['rio', 'cogeo', 'validate', str(out_file)]\n",
        "p = run(cmd, capture_output = True)\n",
        "msg = p.stdout.decode().split('\\n')\n",
        "print(f'...{msg[0]}')"
      ],
      "metadata": {
        "id": "PT-tx-Of4p1y"
      },
      "execution_count": null,
      "outputs": []
    },
    {
      "cell_type": "markdown",
      "source": [
        "### Inspect"
      ],
      "metadata": {
        "id": "7y22uNPzAQRv"
      }
    },
    {
      "cell_type": "code",
      "source": [
        "import re\n",
        "tids = [int(re.sub(\"tile\", \"\", os.path.basename(tile).split(\"_\")[0]))\n",
        "        for tile in cog_tiles]\n",
        "tiles = gpd.read_file(tile_path)"
      ],
      "metadata": {
        "id": "AmxnbU8sbgVs"
      },
      "execution_count": null,
      "outputs": []
    },
    {
      "cell_type": "code",
      "source": [
        "m = leafmap.Map()\n",
        "m.add_basemap()\n",
        "m.add_basemap(\"SATELLITE\")\n",
        "m.add_raster(str(out_file), layer_name=\"Clusters\", vmin=0, vmax=7,\n",
        "             palette=\"Spectral\", zoom_to_layer=True)\n",
        "m.add_gdf(tiles[tiles.tile.isin(tids)])\n",
        "m"
      ],
      "metadata": {
        "id": "J--LqSxDASKG"
      },
      "execution_count": null,
      "outputs": []
    },
    {
      "cell_type": "markdown",
      "source": [
        "## Segment an image\n",
        "\n",
        "We are going to use [SNIC](https://www.epfl.ch/labs/ivrl/research/snic-superpixels/), a segmentation algorithm, to segment the Planet tile.\n",
        "\n",
        "We are going to test it on just one image, as it can run rather slowly. SNIC requires the image to be reshaped from (band, row, col) to (row, col, band), so we will make use of the NIR, red, and green channels.\n",
        "\n",
        "As before we take a windowed read of the first input image, selecting bands 4,3,2 (note rasterio uses 1-based indexing for the bands), and apply the function `reshape_as_image` to place bands last.\n"
      ],
      "metadata": {
        "id": "gbdF6kKsXueY"
      }
    },
    {
      "cell_type": "code",
      "source": [
        "with rasterio.open(cog_tiles[0]) as src:\n",
        "    window = Window(179, 179, 2000, 2000)\n",
        "    dst_transform = src.window_transform(window)\n",
        "    dst_meta = src.meta.copy()\n",
        "    img = src.read([4,3,2], window=window)\n",
        "    print(f\"rasterio shape: {img.shape}\")\n",
        "\n",
        "img = reshape_as_image(img)\n",
        "print(f\"shape needed for SNIC: {img.shape}\")"
      ],
      "metadata": {
        "id": "xuaMkKyX_VBP"
      },
      "execution_count": null,
      "outputs": []
    },
    {
      "cell_type": "markdown",
      "source": [
        "Segment the image using SNIC, specifying that we want 2000 segments with a compactness of 10."
      ],
      "metadata": {
        "id": "NR7Annlah_lm"
      }
    },
    {
      "cell_type": "code",
      "source": [
        "segmentation, _, centroids = snic(img, 2000, 10)"
      ],
      "metadata": {
        "id": "S3QmU-JpyhwI"
      },
      "execution_count": null,
      "outputs": []
    },
    {
      "cell_type": "markdown",
      "source": [
        "Write the segmented image to a geotiff."
      ],
      "metadata": {
        "id": "Kngu98FFiQWj"
      }
    },
    {
      "cell_type": "code",
      "source": [
        "dst_meta[\"transform\"] = dst_transform\n",
        "dst_meta[\"height\"] = 2000\n",
        "dst_meta[\"width\"] = 2000\n",
        "dst_meta[\"count\"] = 1 # only one output band\n",
        "dst_meta[\"dtype\"] = np.int64 # reduces the size of image on disk\n",
        "\n",
        "i = 0\n",
        "out_file = Path(analyses_dir) / f\"segmentation_{i}.tif\"\n",
        "with rasterio.open(out_file, \"w+\", **dst_meta) as dst:\n",
        "    dst.write(np.array(segmentation), 1)"
      ],
      "metadata": {
        "id": "2zAsqnPGmKnh"
      },
      "execution_count": null,
      "outputs": []
    },
    {
      "cell_type": "markdown",
      "source": [
        "And plot"
      ],
      "metadata": {
        "id": "Mz34R1feiXZk"
      }
    },
    {
      "cell_type": "code",
      "source": [
        "fig, ax_arr = plt.subplots(1, 2, figsize=(20, 20))\n",
        "ax1, ax2 = ax_arr.ravel()\n",
        "show(rasterio.open(cog_tiles[0]).read([4,3,2], window=window),\n",
        "     adjust=True, ax=ax1)\n",
        "show(segmentation, ax=ax2)\n",
        "None"
      ],
      "metadata": {
        "id": "i-rcwdLfX-p_"
      },
      "execution_count": null,
      "outputs": []
    },
    {
      "cell_type": "markdown",
      "source": [
        "### On your own\n",
        "\n",
        "The segmented image provides a unique instance of different objects it detects in the image. Try work out how to combine the segments with the clusters such that you isolate segments representing a distinct class (e.g. the ones that looks most like crops)."
      ],
      "metadata": {
        "id": "jVi0MeefirvV"
      }
    }
  ]
}