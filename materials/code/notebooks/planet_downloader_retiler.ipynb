{
  "cells": [
    {
      "cell_type": "markdown",
      "metadata": {
        "id": "view-in-github",
        "colab_type": "text"
      },
      "source": [
        "<a href=\"https://colab.research.google.com/github/agroimpacts/nmeo/blob/class%2Ff2023/materials/code/notebooks/planet_downloader_retiler.ipynb\" target=\"_parent\"><img src=\"https://colab.research.google.com/assets/colab-badge.svg\" alt=\"Open In Colab\"/></a>"
      ]
    },
    {
      "cell_type": "markdown",
      "id": "13485195-32a6-4f6f-9196-6526f1464450",
      "metadata": {
        "id": "13485195-32a6-4f6f-9196-6526f1464450"
      },
      "source": [
        "## Downloading and preparing PlanetScope data"
      ]
    },
    {
      "cell_type": "markdown",
      "id": "7893a556-2e4a-4e9b-a31d-c805f419c323",
      "metadata": {
        "id": "7893a556-2e4a-4e9b-a31d-c805f419c323"
      },
      "source": [
        "This notebook provides instructions for working with selected samples to query the Planet API, download the necessary NICFI tiles by date, and then reprocess them into tiles defined by a different grid format."
      ]
    },
    {
      "cell_type": "markdown",
      "id": "99dc4ad3-6f60-4c0b-863b-6828923cfd39",
      "metadata": {
        "id": "99dc4ad3-6f60-4c0b-863b-6828923cfd39"
      },
      "source": [
        "## Requirements"
      ]
    },
    {
      "cell_type": "markdown",
      "source": [
        "### Files\n",
        "You will need one input file:\n",
        "\n",
        "- malawi_tiles_buf179.geojson\n",
        "\n",
        "This file is the one you will select a subset from to collect NICFI tiles, and then retile them. You will have to select an area of 5X5 tiles first.\n"
      ],
      "metadata": {
        "id": "eaJ2yBcOayFD"
      },
      "id": "eaJ2yBcOayFD"
    },
    {
      "cell_type": "markdown",
      "source": [
        "### Code\n",
        "You will first have to install the clone our `maputil` repository from GitHub, which can be collected done by running the code below (first we mount Drive)"
      ],
      "metadata": {
        "id": "aI_caF82a1-Y"
      },
      "id": "aI_caF82a1-Y"
    },
    {
      "cell_type": "code",
      "execution_count": null,
      "id": "919cd22c-4dfd-43df-bd70-8038c4e7a8dc",
      "metadata": {
        "id": "919cd22c-4dfd-43df-bd70-8038c4e7a8dc"
      },
      "outputs": [],
      "source": [
        "from google.colab import drive\n",
        "root = '/content/gdrive'\n",
        "drive.mount(root)"
      ]
    },
    {
      "cell_type": "markdown",
      "source": [
        "#### Clone and/or update maputil"
      ],
      "metadata": {
        "id": "LTeIIzT7i4if"
      },
      "id": "LTeIIzT7i4if"
    },
    {
      "cell_type": "code",
      "source": [
        "# from datetime import datetime as dt\n",
        "import os\n",
        "repo_path = f\"{root}/MyDrive/repos\"\n",
        "clone_path = 'https://github.com/agroimpacts/maputil.git'\n",
        "if not os.path.exists(repo_path):\n",
        "    print(f\"Making {repo_path}\")\n",
        "    os.makedirs(repo_path, exist_ok=True)\n",
        "\n",
        "if not os.path.exists(f\"{repo_path}/maputil\"):\n",
        "    !git -C \"{repo_path}\" clone \"{clone_path}\"\n",
        "else:\n",
        "    !git -C \"{repo_path}/maputil\" pull"
      ],
      "metadata": {
        "id": "wF_wdADMYf8r"
      },
      "id": "wF_wdADMYf8r",
      "execution_count": null,
      "outputs": []
    },
    {
      "cell_type": "markdown",
      "source": [
        "### Install and import other necessary packages"
      ],
      "metadata": {
        "id": "McjymlAuanWK"
      },
      "id": "McjymlAuanWK"
    },
    {
      "cell_type": "markdown",
      "id": "5ebf1453-bbb8-4b84-8729-d3598561af91",
      "metadata": {
        "id": "5ebf1453-bbb8-4b84-8729-d3598561af91"
      },
      "source": [
        "Having cloned that repo, you need want to include the python modules that are contained in it within the import statements."
      ]
    },
    {
      "cell_type": "code",
      "source": [
        "%%capture\n",
        "%pip install affine\n",
        "%pip install leafmap\n",
        "%pip install localtileserver\n",
        "%pip install leafmap\n",
        "%pip install boto3\n",
        "%pip install urllib3==2.0.3\n",
        "%pip install rio-cogeo\n",
        "#%pip install rioxarray"
      ],
      "metadata": {
        "id": "7hgDqciVa_Oj"
      },
      "id": "7hgDqciVa_Oj",
      "execution_count": null,
      "outputs": []
    },
    {
      "cell_type": "markdown",
      "source": [
        "Restart the runtime to enable changes to take effect"
      ],
      "metadata": {
        "id": "rH9Dp5wB17Nw"
      },
      "id": "rH9Dp5wB17Nw"
    },
    {
      "cell_type": "code",
      "execution_count": null,
      "id": "4a470334-f0fc-42cc-ad24-2b9698629f8f",
      "metadata": {
        "tags": [],
        "id": "4a470334-f0fc-42cc-ad24-2b9698629f8f"
      },
      "outputs": [],
      "source": [
        "import os\n",
        "root = '/content/gdrive'\n",
        "repo_path = f\"{root}/MyDrive/repos\"\n",
        "\n",
        "import sys\n",
        "import importlib\n",
        "from pathlib import Path\n",
        "import affine\n",
        "import pandas as pd\n",
        "import leafmap.leafmap as leafmap\n",
        "import localtileserver\n",
        "import geopandas as gpd\n",
        "import inspect\n",
        "from rasterio.plot import show\n",
        "\n",
        "sys.path.insert(0, repo_path)\n",
        "import maputil\n",
        "importlib.reload(maputil)\n",
        "from maputil.maputil import *\n"
      ]
    },
    {
      "cell_type": "markdown",
      "id": "b4b4e043-951e-4b70-88e8-b05e67edd133",
      "metadata": {
        "tags": [],
        "id": "b4b4e043-951e-4b70-88e8-b05e67edd133"
      },
      "source": [
        "## Set up the parameters to run the downloader"
      ]
    },
    {
      "cell_type": "markdown",
      "source": [
        "First, enter in the prompt below the path on Google Drive to a text file containing the Planet API key for your account. You can find that key by logging into your [Planet account](https://account.planet.com/) under the My Settings tab. Copy the key and save it into a simply text file (e.g. mykey.txt), which has only one line containing the key. This is safer than copying it into your notebook, where it might eventually become public."
      ],
      "metadata": {
        "id": "VPyv38NYn3M5"
      },
      "id": "VPyv38NYn3M5"
    },
    {
      "cell_type": "code",
      "source": [
        "#@title #### Enter path to Planet key\n",
        "x = input(\"Enter the path on Drive where your key is stored, \"\\\n",
        "          \"e.g. keys/mykey.txt: \")\n",
        "key_path = f\"{root}/MyDrive/{x}\"\n",
        "\n",
        "PLANET_API_KEY = open(key_path).read().strip()"
      ],
      "metadata": {
        "id": "AcaRYjIOorCj"
      },
      "id": "AcaRYjIOorCj",
      "execution_count": null,
      "outputs": []
    },
    {
      "cell_type": "markdown",
      "id": "ab84655a-5600-4099-9772-f884e831e77b",
      "metadata": {
        "id": "ab84655a-5600-4099-9772-f884e831e77b"
      },
      "source": [
        "The following parameters should be set for running the code.\n",
        "\n",
        "- API_URL_KEY: Provided\n",
        "- proj_path: The path where you want to place all files\n",
        "- quad_dir: The place to download Planet basemap quads\n",
        "- tile_dir: The place where tile clipped out of basemap quads will go\n",
        "- temp_dir: The place where temporary files to be made during clipping out the tile go\n",
        "- dst_width: The output width in pixels of the final PlanetScope tile (2368)\n",
        "- dst_height: The output width in pixels of the final PlanetScope tile (2368)\n",
        "- nbands: The number of output bands in the imagery (4)\n",
        "- dst_crs: The output coordinate reference system ('EPSG=4326')\n",
        "- tile_path: The path to the tile file provided for this exercise (malawi_tiles_full.geojson), which you can get [here](https://drive.google.com/file/d/1yTFp7IjvCVvPr9mBRD8L5PC20oGc_g5I/view?usp=sharing).\n",
        "\n",
        "Change the paths below to match those on your system."
      ]
    },
    {
      "cell_type": "code",
      "execution_count": null,
      "id": "eddadd8a-145d-4b16-8675-7fcb782f69d3",
      "metadata": {
        "tags": [],
        "id": "eddadd8a-145d-4b16-8675-7fcb782f69d3"
      },
      "outputs": [],
      "source": [
        "API_URL = 'https://api.planet.com/basemaps/v1/mosaics'\n",
        "\n",
        "# change the dest_path to the one you want\n",
        "proj_path = f\"{root}/MyDrive/data/nmeo\"  # main output path\n",
        "os.makedirs(proj_path, exist_ok=True)\n",
        "\n",
        "quad_dir = f\"{proj_path}/quads\"  # for downloaded NICFI quads\n",
        "tile_dir = f\"{proj_path}/tiles\"  # for output tiles\n",
        "temp_dir = f\"{proj_path}/temp\"   # temporary directory for intermediate outputs\n",
        "log_dir = f\"{proj_path}/logs\"  # directory for log files\n",
        "\n",
        "# output parameters for tiles\n",
        "dst_width = 2358\n",
        "dst_height = 2358\n",
        "nbands = 4\n",
        "dst_crs = 'EPSG:4326'\n",
        "\n",
        "tile_path = f\"{proj_path}/inputs/malawi_tiles_buf179.geojson\""
      ]
    },
    {
      "cell_type": "markdown",
      "source": [
        "# New Section"
      ],
      "metadata": {
        "id": "N8g4VwGzXL5d"
      },
      "id": "N8g4VwGzXL5d"
    },
    {
      "cell_type": "markdown",
      "id": "871058f7-5c64-4d00-8e3a-1b8a6a022ef7",
      "metadata": {
        "id": "871058f7-5c64-4d00-8e3a-1b8a6a022ef7"
      },
      "source": [
        "### Read in tile file and select sub-area\n",
        "\n",
        "Using the Malawi tiles"
      ]
    },
    {
      "cell_type": "markdown",
      "id": "11419ada-617c-4fa6-9ab0-23c5a8932735",
      "metadata": {
        "id": "11419ada-617c-4fa6-9ab0-23c5a8932735"
      },
      "source": [
        "We just want to collect the month and year information from the samples file, and add it to the tiles file. We also want to convert the month and year data to a single variable, for querying the Planet API"
      ]
    },
    {
      "cell_type": "code",
      "execution_count": null,
      "id": "f925f304-5384-4c58-b97f-ef6c05f6d88f",
      "metadata": {
        "tags": [],
        "id": "f925f304-5384-4c58-b97f-ef6c05f6d88f"
      },
      "outputs": [],
      "source": [
        "tiles = gpd.read_file(tile_path)\n",
        "tiles[tiles.columns[0:3]] = tiles[tiles.columns[0:3]].astype(int).astype(str)\n",
        "tiles.head()"
      ]
    },
    {
      "cell_type": "markdown",
      "source": [
        "View the tiles on the map, and then use the rectangle tool to select a small number of tiles (e.g. 10) anywhere in Malawi.  "
      ],
      "metadata": {
        "id": "YEqf3fFPrQzE"
      },
      "id": "YEqf3fFPrQzE"
    },
    {
      "cell_type": "code",
      "source": [
        "m = leafmap.Map()\n",
        "m.add_basemap()\n",
        "m.add_basemap(\"SATELLITE\")\n",
        "m.add_gdf(tiles, zoom_to_layer=True)\n",
        "m"
      ],
      "metadata": {
        "id": "uC9Qft3IibG_"
      },
      "id": "uC9Qft3IibG_",
      "execution_count": null,
      "outputs": []
    },
    {
      "cell_type": "markdown",
      "source": [
        "Save the polygon you draw to a geojson."
      ],
      "metadata": {
        "id": "4DDHO8HPriVZ"
      },
      "id": "4DDHO8HPriVZ"
    },
    {
      "cell_type": "code",
      "source": [
        "m.save_draw_features(f\"{proj_path}/inputs/aoi.geojson\")"
      ],
      "metadata": {
        "id": "p8s4NVoTkATc"
      },
      "id": "p8s4NVoTkATc",
      "execution_count": null,
      "outputs": []
    },
    {
      "cell_type": "markdown",
      "source": [
        "### Select the tiles using the AOI"
      ],
      "metadata": {
        "id": "RlBk1qiEkyfV"
      },
      "id": "RlBk1qiEkyfV"
    },
    {
      "cell_type": "code",
      "execution_count": null,
      "id": "817f9490-3646-491b-b52a-54ce49c89aa8",
      "metadata": {
        "id": "817f9490-3646-491b-b52a-54ce49c89aa8"
      },
      "outputs": [],
      "source": [
        "aoi = gpd.read_file(f\"{proj_path}/inputs/aoi.geojson\")\n",
        "tiles_aoi = tiles.sjoin(aoi)\\\n",
        "    .drop(columns=\"index_right\")\n",
        "tiles_aoi.shape"
      ]
    },
    {
      "cell_type": "code",
      "source": [
        "fig, ax = plt.subplots()\n",
        "tiles_aoi.boundary.plot(ax=ax)\n",
        "aoi.boundary.plot(ax=ax, color=\"red\")\n",
        "None"
      ],
      "metadata": {
        "id": "5UgAaq4qSGqZ"
      },
      "id": "5UgAaq4qSGqZ",
      "execution_count": null,
      "outputs": []
    },
    {
      "cell_type": "markdown",
      "id": "79011c78-6b5a-46ed-8696-753f55963280",
      "metadata": {
        "tags": [],
        "id": "79011c78-6b5a-46ed-8696-753f55963280"
      },
      "source": [
        "## Get the NICFI grid catalog for the tiles"
      ]
    },
    {
      "cell_type": "markdown",
      "id": "39e7b7e9-d17a-40bb-a0d4-d3757ec9132d",
      "metadata": {
        "id": "39e7b7e9-d17a-40bb-a0d4-d3757ec9132d"
      },
      "source": [
        "### Query the catalog\n",
        "\n",
        "Find the Planet basemap quads that intersect the selected tiles.\n",
        "We first create a function for defining the correct dates of imagery, which vary in terms of their length of monthly coverage. The date period has to be exact when querying the API to get the images back from Planet."
      ]
    },
    {
      "cell_type": "code",
      "execution_count": null,
      "id": "adbda418-2db2-4964-bcb0-dad13be6b88a",
      "metadata": {
        "id": "adbda418-2db2-4964-bcb0-dad13be6b88a"
      },
      "outputs": [],
      "source": [
        "def year_date(year, month):\n",
        "    if (year < \"2021\") & (month < \"06\"):\n",
        "        date = str(int(year)-1) + \"-12_\" + year + \"-05\"\n",
        "    elif (year < \"2020\") & (month == \"12\"):\n",
        "        date = year + \"-12_\" + str(int(year)+1) + \"-05\"\n",
        "    elif (year == \"2020\") & (month == \"12\"):\n",
        "        date = year + '-' + month\n",
        "    elif (year < \"2020\") & ((month >= \"06\") & (month < \"12\")):\n",
        "        date = year + \"-06_\" + year + \"-11\"\n",
        "    elif (year == \"2020\") & ((month >= \"06\") & (month < \"09\")):\n",
        "        date = year + \"-06_\" + year + \"-08\"\n",
        "    else:\n",
        "        date = year + '-' + month\n",
        "    return(date)"
      ]
    },
    {
      "cell_type": "markdown",
      "id": "1643d30f-6c0a-4b30-8e1a-51ceb4236bc1",
      "metadata": {
        "id": "1643d30f-6c0a-4b30-8e1a-51ceb4236bc1"
      },
      "source": [
        "Run the query, which will give you a list of GeoDataFrames containing the quad tile name, date, download URL, as well as the tile ID of the tiling grid we use here.\n",
        "\n",
        "But first specify the year and month(s) of interest. In this example, we are using June, 2021."
      ]
    },
    {
      "cell_type": "code",
      "source": [
        "date = year_date(\"2021\", \"06\")"
      ],
      "metadata": {
        "id": "JFV2qUBAmycP"
      },
      "id": "JFV2qUBAmycP",
      "execution_count": null,
      "outputs": []
    },
    {
      "cell_type": "markdown",
      "source": [
        "Then fetch the intersecting basemap quad grid."
      ],
      "metadata": {
        "id": "lZiIzTXozzOZ"
      },
      "id": "lZiIzTXozzOZ"
    },
    {
      "cell_type": "code",
      "execution_count": null,
      "id": "618a6135-4303-4b7a-8ab5-52b0ea19c9af",
      "metadata": {
        "id": "618a6135-4303-4b7a-8ab5-52b0ea19c9af"
      },
      "outputs": [],
      "source": [
        "pdl = planet_downloader.PlanetDownloader()\n",
        "quads_gdf, quads_url = pdl.get_basemap_grid(\n",
        "    PLANET_API_KEY, API_URL, dates=[date],\n",
        "    bbox=tiles_aoi.dissolve().iloc[0][\"geometry\"].bounds\n",
        ")"
      ]
    },
    {
      "cell_type": "code",
      "source": [
        "quads_gdf.head()"
      ],
      "metadata": {
        "id": "hQNYl-nEnhoY"
      },
      "id": "hQNYl-nEnhoY",
      "execution_count": null,
      "outputs": []
    },
    {
      "cell_type": "markdown",
      "id": "b3d6f2bf-3b71-4205-a729-bc228de8431b",
      "metadata": {
        "id": "b3d6f2bf-3b71-4205-a729-bc228de8431b"
      },
      "source": [
        "After iterating through the tile grid and querying the catalog, combine the results into a single GeoDataFrame, which you can save to a geojson, which lists the tiles you need to cover each grid.  "
      ]
    },
    {
      "cell_type": "markdown",
      "source": [
        "Now let's join the two catalogs, reorganize a bit and save to disk."
      ],
      "metadata": {
        "id": "LL_i3V9pn3Qq"
      },
      "id": "LL_i3V9pn3Qq"
    },
    {
      "cell_type": "code",
      "source": [
        "tiles_quads = tiles_aoi.sjoin(quads_gdf.rename(columns={\"tile\": \"quad\"}))\\\n",
        "    .drop(columns=\"index_right\")\\\n",
        "    .iloc[:,[0,4,5,6,3]]"
      ],
      "metadata": {
        "id": "BENsWdiqx6Xs"
      },
      "id": "BENsWdiqx6Xs",
      "execution_count": null,
      "outputs": []
    },
    {
      "cell_type": "code",
      "execution_count": null,
      "id": "6c729a66-7ed1-44ba-b763-a1c0ac98ac96",
      "metadata": {
        "tags": [],
        "id": "6c729a66-7ed1-44ba-b763-a1c0ac98ac96"
      },
      "outputs": [],
      "source": [
        "tiles_quads.to_file(\n",
        "    Path(proj_path) / \"tiles_quads.geojson\", driver=\"GeoJSON\"\n",
        ")\n",
        "# tiles_quads = gpd.read_file(\n",
        "#     Path(proj_path) / \"tiles_quads.geojson\", driver=\"GeoJSON\"\n",
        "# )\n"
      ]
    },
    {
      "cell_type": "markdown",
      "id": "0fad40d5-0e29-4402-ba6b-d5a5f8288f5c",
      "metadata": {
        "id": "0fad40d5-0e29-4402-ba6b-d5a5f8288f5c"
      },
      "source": [
        "## Download quads and retile"
      ]
    },
    {
      "cell_type": "markdown",
      "id": "2bad1134-8274-422c-bd17-082efe0bf8a6",
      "metadata": {
        "id": "2bad1134-8274-422c-bd17-082efe0bf8a6"
      },
      "source": [
        "Once you have the catalog, you can now start to download quads and retile them. However, we are first going to test downloading just one quad. We will first set up some directories"
      ]
    },
    {
      "cell_type": "code",
      "source": [
        "# set up tile and temporary directory\n",
        "if not os.path.isdir(tile_dir):\n",
        "    os.makedirs(tile_dir)\n",
        "if not os.path.isdir(quad_dir):\n",
        "    os.makedirs(quad_dir)\n",
        "if not os.path.isdir(temp_dir):\n",
        "    os.makedirs(temp_dir)"
      ],
      "metadata": {
        "id": "JH-tt9VA1ICo"
      },
      "id": "JH-tt9VA1ICo",
      "execution_count": null,
      "outputs": []
    },
    {
      "cell_type": "markdown",
      "source": [
        "### Download a single quad"
      ],
      "metadata": {
        "id": "S3fA08FKw9ri"
      },
      "id": "S3fA08FKw9ri"
    },
    {
      "cell_type": "markdown",
      "source": [
        "Next, we will query the catalog we have created to see which tiles intersect just a single quad (they can intersect up to 4)"
      ],
      "metadata": {
        "id": "Krzg2-Aw1L8v"
      },
      "id": "Krzg2-Aw1L8v"
    },
    {
      "cell_type": "code",
      "source": [
        "quad_counts = tiles_quads[[\"tile\", \"quad\"]]\\\n",
        "    .groupby(\"tile\")\\\n",
        "    .count()\\\n",
        "    .reset_index()\n",
        "\n",
        "quad_counts.query(\"quad==1\")"
      ],
      "metadata": {
        "id": "qUfP4XGM1Uvd"
      },
      "id": "qUfP4XGM1Uvd",
      "execution_count": null,
      "outputs": []
    },
    {
      "cell_type": "markdown",
      "source": [
        "Let's use the first one, 927486. We need to select that row from the DataFrame, build a download url, and then download it"
      ],
      "metadata": {
        "id": "5RkMSs4Q2uf1"
      },
      "id": "5RkMSs4Q2uf1"
    },
    {
      "cell_type": "code",
      "execution_count": null,
      "id": "a8835f30-253a-458d-91f6-8ce9b9109782",
      "metadata": {
        "id": "a8835f30-253a-458d-91f6-8ce9b9109782"
      },
      "outputs": [],
      "source": [
        "# quad to download\n",
        "tid = quad_counts.query(\"quad==1\")['tile'].iloc[0]\n",
        "tiles_quads_ss = tiles_quads[tiles_quads.tile==tid]\n",
        "download_url = f\"{quads_url}/<id>/full?api_key={PLANET_API_KEY}\"\n",
        "\n",
        "link = get_quad_download_url(download_url, tiles_quads_ss.quad.iloc[0])\n",
        "filename = f\"{quad_dir}/{tiles_quads_ss.file.iloc[0]}.tif\"\n",
        "download_tiles_helper(link, filename)"
      ]
    },
    {
      "cell_type": "markdown",
      "source": [
        "### Retile it"
      ],
      "metadata": {
        "id": "XnlyDppFwtsQ"
      },
      "id": "XnlyDppFwtsQ"
    },
    {
      "cell_type": "code",
      "source": [
        "# Grab portion of quads that tile intersects and reproject/retile to that\n",
        "transform = dst_transform(tiles_quads_ss)\n",
        "dst_img = f\"{tile_dir}/tile{tid}_{tiles_quads_ss['date'].iloc[0]}\" +\\\n",
        "    f\"_buf{int((dst_width-2000)/2)}.tif\"\n",
        "dst_cog = re.sub('.tif', '_cog.tif', dst_img)\n",
        "\n",
        "filename = f'{quad_dir}/{tiles_quads_ss[\"file\"].iloc[0]}.tif'\n",
        "\n",
        "# # run retiler\n",
        "if not os.path.isfile(dst_img) or not os.path.isfile(dst_cog):\n",
        "    reproject_retile_image(\n",
        "        filename, transform, dst_width, dst_height, nbands, dst_crs,\n",
        "        dst_img, temp_dir, dst_dtype = np.int16, inmemory = False,\n",
        "        cleanup=True\n",
        "    )"
      ],
      "metadata": {
        "id": "eJHZJ3x7xgUP"
      },
      "id": "eJHZJ3x7xgUP",
      "execution_count": null,
      "outputs": []
    },
    {
      "cell_type": "markdown",
      "source": [
        "### COG-ify it"
      ],
      "metadata": {
        "id": "w7VuWxnQ5ajr"
      },
      "id": "w7VuWxnQ5ajr"
    },
    {
      "cell_type": "code",
      "source": [
        "# create COG from tile\n",
        "cmd = ['rio', 'cogeo', 'create', '-b', '1,2,3,4', dst_img, dst_cog]\n",
        "p = run(cmd, capture_output=True)\n",
        "msg = p.stderr.decode().split('\\n')\n",
        "print(f'...{msg[-2]}')\n",
        "\n",
        "cmd = ['rio', 'cogeo', 'validate', dst_cog]\n",
        "p = run(cmd, capture_output = True)\n",
        "msg = p.stdout.decode().split('\\n')\n",
        "print(f'...{msg[0]}')"
      ],
      "metadata": {
        "id": "FaKTXTv2yDKa"
      },
      "id": "FaKTXTv2yDKa",
      "execution_count": null,
      "outputs": []
    },
    {
      "cell_type": "markdown",
      "source": [
        "Let's have a look at it"
      ],
      "metadata": {
        "id": "NJ3RhmkP6XqI"
      },
      "id": "NJ3RhmkP6XqI"
    },
    {
      "cell_type": "code",
      "source": [
        "m = leafmap.Map()\n",
        "m.add_basemap()\n",
        "m.add_basemap(\"SATELLITE\")\n",
        "# m.add_raster(filename)\n",
        "m.add_raster(dst_cog, layer_name=\"Retiled Planet\")\n",
        "m.add_gdf(tiles_quads, zoom_to_layer=True, layer_name=\"Tile\")\n",
        "m"
      ],
      "metadata": {
        "id": "MMO3NixtyDj6"
      },
      "id": "MMO3NixtyDj6",
      "execution_count": null,
      "outputs": []
    },
    {
      "cell_type": "markdown",
      "source": [
        "### Download and retile multiple quads\n",
        "\n",
        "For the case when one of our tiles overlaps The code below shows how to find which tiles overlap the largest number of different Planet quads."
      ],
      "metadata": {
        "id": "EZluS4NE5qOZ"
      },
      "id": "EZluS4NE5qOZ"
    },
    {
      "cell_type": "code",
      "source": [
        "quad_counts.query(\"quad==quad.max()\")"
      ],
      "metadata": {
        "id": "JrKDGRW171IV"
      },
      "id": "JrKDGRW171IV",
      "execution_count": null,
      "outputs": []
    },
    {
      "cell_type": "markdown",
      "source": [
        "We'll use it in an updated version of the code above to download the quads"
      ],
      "metadata": {
        "id": "fhqU38-pO-nv"
      },
      "id": "fhqU38-pO-nv"
    },
    {
      "cell_type": "code",
      "source": [
        "# Block #1\n",
        "# download_url template and variable for output file names\n",
        "filenames = []\n",
        "download_url = f\"{quads_url}/<id>/full?api_key={PLANET_API_KEY}\"\n",
        "\n",
        "# quad to download\n",
        "tid = quad_counts.query(\"quad==quad.max()\")['tile'].iloc[0]\n",
        "tiles_quads_ss = tiles_quads[tiles_quads.tile==tid]\n",
        "poly = tiles[tiles.tile==tid]"
      ],
      "metadata": {
        "id": "P1jvtjFnMqjk"
      },
      "id": "P1jvtjFnMqjk",
      "execution_count": null,
      "outputs": []
    },
    {
      "cell_type": "markdown",
      "source": [
        "Since there is more than one quad to download, we will iterate over them in a loop"
      ],
      "metadata": {
        "id": "Jhp-NL_ERnKE"
      },
      "id": "Jhp-NL_ERnKE"
    },
    {
      "cell_type": "code",
      "source": [
        "# Block # 2\n",
        "# download each quad in a loop\n",
        "for i, row in tiles_quads_ss.iterrows():\n",
        "    print(i)\n",
        "    link = get_quad_download_url(download_url, row['quad'])\n",
        "    filename = f\"{quad_dir}/{row['file']}.tif\"\n",
        "    filenames.append(filename)\n",
        "    download_tiles_helper(link, filename)"
      ],
      "metadata": {
        "id": "gji3617VR3XE"
      },
      "id": "gji3617VR3XE",
      "execution_count": null,
      "outputs": []
    },
    {
      "cell_type": "markdown",
      "source": [
        "We can use the code below to see how the tile boundary intersects the quad footprints"
      ],
      "metadata": {
        "id": "KnJfF9IBW5MR"
      },
      "id": "KnJfF9IBW5MR"
    },
    {
      "cell_type": "code",
      "source": [
        "# make polygons out of the quad extents\n",
        "polygons = []\n",
        "for file in filenames:\n",
        "    with rasterio.open(file) as src:\n",
        "        bounds = src.bounds\n",
        "        polygon = box(bounds.left, bounds.bottom, bounds.right, bounds.top)\n",
        "        polygons.append(gpd.GeoDataFrame({'geometry': [polygon]}))\n",
        "\n",
        "quad_polys = pd.concat(polygons)\\\n",
        "    .set_crs(src.crs)\\\n",
        "    .to_crs(4326)\\\n",
        "\n",
        "# plot the tile and quad boundaries\n",
        "fig, ax = plt.subplots()\n",
        "quad_polys.boundary.plot(ax=ax)\n",
        "poly.boundary.plot(ax=ax, color=\"red\")\n",
        "None"
      ],
      "metadata": {
        "id": "K-3TgLCDSVQR"
      },
      "id": "K-3TgLCDSVQR",
      "execution_count": null,
      "outputs": []
    },
    {
      "cell_type": "markdown",
      "source": [
        "Now let's make our tile out of the quads"
      ],
      "metadata": {
        "id": "RWoFfsUmTTgQ"
      },
      "id": "RWoFfsUmTTgQ"
    },
    {
      "cell_type": "code",
      "source": [
        "# Block 3\n",
        "transform = dst_transform(poly)\n",
        "\n",
        "dst_img = f\"{tile_dir}/tile{tid}_{row['date']}\" +\\\n",
        "        f\"_buf{int((dst_width-2000)/2)}.tif\"\n",
        "dst_cog = re.sub('.tif', '_cog.tif', dst_img)\n",
        "\n",
        "# run retiler\n",
        "if not os.path.isfile(dst_img) or not os.path.isfile(dst_cog):\n",
        "    reproject_retile_image(\n",
        "        filenames, transform, dst_width, dst_height, nbands, dst_crs,\n",
        "        dst_img, temp_dir, dst_dtype = np.int16, inmemory = False,\n",
        "        cleanup=True\n",
        "    )\n",
        "\n",
        "if not os.path.isfile(dst_cog):\n",
        "\n",
        "    # create COG from tile\n",
        "    cmd = ['rio', 'cogeo', 'create', '-b', '1,2,3,4', dst_img, dst_cog]\n",
        "    p = run(cmd, capture_output=True)\n",
        "    msg = p.stderr.decode().split('\\n')\n",
        "    print(f'...{msg[-2]}')\n",
        "\n",
        "    cmd = ['rio', 'cogeo', 'validate', dst_cog]\n",
        "    p = run(cmd, capture_output = True)\n",
        "    msg = p.stdout.decode().split('\\n')\n",
        "    print(f'...{msg[0]}')\n",
        "\n",
        "# clean up\n",
        "if os.path.exists(dst_cog):\n",
        "    if os.path.exists(dst_img):\n",
        "        os.remove(dst_img)"
      ],
      "metadata": {
        "id": "AqkOFNB0TrPw"
      },
      "id": "AqkOFNB0TrPw",
      "execution_count": null,
      "outputs": []
    },
    {
      "cell_type": "markdown",
      "source": [
        "Let's look at it now"
      ],
      "metadata": {
        "id": "8Ixk55F-Ymok"
      },
      "id": "8Ixk55F-Ymok"
    },
    {
      "cell_type": "code",
      "source": [
        "# doesn't work for now\n",
        "m = leafmap.Map()\n",
        "m.add_basemap(\"SATELLITE\")\n",
        "m.add_gdf(poly, zoom_to_layer=True, layer_name=\"Tiles\")\n",
        "m.add_gdf(quad_polys, layer_name=\"Quads\")\n",
        "m.add_raster(dst_cog, layer_name=\"Retiled Planet\")\n",
        "m"
      ],
      "metadata": {
        "id": "p3Syx6D6V_P6"
      },
      "id": "p3Syx6D6V_P6",
      "execution_count": null,
      "outputs": []
    },
    {
      "cell_type": "code",
      "source": [
        "# use this instead\n",
        "fig, ax = plt.subplots()\n",
        "show(rasterio.open(dst_cog), ax=ax, adjust=True)\n",
        "quad_polys.boundary.plot(ax=ax)\n",
        "None"
      ],
      "metadata": {
        "id": "Fuyb3W8zaEnT"
      },
      "id": "Fuyb3W8zaEnT",
      "execution_count": null,
      "outputs": []
    },
    {
      "cell_type": "markdown",
      "source": [
        "### Exercise\n",
        "\n",
        "Process all the tiles in your `tiles_quads` GeoDataFrame, by combining and adapting the code from Blocks 1, 2, and 3 above."
      ],
      "metadata": {
        "id": "dQhDNo1Fe0uf"
      },
      "id": "dQhDNo1Fe0uf"
    },
    {
      "cell_type": "markdown",
      "source": [
        "Answer"
      ],
      "metadata": {
        "id": "TWH_eNKC2wQR"
      },
      "id": "TWH_eNKC2wQR"
    },
    {
      "cell_type": "code",
      "source": [
        "tids = list(tiles_quads.tile.unique())\n",
        "tids"
      ],
      "metadata": {
        "id": "Ge6lcupVc2ry"
      },
      "id": "Ge6lcupVc2ry",
      "execution_count": null,
      "outputs": []
    },
    {
      "cell_type": "code",
      "source": [
        "# Getting started\n",
        "download_url = f\"{quads_url}/<id>/full?api_key={PLANET_API_KEY}\"\n",
        "\n",
        "tids = list(tiles_quads.tile.unique())\n",
        "for tid in tids:\n",
        "    print(f\"Processing {tid}\")\n",
        "\n",
        "    # quad to download and tile boundary\n",
        "    tiles_quads_ss = tiles_quads[tiles_quads.tile==tid]\n",
        "    poly = tiles[tiles.tile==tid]\n",
        "\n",
        "    # download each quad in a loop\n",
        "    print(f\".downloading {tiles_quads_ss.shape[0]} quads\")\n",
        "    filenames = []\n",
        "    for i, row in tiles_quads_ss.iterrows():\n",
        "        print(i)\n",
        "        link = get_quad_download_url(download_url, row['quad'])\n",
        "        filename = f\"{quad_dir}/{row['file']}.tif\"\n",
        "        filenames.append(filename)\n",
        "        download_tiles_helper(link, filename)\n",
        "\n",
        "    # reproject/retile\n",
        "    print(f\"./retiling\")\n",
        "    transform = dst_transform(poly)\n",
        "    dst_img = f\"{tile_dir}/tile{tid}_{row['date']}\" +\\\n",
        "            f\"_buf{int((dst_width-2000)/2)}.tif\"\n",
        "    dst_cog = re.sub('.tif', '_cog.tif', dst_img)\n",
        "\n",
        "    # run retiler\n",
        "    if not os.path.isfile(dst_img) or not os.path.isfile(dst_cog):\n",
        "        reproject_retile_image(\n",
        "            filenames, transform, dst_width, dst_height, nbands, dst_crs,\n",
        "            dst_img, temp_dir, dst_dtype = np.int16, inmemory = False,\n",
        "            cleanup=True\n",
        "        )\n",
        "\n",
        "    # COGify\n",
        "    print(f\".COG-ifying\")\n",
        "    if not os.path.isfile(dst_cog):\n",
        "\n",
        "        # create COG from tile\n",
        "        cmd = ['rio', 'cogeo', 'create', '-b', '1,2,3,4', dst_img, dst_cog]\n",
        "        p = run(cmd, capture_output=True)\n",
        "        msg = p.stderr.decode().split('\\n')\n",
        "        # print(f'...{msg[-2]}')\n",
        "\n",
        "        cmd = ['rio', 'cogeo', 'validate', dst_cog]\n",
        "        p = run(cmd, capture_output = True)\n",
        "        msg = p.stdout.decode().split('\\n')\n",
        "        print(f'...{msg[0]}')\n",
        "\n",
        "    # clean up\n",
        "    print(f\".tidying\")\n",
        "    if os.path.exists(dst_cog):\n",
        "        if os.path.exists(dst_img):\n",
        "            os.remove(dst_img)"
      ],
      "metadata": {
        "id": "2dXKfgEUfp6m"
      },
      "id": "2dXKfgEUfp6m",
      "execution_count": null,
      "outputs": []
    },
    {
      "cell_type": "markdown",
      "source": [
        "Check tiles"
      ],
      "metadata": {
        "id": "OfJOCmEpy9OE"
      },
      "id": "OfJOCmEpy9OE"
    },
    {
      "cell_type": "code",
      "source": [
        "cog_tiles = [f\"{tile_dir}/{tile}\" for tile in os.listdir(tile_dir)\n",
        "             if \".xml\" not in tile]\n",
        "cog_tiles\n",
        "# [f for f in cog_tiles if \".xml\" not in f]"
      ],
      "metadata": {
        "id": "kqVTpT1sy9yN"
      },
      "id": "kqVTpT1sy9yN",
      "execution_count": null,
      "outputs": []
    },
    {
      "cell_type": "code",
      "source": [
        "import random\n",
        "\n",
        "# randomly select a tile\n",
        "# rand_tile = random.choice(cog_tiles)\n",
        "with rasterio.open(rand_tile) as src:\n",
        "    img = src.read()\n",
        "\n",
        "# get its 1st and 99th percentile values\n",
        "mins = [np.percentile(img[i], 1) for i in range(4)]\n",
        "mins.reverse()\n",
        "maxs = [np.percentile(img[i], 99) for i in range(4)]\n",
        "maxs.reverse()\n",
        "\n",
        "# plot it\n",
        "m = leafmap.Map()\n",
        "m.add_basemap()\n",
        "m.add_basemap(\"SATELLITE\")\n",
        "m.add_raster(rand_tile, bands=[3,2,1], vmin=mins[1:4],\n",
        "             vmax=maxs[1:4], layer_name=\"Retiled Planet\")\n",
        "m.add_raster(rand_tile, bands=[3,2,1], layer_name=\"Retiled Planet no stretch\")\n",
        "\n",
        "m.add_gdf(tiles_quads, zoom_to_layer=True, layer_name=\"Tile\")\n",
        "m"
      ],
      "metadata": {
        "id": "248J5Seu3Ajf"
      },
      "id": "248J5Seu3Ajf",
      "execution_count": null,
      "outputs": []
    }
  ],
  "metadata": {
    "kernelspec": {
      "display_name": "Python 3 (ipykernel)",
      "language": "python",
      "name": "python3"
    },
    "language_info": {
      "codemirror_mode": {
        "name": "ipython",
        "version": 3
      },
      "file_extension": ".py",
      "mimetype": "text/x-python",
      "name": "python",
      "nbconvert_exporter": "python",
      "pygments_lexer": "ipython3",
      "version": "3.9.16"
    },
    "colab": {
      "provenance": [],
      "toc_visible": true,
      "include_colab_link": true
    }
  },
  "nbformat": 4,
  "nbformat_minor": 5
}