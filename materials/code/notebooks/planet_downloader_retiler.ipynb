{
  "cells": [
    {
      "cell_type": "markdown",
      "metadata": {
        "id": "view-in-github",
        "colab_type": "text"
      },
      "source": [
        "<a href=\"https://colab.research.google.com/github/agroimpacts/nmeo/blob/class%2Ff2023/materials/code/notebooks/planet_downloader_retiler.ipynb\" target=\"_parent\"><img src=\"https://colab.research.google.com/assets/colab-badge.svg\" alt=\"Open In Colab\"/></a>"
      ]
    },
    {
      "cell_type": "markdown",
      "id": "13485195-32a6-4f6f-9196-6526f1464450",
      "metadata": {
        "id": "13485195-32a6-4f6f-9196-6526f1464450"
      },
      "source": [
        "## Downloading and preparing PlanetScope data"
      ]
    },
    {
      "cell_type": "markdown",
      "id": "7893a556-2e4a-4e9b-a31d-c805f419c323",
      "metadata": {
        "id": "7893a556-2e4a-4e9b-a31d-c805f419c323"
      },
      "source": [
        "This notebook provides instructions for working with selected samples to query the Planet API, download the necessary NICFI tiles by date, and then reprocess them into tiles defined by a different grid format."
      ]
    },
    {
      "cell_type": "markdown",
      "id": "99dc4ad3-6f60-4c0b-863b-6828923cfd39",
      "metadata": {
        "id": "99dc4ad3-6f60-4c0b-863b-6828923cfd39"
      },
      "source": [
        "## Requirements"
      ]
    },
    {
      "cell_type": "markdown",
      "source": [
        "### Files\n",
        "You will need one input file:\n",
        "\n",
        "- malawi_tiles_buf179.geojson\n",
        "\n",
        "This file is the one you will select a subset from to collect NICFI tiles, and then retile them. You will have to select an area of 5X5 tiles first.\n"
      ],
      "metadata": {
        "id": "eaJ2yBcOayFD"
      },
      "id": "eaJ2yBcOayFD"
    },
    {
      "cell_type": "markdown",
      "source": [
        "### Code\n",
        "You will first have to install the clone our `maputil` repository from GitHub, which can be collected done by running the code below (first we mount Drive)"
      ],
      "metadata": {
        "id": "aI_caF82a1-Y"
      },
      "id": "aI_caF82a1-Y"
    },
    {
      "cell_type": "code",
      "execution_count": 2,
      "id": "919cd22c-4dfd-43df-bd70-8038c4e7a8dc",
      "metadata": {
        "id": "919cd22c-4dfd-43df-bd70-8038c4e7a8dc",
        "colab": {
          "base_uri": "https://localhost:8080/"
        },
        "outputId": "77b29509-58a4-43d2-dbc5-c1f9fa14353e"
      },
      "outputs": [
        {
          "output_type": "stream",
          "name": "stdout",
          "text": [
            "Mounted at /content/gdrive\n"
          ]
        }
      ],
      "source": [
        "from google.colab import drive\n",
        "root = '/content/gdrive'\n",
        "drive.mount(root)"
      ]
    },
    {
      "cell_type": "markdown",
      "source": [
        "#### Clone and/or update maputil"
      ],
      "metadata": {
        "id": "LTeIIzT7i4if"
      },
      "id": "LTeIIzT7i4if"
    },
    {
      "cell_type": "code",
      "source": [
        "# from datetime import datetime as dt\n",
        "repo_path = f\"{root}/MyDrive/repos\"\n",
        "clone_path = 'https://github.com/agroimpacts/maputil.git'\n",
        "if not os.path.exists(repo_path):\n",
        "    print(f\"Making {repo_path}\")\n",
        "    os.makedirs(repo_path, exist_ok=True)\n",
        "\n",
        "if not os.path.exists(f\"{repo_path}/maputil\"):\n",
        "    !git -C \"{repo_path}\" clone \"{clone_path}\"\n",
        "else:\n",
        "    !git -C \"{repo_path}/maputil\" pull"
      ],
      "metadata": {
        "colab": {
          "base_uri": "https://localhost:8080/"
        },
        "id": "wF_wdADMYf8r",
        "outputId": "a9e3e5fa-821c-429a-a948-4c0fdf127998"
      },
      "id": "wF_wdADMYf8r",
      "execution_count": 3,
      "outputs": [
        {
          "output_type": "stream",
          "name": "stdout",
          "text": [
            "Already up to date.\n"
          ]
        }
      ]
    },
    {
      "cell_type": "markdown",
      "source": [
        "### Install and import other necessary packages"
      ],
      "metadata": {
        "id": "McjymlAuanWK"
      },
      "id": "McjymlAuanWK"
    },
    {
      "cell_type": "markdown",
      "id": "5ebf1453-bbb8-4b84-8729-d3598561af91",
      "metadata": {
        "id": "5ebf1453-bbb8-4b84-8729-d3598561af91"
      },
      "source": [
        "Having cloned that repo, you need want to include the python modules that are contained in it within the import statements."
      ]
    },
    {
      "cell_type": "code",
      "source": [
        "%%capture\n",
        "%pip install affine\n",
        "%pip install leafmap\n",
        "%pip install localtileserver\n",
        "%pip install leafmap\n",
        "%pip install boto3\n",
        "%pip install urllib3==2.0.3\n",
        "%pip install rio-cogeo\n",
        "#%pip install rioxarray"
      ],
      "metadata": {
        "id": "7hgDqciVa_Oj"
      },
      "id": "7hgDqciVa_Oj",
      "execution_count": 4,
      "outputs": []
    },
    {
      "cell_type": "markdown",
      "source": [
        "Restart the runtime to enable changes to take effect"
      ],
      "metadata": {
        "id": "rH9Dp5wB17Nw"
      },
      "id": "rH9Dp5wB17Nw"
    },
    {
      "cell_type": "code",
      "execution_count": 4,
      "id": "4a470334-f0fc-42cc-ad24-2b9698629f8f",
      "metadata": {
        "tags": [],
        "id": "4a470334-f0fc-42cc-ad24-2b9698629f8f"
      },
      "outputs": [],
      "source": [
        "import os\n",
        "root = '/content/gdrive'\n",
        "repo_path = f\"{root}/MyDrive/repos\"\n",
        "\n",
        "# os.chdir(f\"{repo_path}/maputil\")\n",
        "import sys\n",
        "import importlib\n",
        "from pathlib import Path\n",
        "import affine\n",
        "import pandas as pd\n",
        "# import rioxarray as rxr\n",
        "import leafmap.leafmap as leafmap\n",
        "import localtileserver\n",
        "import geopandas as gpd\n",
        "import inspect\n",
        "from rasterio.plot import show\n",
        "# from botocore.utils import PROTOCOL_TLS\n",
        "\n",
        "libpath = f\"{repo_path}\"\n",
        "sys.path.insert(0, libpath)\n",
        "import maputil\n",
        "importlib.reload(maputil)\n",
        "# importlib.reload(maputil.utils)\n",
        "from maputil.maputil import *\n"
      ]
    },
    {
      "cell_type": "markdown",
      "id": "b4b4e043-951e-4b70-88e8-b05e67edd133",
      "metadata": {
        "tags": [],
        "id": "b4b4e043-951e-4b70-88e8-b05e67edd133"
      },
      "source": [
        "## Set up the parameters to run the downloader"
      ]
    },
    {
      "cell_type": "markdown",
      "source": [
        "First, enter in the prompt below the path on Google Drive to a text file containing the Planet API key for your account. You can find that key by logging into your [Planet account](https://account.planet.com/) under the My Settings tab. Copy the key and save it into a simply text file (e.g. mykey.txt), which has only one line containing the key. This is safer than copying it into your notebook, where it might eventually become public."
      ],
      "metadata": {
        "id": "VPyv38NYn3M5"
      },
      "id": "VPyv38NYn3M5"
    },
    {
      "cell_type": "code",
      "source": [
        "#@title #### Enter path to Planet key\n",
        "x = input(\"Enter the path on Drive where your key is stored, \"\\\n",
        "          \"e.g. keys/mykey.txt: \")\n",
        "key_path = f\"{root}/MyDrive/{x}\"\n",
        "\n",
        "PLANET_API_KEY = open(key_path).read().strip()"
      ],
      "metadata": {
        "cellView": "form",
        "id": "AcaRYjIOorCj"
      },
      "id": "AcaRYjIOorCj",
      "execution_count": null,
      "outputs": []
    },
    {
      "cell_type": "markdown",
      "id": "ab84655a-5600-4099-9772-f884e831e77b",
      "metadata": {
        "id": "ab84655a-5600-4099-9772-f884e831e77b"
      },
      "source": [
        "The following parameters should be set for running the code.\n",
        "\n",
        "- API_URL_KEY: Provided\n",
        "- proj_path: The path where you want to place all files\n",
        "- quad_dir: The place to download Planet basemap quads\n",
        "- tile_dir: The place where tile clipped out of basemap quads will go\n",
        "- temp_dir: The place where temporary files to be made during clipping out the tile go\n",
        "- dst_width: The output width in pixels of the final PlanetScope tile (2368)\n",
        "- dst_height: The output width in pixels of the final PlanetScope tile (2368)\n",
        "- nbands: The number of output bands in the imagery (4)\n",
        "- dst_crs: The output coordinate reference system ('EPSG=4326')\n",
        "- tile_path: The path to the tile file provided for this exercise (malawi_tiles_full.geojson), which you can get [here](https://drive.google.com/file/d/1yTFp7IjvCVvPr9mBRD8L5PC20oGc_g5I/view?usp=sharing).\n",
        "\n",
        "Change the paths below to match those on your system."
      ]
    },
    {
      "cell_type": "code",
      "execution_count": 6,
      "id": "eddadd8a-145d-4b16-8675-7fcb782f69d3",
      "metadata": {
        "tags": [],
        "id": "eddadd8a-145d-4b16-8675-7fcb782f69d3"
      },
      "outputs": [],
      "source": [
        "API_URL = 'https://api.planet.com/basemaps/v1/mosaics'\n",
        "\n",
        "# change the dest_path to the one you want\n",
        "proj_path = f\"{root}/MyDrive/data/nmeo\"  # main output path\n",
        "os.makedirs(proj_path, exist_ok=True)\n",
        "\n",
        "quad_dir = f\"{proj_path}/quads\"  # for downloaded NICFI quads\n",
        "tile_dir = f\"{proj_path}/tiles\"  # for output tiles\n",
        "temp_dir = f\"{proj_path}/temp\"   # temporary directory for intermediate outputs\n",
        "log_dir = f\"{proj_path}/logs\"  # directory for log files\n",
        "\n",
        "# output parameters for tiles\n",
        "dst_width = 2358\n",
        "dst_height = 2358\n",
        "nbands = 4\n",
        "dst_crs = 'EPSG:4326'\n",
        "\n",
        "tile_path = f\"{proj_path}/inputs/malawi_tiles_buf179.geojson\""
      ]
    },
    {
      "cell_type": "markdown",
      "id": "871058f7-5c64-4d00-8e3a-1b8a6a022ef7",
      "metadata": {
        "id": "871058f7-5c64-4d00-8e3a-1b8a6a022ef7"
      },
      "source": [
        "### Read in tile file and select sub-area\n",
        "\n",
        "Using the Malawi tiles"
      ]
    },
    {
      "cell_type": "markdown",
      "id": "11419ada-617c-4fa6-9ab0-23c5a8932735",
      "metadata": {
        "id": "11419ada-617c-4fa6-9ab0-23c5a8932735"
      },
      "source": [
        "We just want to collect the month and year information from the samples file, and add it to the tiles file. We also want to convert the month and year data to a single variable, for querying the Planet API"
      ]
    },
    {
      "cell_type": "code",
      "execution_count": 7,
      "id": "f925f304-5384-4c58-b97f-ef6c05f6d88f",
      "metadata": {
        "tags": [],
        "colab": {
          "base_uri": "https://localhost:8080/",
          "height": 206
        },
        "id": "f925f304-5384-4c58-b97f-ef6c05f6d88f",
        "outputId": "a598c493-a6ba-47aa-9fec-84d34b6a4b6d"
      },
      "outputs": [
        {
          "output_type": "execute_result",
          "data": {
            "text/plain": [
              "     tile tile_col tile_row                                           geometry\n",
              "0  841570     1009      938  POLYGON ((32.90452 -9.41447, 32.96348 -9.41447...\n",
              "1  841571     1010      938  POLYGON ((32.95452 -9.41447, 33.01347 -9.41447...\n",
              "2  841572     1011      938  POLYGON ((33.00453 -9.41447, 33.06347 -9.41447...\n",
              "3  841590     1009      939  POLYGON ((32.90452 -9.46448, 32.96348 -9.46448...\n",
              "4  841591     1010      939  POLYGON ((32.95452 -9.46448, 33.01347 -9.46448..."
            ],
            "text/html": [
              "\n",
              "  <div id=\"df-8dde61dc-90a0-4a75-adf1-a1058d1769fc\" class=\"colab-df-container\">\n",
              "    <div>\n",
              "<style scoped>\n",
              "    .dataframe tbody tr th:only-of-type {\n",
              "        vertical-align: middle;\n",
              "    }\n",
              "\n",
              "    .dataframe tbody tr th {\n",
              "        vertical-align: top;\n",
              "    }\n",
              "\n",
              "    .dataframe thead th {\n",
              "        text-align: right;\n",
              "    }\n",
              "</style>\n",
              "<table border=\"1\" class=\"dataframe\">\n",
              "  <thead>\n",
              "    <tr style=\"text-align: right;\">\n",
              "      <th></th>\n",
              "      <th>tile</th>\n",
              "      <th>tile_col</th>\n",
              "      <th>tile_row</th>\n",
              "      <th>geometry</th>\n",
              "    </tr>\n",
              "  </thead>\n",
              "  <tbody>\n",
              "    <tr>\n",
              "      <th>0</th>\n",
              "      <td>841570</td>\n",
              "      <td>1009</td>\n",
              "      <td>938</td>\n",
              "      <td>POLYGON ((32.90452 -9.41447, 32.96348 -9.41447...</td>\n",
              "    </tr>\n",
              "    <tr>\n",
              "      <th>1</th>\n",
              "      <td>841571</td>\n",
              "      <td>1010</td>\n",
              "      <td>938</td>\n",
              "      <td>POLYGON ((32.95452 -9.41447, 33.01347 -9.41447...</td>\n",
              "    </tr>\n",
              "    <tr>\n",
              "      <th>2</th>\n",
              "      <td>841572</td>\n",
              "      <td>1011</td>\n",
              "      <td>938</td>\n",
              "      <td>POLYGON ((33.00453 -9.41447, 33.06347 -9.41447...</td>\n",
              "    </tr>\n",
              "    <tr>\n",
              "      <th>3</th>\n",
              "      <td>841590</td>\n",
              "      <td>1009</td>\n",
              "      <td>939</td>\n",
              "      <td>POLYGON ((32.90452 -9.46448, 32.96348 -9.46448...</td>\n",
              "    </tr>\n",
              "    <tr>\n",
              "      <th>4</th>\n",
              "      <td>841591</td>\n",
              "      <td>1010</td>\n",
              "      <td>939</td>\n",
              "      <td>POLYGON ((32.95452 -9.46448, 33.01347 -9.46448...</td>\n",
              "    </tr>\n",
              "  </tbody>\n",
              "</table>\n",
              "</div>\n",
              "    <div class=\"colab-df-buttons\">\n",
              "\n",
              "  <div class=\"colab-df-container\">\n",
              "    <button class=\"colab-df-convert\" onclick=\"convertToInteractive('df-8dde61dc-90a0-4a75-adf1-a1058d1769fc')\"\n",
              "            title=\"Convert this dataframe to an interactive table.\"\n",
              "            style=\"display:none;\">\n",
              "\n",
              "  <svg xmlns=\"http://www.w3.org/2000/svg\" height=\"24px\" viewBox=\"0 -960 960 960\">\n",
              "    <path d=\"M120-120v-720h720v720H120Zm60-500h600v-160H180v160Zm220 220h160v-160H400v160Zm0 220h160v-160H400v160ZM180-400h160v-160H180v160Zm440 0h160v-160H620v160ZM180-180h160v-160H180v160Zm440 0h160v-160H620v160Z\"/>\n",
              "  </svg>\n",
              "    </button>\n",
              "\n",
              "  <style>\n",
              "    .colab-df-container {\n",
              "      display:flex;\n",
              "      gap: 12px;\n",
              "    }\n",
              "\n",
              "    .colab-df-convert {\n",
              "      background-color: #E8F0FE;\n",
              "      border: none;\n",
              "      border-radius: 50%;\n",
              "      cursor: pointer;\n",
              "      display: none;\n",
              "      fill: #1967D2;\n",
              "      height: 32px;\n",
              "      padding: 0 0 0 0;\n",
              "      width: 32px;\n",
              "    }\n",
              "\n",
              "    .colab-df-convert:hover {\n",
              "      background-color: #E2EBFA;\n",
              "      box-shadow: 0px 1px 2px rgba(60, 64, 67, 0.3), 0px 1px 3px 1px rgba(60, 64, 67, 0.15);\n",
              "      fill: #174EA6;\n",
              "    }\n",
              "\n",
              "    .colab-df-buttons div {\n",
              "      margin-bottom: 4px;\n",
              "    }\n",
              "\n",
              "    [theme=dark] .colab-df-convert {\n",
              "      background-color: #3B4455;\n",
              "      fill: #D2E3FC;\n",
              "    }\n",
              "\n",
              "    [theme=dark] .colab-df-convert:hover {\n",
              "      background-color: #434B5C;\n",
              "      box-shadow: 0px 1px 3px 1px rgba(0, 0, 0, 0.15);\n",
              "      filter: drop-shadow(0px 1px 2px rgba(0, 0, 0, 0.3));\n",
              "      fill: #FFFFFF;\n",
              "    }\n",
              "  </style>\n",
              "\n",
              "    <script>\n",
              "      const buttonEl =\n",
              "        document.querySelector('#df-8dde61dc-90a0-4a75-adf1-a1058d1769fc button.colab-df-convert');\n",
              "      buttonEl.style.display =\n",
              "        google.colab.kernel.accessAllowed ? 'block' : 'none';\n",
              "\n",
              "      async function convertToInteractive(key) {\n",
              "        const element = document.querySelector('#df-8dde61dc-90a0-4a75-adf1-a1058d1769fc');\n",
              "        const dataTable =\n",
              "          await google.colab.kernel.invokeFunction('convertToInteractive',\n",
              "                                                    [key], {});\n",
              "        if (!dataTable) return;\n",
              "\n",
              "        const docLinkHtml = 'Like what you see? Visit the ' +\n",
              "          '<a target=\"_blank\" href=https://colab.research.google.com/notebooks/data_table.ipynb>data table notebook</a>'\n",
              "          + ' to learn more about interactive tables.';\n",
              "        element.innerHTML = '';\n",
              "        dataTable['output_type'] = 'display_data';\n",
              "        await google.colab.output.renderOutput(dataTable, element);\n",
              "        const docLink = document.createElement('div');\n",
              "        docLink.innerHTML = docLinkHtml;\n",
              "        element.appendChild(docLink);\n",
              "      }\n",
              "    </script>\n",
              "  </div>\n",
              "\n",
              "\n",
              "<div id=\"df-4f1331df-a9d0-427e-9b45-bd5000e40dac\">\n",
              "  <button class=\"colab-df-quickchart\" onclick=\"quickchart('df-4f1331df-a9d0-427e-9b45-bd5000e40dac')\"\n",
              "            title=\"Suggest charts.\"\n",
              "            style=\"display:none;\">\n",
              "\n",
              "<svg xmlns=\"http://www.w3.org/2000/svg\" height=\"24px\"viewBox=\"0 0 24 24\"\n",
              "     width=\"24px\">\n",
              "    <g>\n",
              "        <path d=\"M19 3H5c-1.1 0-2 .9-2 2v14c0 1.1.9 2 2 2h14c1.1 0 2-.9 2-2V5c0-1.1-.9-2-2-2zM9 17H7v-7h2v7zm4 0h-2V7h2v10zm4 0h-2v-4h2v4z\"/>\n",
              "    </g>\n",
              "</svg>\n",
              "  </button>\n",
              "\n",
              "<style>\n",
              "  .colab-df-quickchart {\n",
              "      --bg-color: #E8F0FE;\n",
              "      --fill-color: #1967D2;\n",
              "      --hover-bg-color: #E2EBFA;\n",
              "      --hover-fill-color: #174EA6;\n",
              "      --disabled-fill-color: #AAA;\n",
              "      --disabled-bg-color: #DDD;\n",
              "  }\n",
              "\n",
              "  [theme=dark] .colab-df-quickchart {\n",
              "      --bg-color: #3B4455;\n",
              "      --fill-color: #D2E3FC;\n",
              "      --hover-bg-color: #434B5C;\n",
              "      --hover-fill-color: #FFFFFF;\n",
              "      --disabled-bg-color: #3B4455;\n",
              "      --disabled-fill-color: #666;\n",
              "  }\n",
              "\n",
              "  .colab-df-quickchart {\n",
              "    background-color: var(--bg-color);\n",
              "    border: none;\n",
              "    border-radius: 50%;\n",
              "    cursor: pointer;\n",
              "    display: none;\n",
              "    fill: var(--fill-color);\n",
              "    height: 32px;\n",
              "    padding: 0;\n",
              "    width: 32px;\n",
              "  }\n",
              "\n",
              "  .colab-df-quickchart:hover {\n",
              "    background-color: var(--hover-bg-color);\n",
              "    box-shadow: 0 1px 2px rgba(60, 64, 67, 0.3), 0 1px 3px 1px rgba(60, 64, 67, 0.15);\n",
              "    fill: var(--button-hover-fill-color);\n",
              "  }\n",
              "\n",
              "  .colab-df-quickchart-complete:disabled,\n",
              "  .colab-df-quickchart-complete:disabled:hover {\n",
              "    background-color: var(--disabled-bg-color);\n",
              "    fill: var(--disabled-fill-color);\n",
              "    box-shadow: none;\n",
              "  }\n",
              "\n",
              "  .colab-df-spinner {\n",
              "    border: 2px solid var(--fill-color);\n",
              "    border-color: transparent;\n",
              "    border-bottom-color: var(--fill-color);\n",
              "    animation:\n",
              "      spin 1s steps(1) infinite;\n",
              "  }\n",
              "\n",
              "  @keyframes spin {\n",
              "    0% {\n",
              "      border-color: transparent;\n",
              "      border-bottom-color: var(--fill-color);\n",
              "      border-left-color: var(--fill-color);\n",
              "    }\n",
              "    20% {\n",
              "      border-color: transparent;\n",
              "      border-left-color: var(--fill-color);\n",
              "      border-top-color: var(--fill-color);\n",
              "    }\n",
              "    30% {\n",
              "      border-color: transparent;\n",
              "      border-left-color: var(--fill-color);\n",
              "      border-top-color: var(--fill-color);\n",
              "      border-right-color: var(--fill-color);\n",
              "    }\n",
              "    40% {\n",
              "      border-color: transparent;\n",
              "      border-right-color: var(--fill-color);\n",
              "      border-top-color: var(--fill-color);\n",
              "    }\n",
              "    60% {\n",
              "      border-color: transparent;\n",
              "      border-right-color: var(--fill-color);\n",
              "    }\n",
              "    80% {\n",
              "      border-color: transparent;\n",
              "      border-right-color: var(--fill-color);\n",
              "      border-bottom-color: var(--fill-color);\n",
              "    }\n",
              "    90% {\n",
              "      border-color: transparent;\n",
              "      border-bottom-color: var(--fill-color);\n",
              "    }\n",
              "  }\n",
              "</style>\n",
              "\n",
              "  <script>\n",
              "    async function quickchart(key) {\n",
              "      const quickchartButtonEl =\n",
              "        document.querySelector('#' + key + ' button');\n",
              "      quickchartButtonEl.disabled = true;  // To prevent multiple clicks.\n",
              "      quickchartButtonEl.classList.add('colab-df-spinner');\n",
              "      try {\n",
              "        const charts = await google.colab.kernel.invokeFunction(\n",
              "            'suggestCharts', [key], {});\n",
              "      } catch (error) {\n",
              "        console.error('Error during call to suggestCharts:', error);\n",
              "      }\n",
              "      quickchartButtonEl.classList.remove('colab-df-spinner');\n",
              "      quickchartButtonEl.classList.add('colab-df-quickchart-complete');\n",
              "    }\n",
              "    (() => {\n",
              "      let quickchartButtonEl =\n",
              "        document.querySelector('#df-4f1331df-a9d0-427e-9b45-bd5000e40dac button');\n",
              "      quickchartButtonEl.style.display =\n",
              "        google.colab.kernel.accessAllowed ? 'block' : 'none';\n",
              "    })();\n",
              "  </script>\n",
              "</div>\n",
              "\n",
              "    </div>\n",
              "  </div>\n"
            ]
          },
          "metadata": {},
          "execution_count": 7
        }
      ],
      "source": [
        "tiles = gpd.read_file(tile_path)\n",
        "tiles[tiles.columns[0:3]] = tiles[tiles.columns[0:3]].astype(int).astype(str)\n",
        "tiles.head()"
      ]
    },
    {
      "cell_type": "markdown",
      "source": [
        "View the tiles on the map, and then use the rectangle tool to select a small number of tiles (e.g. 10) anywhere in Malawi.  "
      ],
      "metadata": {
        "id": "YEqf3fFPrQzE"
      },
      "id": "YEqf3fFPrQzE"
    },
    {
      "cell_type": "code",
      "source": [
        "m = leafmap.Map()\n",
        "m.add_basemap()\n",
        "m.add_basemap(\"SATELLITE\")\n",
        "m.add_gdf(tiles, zoom_to_layer=True)\n",
        "m"
      ],
      "metadata": {
        "id": "uC9Qft3IibG_"
      },
      "id": "uC9Qft3IibG_",
      "execution_count": null,
      "outputs": []
    },
    {
      "cell_type": "markdown",
      "source": [
        "Save the polygon you draw to a geojson."
      ],
      "metadata": {
        "id": "4DDHO8HPriVZ"
      },
      "id": "4DDHO8HPriVZ"
    },
    {
      "cell_type": "code",
      "source": [
        "m.save_draw_features(f\"{proj_path}/inputs/aoi.geojson\")"
      ],
      "metadata": {
        "id": "p8s4NVoTkATc"
      },
      "id": "p8s4NVoTkATc",
      "execution_count": null,
      "outputs": []
    },
    {
      "cell_type": "markdown",
      "source": [
        "### Select the tiles using the AOI"
      ],
      "metadata": {
        "id": "RlBk1qiEkyfV"
      },
      "id": "RlBk1qiEkyfV"
    },
    {
      "cell_type": "code",
      "execution_count": 11,
      "id": "817f9490-3646-491b-b52a-54ce49c89aa8",
      "metadata": {
        "id": "817f9490-3646-491b-b52a-54ce49c89aa8",
        "outputId": "37d0ecc1-2dd2-40b6-9642-44ecf830a496",
        "colab": {
          "base_uri": "https://localhost:8080/"
        }
      },
      "outputs": [
        {
          "output_type": "execute_result",
          "data": {
            "text/plain": [
              "(20, 4)"
            ]
          },
          "metadata": {},
          "execution_count": 11
        }
      ],
      "source": [
        "aoi = gpd.read_file(f\"{proj_path}/inputs/aoi.geojson\")\n",
        "tiles_aoi = tiles.sjoin(aoi)\\\n",
        "    .drop(columns=\"index_right\")\n",
        "tiles_aoi.shape"
      ]
    },
    {
      "cell_type": "code",
      "source": [
        "fig, ax = plt.subplots()\n",
        "tiles_aoi.boundary.plot(ax=ax)\n",
        "aoi.boundary.plot(ax=ax, color=\"red\")\n",
        "None"
      ],
      "metadata": {
        "colab": {
          "base_uri": "https://localhost:8080/",
          "height": 430
        },
        "id": "5UgAaq4qSGqZ",
        "outputId": "ae2e3511-541d-4d1e-f03b-57c72f4fa72e"
      },
      "id": "5UgAaq4qSGqZ",
      "execution_count": 68,
      "outputs": [
        {
          "output_type": "display_data",
          "data": {
            "text/plain": [
              "<Figure size 640x480 with 1 Axes>"
            ],
            "image/png": "[encoded data removed]"
          },
          "metadata": {}
        }
      ]
    },
    {
      "cell_type": "markdown",
      "id": "79011c78-6b5a-46ed-8696-753f55963280",
      "metadata": {
        "tags": [],
        "id": "79011c78-6b5a-46ed-8696-753f55963280"
      },
      "source": [
        "## Get the NICFI grid catalog for the tiles"
      ]
    },
    {
      "cell_type": "markdown",
      "id": "39e7b7e9-d17a-40bb-a0d4-d3757ec9132d",
      "metadata": {
        "id": "39e7b7e9-d17a-40bb-a0d4-d3757ec9132d"
      },
      "source": [
        "### Query the catalog\n",
        "\n",
        "Find the Planet basemap quads that intersect the selected tiles.\n",
        "We first create a function for defining the correct dates of imagery, which vary in terms of their length of monthly coverage. The date period has to be exact when querying the API to get the images back from Planet."
      ]
    },
    {
      "cell_type": "code",
      "execution_count": 13,
      "id": "adbda418-2db2-4964-bcb0-dad13be6b88a",
      "metadata": {
        "id": "adbda418-2db2-4964-bcb0-dad13be6b88a"
      },
      "outputs": [],
      "source": [
        "def year_date(year, month):\n",
        "    if (year < \"2021\") & (month < \"06\"):\n",
        "        date = str(int(year)-1) + \"-12_\" + year + \"-05\"\n",
        "    elif (year < \"2020\") & (month == \"12\"):\n",
        "        date = year + \"-12_\" + str(int(year)+1) + \"-05\"\n",
        "    elif (year == \"2020\") & (month == \"12\"):\n",
        "        date = year + '-' + month\n",
        "    elif (year < \"2020\") & ((month >= \"06\") & (month < \"12\")):\n",
        "        date = year + \"-06_\" + year + \"-11\"\n",
        "    elif (year == \"2020\") & ((month >= \"06\") & (month < \"09\")):\n",
        "        date = year + \"-06_\" + year + \"-08\"\n",
        "    else:\n",
        "        date = year + '-' + month\n",
        "    return(date)"
      ]
    },
    {
      "cell_type": "markdown",
      "id": "1643d30f-6c0a-4b30-8e1a-51ceb4236bc1",
      "metadata": {
        "id": "1643d30f-6c0a-4b30-8e1a-51ceb4236bc1"
      },
      "source": [
        "Run the query, which will give you a list of GeoDataFrames containing the quad tile name, date, download URL, as well as the tile ID of the tiling grid we use here.\n",
        "\n",
        "But first specify the year and month(s) of interest. In this example, we are using June, 2021."
      ]
    },
    {
      "cell_type": "code",
      "source": [
        "date = year_date(\"2021\", \"06\")"
      ],
      "metadata": {
        "id": "JFV2qUBAmycP"
      },
      "id": "JFV2qUBAmycP",
      "execution_count": 14,
      "outputs": []
    },
    {
      "cell_type": "markdown",
      "source": [
        "Then fetch the intersecting basemap quad grid."
      ],
      "metadata": {
        "id": "lZiIzTXozzOZ"
      },
      "id": "lZiIzTXozzOZ"
    },
    {
      "cell_type": "code",
      "execution_count": null,
      "id": "618a6135-4303-4b7a-8ab5-52b0ea19c9af",
      "metadata": {
        "id": "618a6135-4303-4b7a-8ab5-52b0ea19c9af"
      },
      "outputs": [],
      "source": [
        "pdl = planet_downloader.PlanetDownloader()\n",
        "quads_gdf, quads_url = pdl.get_basemap_grid(\n",
        "    PLANET_API_KEY, API_URL, dates=[date],\n",
        "    bbox=tiles_aoi.dissolve().iloc[0][\"geometry\"].bounds\n",
        ")"
      ]
    },
    {
      "cell_type": "code",
      "source": [
        "quads_gdf.head()"
      ],
      "metadata": {
        "id": "hQNYl-nEnhoY",
        "colab": {
          "base_uri": "https://localhost:8080/",
          "height": 206
        },
        "outputId": "f5639558-b3ae-4974-d3ec-1a340f1aad71"
      },
      "id": "hQNYl-nEnhoY",
      "execution_count": 16,
      "outputs": [
        {
          "output_type": "execute_result",
          "data": {
            "text/plain": [
              "       tile     date                                           geometry  \\\n",
              "0  1221-931  2021-06  POLYGON ((34.80469 -16.13026, 34.80469 -15.961...   \n",
              "1  1222-931  2021-06  POLYGON ((34.98047 -16.13026, 34.98047 -15.961...   \n",
              "2  1221-930  2021-06  POLYGON ((34.80469 -16.29905, 34.80469 -16.130...   \n",
              "3  1222-930  2021-06  POLYGON ((34.98047 -16.29905, 34.98047 -16.130...   \n",
              "4  1221-929  2021-06  POLYGON ((34.80469 -16.46769, 34.80469 -16.299...   \n",
              "\n",
              "                                                file  \n",
              "0  planet_medres_normalized_analytic_2021-06_mosa...  \n",
              "1  planet_medres_normalized_analytic_2021-06_mosa...  \n",
              "2  planet_medres_normalized_analytic_2021-06_mosa...  \n",
              "3  planet_medres_normalized_analytic_2021-06_mosa...  \n",
              "4  planet_medres_normalized_analytic_2021-06_mosa...  "
            ],
            "text/html": [
              "\n",
              "  <div id=\"df-b9cc6584-351f-422e-84af-e0f30d6c5d4c\" class=\"colab-df-container\">\n",
              "    <div>\n",
              "<style scoped>\n",
              "    .dataframe tbody tr th:only-of-type {\n",
              "        vertical-align: middle;\n",
              "    }\n",
              "\n",
              "    .dataframe tbody tr th {\n",
              "        vertical-align: top;\n",
              "    }\n",
              "\n",
              "    .dataframe thead th {\n",
              "        text-align: right;\n",
              "    }\n",
              "</style>\n",
              "<table border=\"1\" class=\"dataframe\">\n",
              "  <thead>\n",
              "    <tr style=\"text-align: right;\">\n",
              "      <th></th>\n",
              "      <th>tile</th>\n",
              "      <th>date</th>\n",
              "      <th>geometry</th>\n",
              "      <th>file</th>\n",
              "    </tr>\n",
              "  </thead>\n",
              "  <tbody>\n",
              "    <tr>\n",
              "      <th>0</th>\n",
              "      <td>1221-931</td>\n",
              "      <td>2021-06</td>\n",
              "      <td>POLYGON ((34.80469 -16.13026, 34.80469 -15.961...</td>\n",
              "      <td>planet_medres_normalized_analytic_2021-06_mosa...</td>\n",
              "    </tr>\n",
              "    <tr>\n",
              "      <th>1</th>\n",
              "      <td>1222-931</td>\n",
              "      <td>2021-06</td>\n",
              "      <td>POLYGON ((34.98047 -16.13026, 34.98047 -15.961...</td>\n",
              "      <td>planet_medres_normalized_analytic_2021-06_mosa...</td>\n",
              "    </tr>\n",
              "    <tr>\n",
              "      <th>2</th>\n",
              "      <td>1221-930</td>\n",
              "      <td>2021-06</td>\n",
              "      <td>POLYGON ((34.80469 -16.29905, 34.80469 -16.130...</td>\n",
              "      <td>planet_medres_normalized_analytic_2021-06_mosa...</td>\n",
              "    </tr>\n",
              "    <tr>\n",
              "      <th>3</th>\n",
              "      <td>1222-930</td>\n",
              "      <td>2021-06</td>\n",
              "      <td>POLYGON ((34.98047 -16.29905, 34.98047 -16.130...</td>\n",
              "      <td>planet_medres_normalized_analytic_2021-06_mosa...</td>\n",
              "    </tr>\n",
              "    <tr>\n",
              "      <th>4</th>\n",
              "      <td>1221-929</td>\n",
              "      <td>2021-06</td>\n",
              "      <td>POLYGON ((34.80469 -16.46769, 34.80469 -16.299...</td>\n",
              "      <td>planet_medres_normalized_analytic_2021-06_mosa...</td>\n",
              "    </tr>\n",
              "  </tbody>\n",
              "</table>\n",
              "</div>\n",
              "    <div class=\"colab-df-buttons\">\n",
              "\n",
              "  <div class=\"colab-df-container\">\n",
              "    <button class=\"colab-df-convert\" onclick=\"convertToInteractive('df-b9cc6584-351f-422e-84af-e0f30d6c5d4c')\"\n",
              "            title=\"Convert this dataframe to an interactive table.\"\n",
              "            style=\"display:none;\">\n",
              "\n",
              "  <svg xmlns=\"http://www.w3.org/2000/svg\" height=\"24px\" viewBox=\"0 -960 960 960\">\n",
              "    <path d=\"M120-120v-720h720v720H120Zm60-500h600v-160H180v160Zm220 220h160v-160H400v160Zm0 220h160v-160H400v160ZM180-400h160v-160H180v160Zm440 0h160v-160H620v160ZM180-180h160v-160H180v160Zm440 0h160v-160H620v160Z\"/>\n",
              "  </svg>\n",
              "    </button>\n",
              "\n",
              "  <style>\n",
              "    .colab-df-container {\n",
              "      display:flex;\n",
              "      gap: 12px;\n",
              "    }\n",
              "\n",
              "    .colab-df-convert {\n",
              "      background-color: #E8F0FE;\n",
              "      border: none;\n",
              "      border-radius: 50%;\n",
              "      cursor: pointer;\n",
              "      display: none;\n",
              "      fill: #1967D2;\n",
              "      height: 32px;\n",
              "      padding: 0 0 0 0;\n",
              "      width: 32px;\n",
              "    }\n",
              "\n",
              "    .colab-df-convert:hover {\n",
              "      background-color: #E2EBFA;\n",
              "      box-shadow: 0px 1px 2px rgba(60, 64, 67, 0.3), 0px 1px 3px 1px rgba(60, 64, 67, 0.15);\n",
              "      fill: #174EA6;\n",
              "    }\n",
              "\n",
              "    .colab-df-buttons div {\n",
              "      margin-bottom: 4px;\n",
              "    }\n",
              "\n",
              "    [theme=dark] .colab-df-convert {\n",
              "      background-color: #3B4455;\n",
              "      fill: #D2E3FC;\n",
              "    }\n",
              "\n",
              "    [theme=dark] .colab-df-convert:hover {\n",
              "      background-color: #434B5C;\n",
              "      box-shadow: 0px 1px 3px 1px rgba(0, 0, 0, 0.15);\n",
              "      filter: drop-shadow(0px 1px 2px rgba(0, 0, 0, 0.3));\n",
              "      fill: #FFFFFF;\n",
              "    }\n",
              "  </style>\n",
              "\n",
              "    <script>\n",
              "      const buttonEl =\n",
              "        document.querySelector('#df-b9cc6584-351f-422e-84af-e0f30d6c5d4c button.colab-df-convert');\n",
              "      buttonEl.style.display =\n",
              "        google.colab.kernel.accessAllowed ? 'block' : 'none';\n",
              "\n",
              "      async function convertToInteractive(key) {\n",
              "        const element = document.querySelector('#df-b9cc6584-351f-422e-84af-e0f30d6c5d4c');\n",
              "        const dataTable =\n",
              "          await google.colab.kernel.invokeFunction('convertToInteractive',\n",
              "                                                    [key], {});\n",
              "        if (!dataTable) return;\n",
              "\n",
              "        const docLinkHtml = 'Like what you see? Visit the ' +\n",
              "          '<a target=\"_blank\" href=https://colab.research.google.com/notebooks/data_table.ipynb>data table notebook</a>'\n",
              "          + ' to learn more about interactive tables.';\n",
              "        element.innerHTML = '';\n",
              "        dataTable['output_type'] = 'display_data';\n",
              "        await google.colab.output.renderOutput(dataTable, element);\n",
              "        const docLink = document.createElement('div');\n",
              "        docLink.innerHTML = docLinkHtml;\n",
              "        element.appendChild(docLink);\n",
              "      }\n",
              "    </script>\n",
              "  </div>\n",
              "\n",
              "\n",
              "<div id=\"df-782ddf2a-59c7-4759-9e0b-71928ce7144a\">\n",
              "  <button class=\"colab-df-quickchart\" onclick=\"quickchart('df-782ddf2a-59c7-4759-9e0b-71928ce7144a')\"\n",
              "            title=\"Suggest charts.\"\n",
              "            style=\"display:none;\">\n",
              "\n",
              "<svg xmlns=\"http://www.w3.org/2000/svg\" height=\"24px\"viewBox=\"0 0 24 24\"\n",
              "     width=\"24px\">\n",
              "    <g>\n",
              "        <path d=\"M19 3H5c-1.1 0-2 .9-2 2v14c0 1.1.9 2 2 2h14c1.1 0 2-.9 2-2V5c0-1.1-.9-2-2-2zM9 17H7v-7h2v7zm4 0h-2V7h2v10zm4 0h-2v-4h2v4z\"/>\n",
              "    </g>\n",
              "</svg>\n",
              "  </button>\n",
              "\n",
              "<style>\n",
              "  .colab-df-quickchart {\n",
              "      --bg-color: #E8F0FE;\n",
              "      --fill-color: #1967D2;\n",
              "      --hover-bg-color: #E2EBFA;\n",
              "      --hover-fill-color: #174EA6;\n",
              "      --disabled-fill-color: #AAA;\n",
              "      --disabled-bg-color: #DDD;\n",
              "  }\n",
              "\n",
              "  [theme=dark] .colab-df-quickchart {\n",
              "      --bg-color: #3B4455;\n",
              "      --fill-color: #D2E3FC;\n",
              "      --hover-bg-color: #434B5C;\n",
              "      --hover-fill-color: #FFFFFF;\n",
              "      --disabled-bg-color: #3B4455;\n",
              "      --disabled-fill-color: #666;\n",
              "  }\n",
              "\n",
              "  .colab-df-quickchart {\n",
              "    background-color: var(--bg-color);\n",
              "    border: none;\n",
              "    border-radius: 50%;\n",
              "    cursor: pointer;\n",
              "    display: none;\n",
              "    fill: var(--fill-color);\n",
              "    height: 32px;\n",
              "    padding: 0;\n",
              "    width: 32px;\n",
              "  }\n",
              "\n",
              "  .colab-df-quickchart:hover {\n",
              "    background-color: var(--hover-bg-color);\n",
              "    box-shadow: 0 1px 2px rgba(60, 64, 67, 0.3), 0 1px 3px 1px rgba(60, 64, 67, 0.15);\n",
              "    fill: var(--button-hover-fill-color);\n",
              "  }\n",
              "\n",
              "  .colab-df-quickchart-complete:disabled,\n",
              "  .colab-df-quickchart-complete:disabled:hover {\n",
              "    background-color: var(--disabled-bg-color);\n",
              "    fill: var(--disabled-fill-color);\n",
              "    box-shadow: none;\n",
              "  }\n",
              "\n",
              "  .colab-df-spinner {\n",
              "    border: 2px solid var(--fill-color);\n",
              "    border-color: transparent;\n",
              "    border-bottom-color: var(--fill-color);\n",
              "    animation:\n",
              "      spin 1s steps(1) infinite;\n",
              "  }\n",
              "\n",
              "  @keyframes spin {\n",
              "    0% {\n",
              "      border-color: transparent;\n",
              "      border-bottom-color: var(--fill-color);\n",
              "      border-left-color: var(--fill-color);\n",
              "    }\n",
              "    20% {\n",
              "      border-color: transparent;\n",
              "      border-left-color: var(--fill-color);\n",
              "      border-top-color: var(--fill-color);\n",
              "    }\n",
              "    30% {\n",
              "      border-color: transparent;\n",
              "      border-left-color: var(--fill-color);\n",
              "      border-top-color: var(--fill-color);\n",
              "      border-right-color: var(--fill-color);\n",
              "    }\n",
              "    40% {\n",
              "      border-color: transparent;\n",
              "      border-right-color: var(--fill-color);\n",
              "      border-top-color: var(--fill-color);\n",
              "    }\n",
              "    60% {\n",
              "      border-color: transparent;\n",
              "      border-right-color: var(--fill-color);\n",
              "    }\n",
              "    80% {\n",
              "      border-color: transparent;\n",
              "      border-right-color: var(--fill-color);\n",
              "      border-bottom-color: var(--fill-color);\n",
              "    }\n",
              "    90% {\n",
              "      border-color: transparent;\n",
              "      border-bottom-color: var(--fill-color);\n",
              "    }\n",
              "  }\n",
              "</style>\n",
              "\n",
              "  <script>\n",
              "    async function quickchart(key) {\n",
              "      const quickchartButtonEl =\n",
              "        document.querySelector('#' + key + ' button');\n",
              "      quickchartButtonEl.disabled = true;  // To prevent multiple clicks.\n",
              "      quickchartButtonEl.classList.add('colab-df-spinner');\n",
              "      try {\n",
              "        const charts = await google.colab.kernel.invokeFunction(\n",
              "            'suggestCharts', [key], {});\n",
              "      } catch (error) {\n",
              "        console.error('Error during call to suggestCharts:', error);\n",
              "      }\n",
              "      quickchartButtonEl.classList.remove('colab-df-spinner');\n",
              "      quickchartButtonEl.classList.add('colab-df-quickchart-complete');\n",
              "    }\n",
              "    (() => {\n",
              "      let quickchartButtonEl =\n",
              "        document.querySelector('#df-782ddf2a-59c7-4759-9e0b-71928ce7144a button');\n",
              "      quickchartButtonEl.style.display =\n",
              "        google.colab.kernel.accessAllowed ? 'block' : 'none';\n",
              "    })();\n",
              "  </script>\n",
              "</div>\n",
              "\n",
              "    </div>\n",
              "  </div>\n"
            ]
          },
          "metadata": {},
          "execution_count": 16
        }
      ]
    },
    {
      "cell_type": "markdown",
      "id": "b3d6f2bf-3b71-4205-a729-bc228de8431b",
      "metadata": {
        "id": "b3d6f2bf-3b71-4205-a729-bc228de8431b"
      },
      "source": [
        "After iterating through the tile grid and querying the catalog, combine the results into a single GeoDataFrame, which you can save to a geojson, which lists the tiles you need to cover each grid.  "
      ]
    },
    {
      "cell_type": "markdown",
      "source": [
        "Now let's join the two catalogs, reorganize a bit and save to disk."
      ],
      "metadata": {
        "id": "LL_i3V9pn3Qq"
      },
      "id": "LL_i3V9pn3Qq"
    },
    {
      "cell_type": "code",
      "source": [
        "tiles_quads = tiles_aoi.sjoin(quads_gdf.rename(columns={\"tile\": \"quad\"}))\\\n",
        "    .drop(columns=\"index_right\")\\\n",
        "    .iloc[:,[0,4,5,6,3]]"
      ],
      "metadata": {
        "id": "BENsWdiqx6Xs"
      },
      "id": "BENsWdiqx6Xs",
      "execution_count": 17,
      "outputs": []
    },
    {
      "cell_type": "code",
      "execution_count": 18,
      "id": "6c729a66-7ed1-44ba-b763-a1c0ac98ac96",
      "metadata": {
        "tags": [],
        "id": "6c729a66-7ed1-44ba-b763-a1c0ac98ac96"
      },
      "outputs": [],
      "source": [
        "tiles_quads.to_file(\n",
        "    Path(proj_path) / \"tiles_quads.geojson\", driver=\"GeoJSON\"\n",
        ")\n",
        "# tiles_quads = gpd.read_file(\n",
        "#     Path(proj_path) / \"tiles_quads.geojson\", driver=\"GeoJSON\"\n",
        "# )\n"
      ]
    },
    {
      "cell_type": "markdown",
      "id": "0fad40d5-0e29-4402-ba6b-d5a5f8288f5c",
      "metadata": {
        "id": "0fad40d5-0e29-4402-ba6b-d5a5f8288f5c"
      },
      "source": [
        "## Download quads and retile"
      ]
    },
    {
      "cell_type": "markdown",
      "id": "2bad1134-8274-422c-bd17-082efe0bf8a6",
      "metadata": {
        "id": "2bad1134-8274-422c-bd17-082efe0bf8a6"
      },
      "source": [
        "Once you have the catalog, you can now start to download quads and retile them. However, we are first going to test downloading just one quad. We will first set up some directories"
      ]
    },
    {
      "cell_type": "code",
      "source": [
        "# set up tile and temporary directory\n",
        "if not os.path.isdir(tile_dir):\n",
        "    os.makedirs(tile_dir)\n",
        "if not os.path.isdir(quad_dir):\n",
        "    os.makedirs(quad_dir)\n",
        "if not os.path.isdir(temp_dir):\n",
        "    os.makedirs(temp_dir)"
      ],
      "metadata": {
        "id": "JH-tt9VA1ICo"
      },
      "id": "JH-tt9VA1ICo",
      "execution_count": 19,
      "outputs": []
    },
    {
      "cell_type": "markdown",
      "source": [
        "### Download a single quad"
      ],
      "metadata": {
        "id": "S3fA08FKw9ri"
      },
      "id": "S3fA08FKw9ri"
    },
    {
      "cell_type": "markdown",
      "source": [
        "Next, we will query the catalog we have created to see which tiles intersect just a single quad (they can intersect up to 4)"
      ],
      "metadata": {
        "id": "Krzg2-Aw1L8v"
      },
      "id": "Krzg2-Aw1L8v"
    },
    {
      "cell_type": "code",
      "source": [
        "quad_counts = tiles_quads[[\"tile\", \"quad\"]]\\\n",
        "    .groupby(\"tile\")\\\n",
        "    .count()\\\n",
        "    .reset_index()\n",
        "\n",
        "quad_counts.query(\"quad==1\")"
      ],
      "metadata": {
        "colab": {
          "base_uri": "https://localhost:8080/",
          "height": 238
        },
        "id": "qUfP4XGM1Uvd",
        "outputId": "1740d281-3726-4280-8f64-f896cc6749f2"
      },
      "id": "qUfP4XGM1Uvd",
      "execution_count": 20,
      "outputs": [
        {
          "output_type": "execute_result",
          "data": {
            "text/plain": [
              "      tile  quad\n",
              "5   927486     1\n",
              "8   927489     1\n",
              "9   927490     1\n",
              "10  927506     1\n",
              "13  927509     1\n",
              "14  927510     1"
            ],
            "text/html": [
              "\n",
              "  <div id=\"df-76bd38fd-9014-4434-99a2-33501880012f\" class=\"colab-df-container\">\n",
              "    <div>\n",
              "<style scoped>\n",
              "    .dataframe tbody tr th:only-of-type {\n",
              "        vertical-align: middle;\n",
              "    }\n",
              "\n",
              "    .dataframe tbody tr th {\n",
              "        vertical-align: top;\n",
              "    }\n",
              "\n",
              "    .dataframe thead th {\n",
              "        text-align: right;\n",
              "    }\n",
              "</style>\n",
              "<table border=\"1\" class=\"dataframe\">\n",
              "  <thead>\n",
              "    <tr style=\"text-align: right;\">\n",
              "      <th></th>\n",
              "      <th>tile</th>\n",
              "      <th>quad</th>\n",
              "    </tr>\n",
              "  </thead>\n",
              "  <tbody>\n",
              "    <tr>\n",
              "      <th>5</th>\n",
              "      <td>927486</td>\n",
              "      <td>1</td>\n",
              "    </tr>\n",
              "    <tr>\n",
              "      <th>8</th>\n",
              "      <td>927489</td>\n",
              "      <td>1</td>\n",
              "    </tr>\n",
              "    <tr>\n",
              "      <th>9</th>\n",
              "      <td>927490</td>\n",
              "      <td>1</td>\n",
              "    </tr>\n",
              "    <tr>\n",
              "      <th>10</th>\n",
              "      <td>927506</td>\n",
              "      <td>1</td>\n",
              "    </tr>\n",
              "    <tr>\n",
              "      <th>13</th>\n",
              "      <td>927509</td>\n",
              "      <td>1</td>\n",
              "    </tr>\n",
              "    <tr>\n",
              "      <th>14</th>\n",
              "      <td>927510</td>\n",
              "      <td>1</td>\n",
              "    </tr>\n",
              "  </tbody>\n",
              "</table>\n",
              "</div>\n",
              "    <div class=\"colab-df-buttons\">\n",
              "\n",
              "  <div class=\"colab-df-container\">\n",
              "    <button class=\"colab-df-convert\" onclick=\"convertToInteractive('df-76bd38fd-9014-4434-99a2-33501880012f')\"\n",
              "            title=\"Convert this dataframe to an interactive table.\"\n",
              "            style=\"display:none;\">\n",
              "\n",
              "  <svg xmlns=\"http://www.w3.org/2000/svg\" height=\"24px\" viewBox=\"0 -960 960 960\">\n",
              "    <path d=\"M120-120v-720h720v720H120Zm60-500h600v-160H180v160Zm220 220h160v-160H400v160Zm0 220h160v-160H400v160ZM180-400h160v-160H180v160Zm440 0h160v-160H620v160ZM180-180h160v-160H180v160Zm440 0h160v-160H620v160Z\"/>\n",
              "  </svg>\n",
              "    </button>\n",
              "\n",
              "  <style>\n",
              "    .colab-df-container {\n",
              "      display:flex;\n",
              "      gap: 12px;\n",
              "    }\n",
              "\n",
              "    .colab-df-convert {\n",
              "      background-color: #E8F0FE;\n",
              "      border: none;\n",
              "      border-radius: 50%;\n",
              "      cursor: pointer;\n",
              "      display: none;\n",
              "      fill: #1967D2;\n",
              "      height: 32px;\n",
              "      padding: 0 0 0 0;\n",
              "      width: 32px;\n",
              "    }\n",
              "\n",
              "    .colab-df-convert:hover {\n",
              "      background-color: #E2EBFA;\n",
              "      box-shadow: 0px 1px 2px rgba(60, 64, 67, 0.3), 0px 1px 3px 1px rgba(60, 64, 67, 0.15);\n",
              "      fill: #174EA6;\n",
              "    }\n",
              "\n",
              "    .colab-df-buttons div {\n",
              "      margin-bottom: 4px;\n",
              "    }\n",
              "\n",
              "    [theme=dark] .colab-df-convert {\n",
              "      background-color: #3B4455;\n",
              "      fill: #D2E3FC;\n",
              "    }\n",
              "\n",
              "    [theme=dark] .colab-df-convert:hover {\n",
              "      background-color: #434B5C;\n",
              "      box-shadow: 0px 1px 3px 1px rgba(0, 0, 0, 0.15);\n",
              "      filter: drop-shadow(0px 1px 2px rgba(0, 0, 0, 0.3));\n",
              "      fill: #FFFFFF;\n",
              "    }\n",
              "  </style>\n",
              "\n",
              "    <script>\n",
              "      const buttonEl =\n",
              "        document.querySelector('#df-76bd38fd-9014-4434-99a2-33501880012f button.colab-df-convert');\n",
              "      buttonEl.style.display =\n",
              "        google.colab.kernel.accessAllowed ? 'block' : 'none';\n",
              "\n",
              "      async function convertToInteractive(key) {\n",
              "        const element = document.querySelector('#df-76bd38fd-9014-4434-99a2-33501880012f');\n",
              "        const dataTable =\n",
              "          await google.colab.kernel.invokeFunction('convertToInteractive',\n",
              "                                                    [key], {});\n",
              "        if (!dataTable) return;\n",
              "\n",
              "        const docLinkHtml = 'Like what you see? Visit the ' +\n",
              "          '<a target=\"_blank\" href=https://colab.research.google.com/notebooks/data_table.ipynb>data table notebook</a>'\n",
              "          + ' to learn more about interactive tables.';\n",
              "        element.innerHTML = '';\n",
              "        dataTable['output_type'] = 'display_data';\n",
              "        await google.colab.output.renderOutput(dataTable, element);\n",
              "        const docLink = document.createElement('div');\n",
              "        docLink.innerHTML = docLinkHtml;\n",
              "        element.appendChild(docLink);\n",
              "      }\n",
              "    </script>\n",
              "  </div>\n",
              "\n",
              "\n",
              "<div id=\"df-1774d964-8193-40e4-babd-369a1664fe92\">\n",
              "  <button class=\"colab-df-quickchart\" onclick=\"quickchart('df-1774d964-8193-40e4-babd-369a1664fe92')\"\n",
              "            title=\"Suggest charts.\"\n",
              "            style=\"display:none;\">\n",
              "\n",
              "<svg xmlns=\"http://www.w3.org/2000/svg\" height=\"24px\"viewBox=\"0 0 24 24\"\n",
              "     width=\"24px\">\n",
              "    <g>\n",
              "        <path d=\"M19 3H5c-1.1 0-2 .9-2 2v14c0 1.1.9 2 2 2h14c1.1 0 2-.9 2-2V5c0-1.1-.9-2-2-2zM9 17H7v-7h2v7zm4 0h-2V7h2v10zm4 0h-2v-4h2v4z\"/>\n",
              "    </g>\n",
              "</svg>\n",
              "  </button>\n",
              "\n",
              "<style>\n",
              "  .colab-df-quickchart {\n",
              "      --bg-color: #E8F0FE;\n",
              "      --fill-color: #1967D2;\n",
              "      --hover-bg-color: #E2EBFA;\n",
              "      --hover-fill-color: #174EA6;\n",
              "      --disabled-fill-color: #AAA;\n",
              "      --disabled-bg-color: #DDD;\n",
              "  }\n",
              "\n",
              "  [theme=dark] .colab-df-quickchart {\n",
              "      --bg-color: #3B4455;\n",
              "      --fill-color: #D2E3FC;\n",
              "      --hover-bg-color: #434B5C;\n",
              "      --hover-fill-color: #FFFFFF;\n",
              "      --disabled-bg-color: #3B4455;\n",
              "      --disabled-fill-color: #666;\n",
              "  }\n",
              "\n",
              "  .colab-df-quickchart {\n",
              "    background-color: var(--bg-color);\n",
              "    border: none;\n",
              "    border-radius: 50%;\n",
              "    cursor: pointer;\n",
              "    display: none;\n",
              "    fill: var(--fill-color);\n",
              "    height: 32px;\n",
              "    padding: 0;\n",
              "    width: 32px;\n",
              "  }\n",
              "\n",
              "  .colab-df-quickchart:hover {\n",
              "    background-color: var(--hover-bg-color);\n",
              "    box-shadow: 0 1px 2px rgba(60, 64, 67, 0.3), 0 1px 3px 1px rgba(60, 64, 67, 0.15);\n",
              "    fill: var(--button-hover-fill-color);\n",
              "  }\n",
              "\n",
              "  .colab-df-quickchart-complete:disabled,\n",
              "  .colab-df-quickchart-complete:disabled:hover {\n",
              "    background-color: var(--disabled-bg-color);\n",
              "    fill: var(--disabled-fill-color);\n",
              "    box-shadow: none;\n",
              "  }\n",
              "\n",
              "  .colab-df-spinner {\n",
              "    border: 2px solid var(--fill-color);\n",
              "    border-color: transparent;\n",
              "    border-bottom-color: var(--fill-color);\n",
              "    animation:\n",
              "      spin 1s steps(1) infinite;\n",
              "  }\n",
              "\n",
              "  @keyframes spin {\n",
              "    0% {\n",
              "      border-color: transparent;\n",
              "      border-bottom-color: var(--fill-color);\n",
              "      border-left-color: var(--fill-color);\n",
              "    }\n",
              "    20% {\n",
              "      border-color: transparent;\n",
              "      border-left-color: var(--fill-color);\n",
              "      border-top-color: var(--fill-color);\n",
              "    }\n",
              "    30% {\n",
              "      border-color: transparent;\n",
              "      border-left-color: var(--fill-color);\n",
              "      border-top-color: var(--fill-color);\n",
              "      border-right-color: var(--fill-color);\n",
              "    }\n",
              "    40% {\n",
              "      border-color: transparent;\n",
              "      border-right-color: var(--fill-color);\n",
              "      border-top-color: var(--fill-color);\n",
              "    }\n",
              "    60% {\n",
              "      border-color: transparent;\n",
              "      border-right-color: var(--fill-color);\n",
              "    }\n",
              "    80% {\n",
              "      border-color: transparent;\n",
              "      border-right-color: var(--fill-color);\n",
              "      border-bottom-color: var(--fill-color);\n",
              "    }\n",
              "    90% {\n",
              "      border-color: transparent;\n",
              "      border-bottom-color: var(--fill-color);\n",
              "    }\n",
              "  }\n",
              "</style>\n",
              "\n",
              "  <script>\n",
              "    async function quickchart(key) {\n",
              "      const quickchartButtonEl =\n",
              "        document.querySelector('#' + key + ' button');\n",
              "      quickchartButtonEl.disabled = true;  // To prevent multiple clicks.\n",
              "      quickchartButtonEl.classList.add('colab-df-spinner');\n",
              "      try {\n",
              "        const charts = await google.colab.kernel.invokeFunction(\n",
              "            'suggestCharts', [key], {});\n",
              "      } catch (error) {\n",
              "        console.error('Error during call to suggestCharts:', error);\n",
              "      }\n",
              "      quickchartButtonEl.classList.remove('colab-df-spinner');\n",
              "      quickchartButtonEl.classList.add('colab-df-quickchart-complete');\n",
              "    }\n",
              "    (() => {\n",
              "      let quickchartButtonEl =\n",
              "        document.querySelector('#df-1774d964-8193-40e4-babd-369a1664fe92 button');\n",
              "      quickchartButtonEl.style.display =\n",
              "        google.colab.kernel.accessAllowed ? 'block' : 'none';\n",
              "    })();\n",
              "  </script>\n",
              "</div>\n",
              "\n",
              "    </div>\n",
              "  </div>\n"
            ]
          },
          "metadata": {},
          "execution_count": 20
        }
      ]
    },
    {
      "cell_type": "markdown",
      "source": [
        "Let's use the first one, 927486. We need to select that row from the DataFrame, build a download url, and then download it"
      ],
      "metadata": {
        "id": "5RkMSs4Q2uf1"
      },
      "id": "5RkMSs4Q2uf1"
    },
    {
      "cell_type": "code",
      "execution_count": 22,
      "id": "a8835f30-253a-458d-91f6-8ce9b9109782",
      "metadata": {
        "id": "a8835f30-253a-458d-91f6-8ce9b9109782",
        "colab": {
          "base_uri": "https://localhost:8080/"
        },
        "outputId": "8702f206-1471-4c50-daee-0706cc2efc3c"
      },
      "outputs": [
        {
          "output_type": "stream",
          "name": "stdout",
          "text": [
            "Downloaded: /content/gdrive/MyDrive/data/nmeo/quads/planet_medres_normalized_analytic_2021-06_mosaic_1221-930.tif\n"
          ]
        }
      ],
      "source": [
        "# quad to download\n",
        "tid = quad_counts.query(\"quad==1\")['tile'].iloc[0]\n",
        "tiles_quads_ss = tiles_quads[tiles_quads.tile==tid]\n",
        "download_url = f\"{quads_url}/<id>/full?api_key={PLANET_API_KEY}\"\n",
        "\n",
        "link = get_quad_download_url(download_url, tiles_quads_ss.quad.iloc[0])\n",
        "filename = f\"{quad_dir}/{tiles_quads_ss.file.iloc[0]}.tif\"\n",
        "download_tiles_helper(link, filename)"
      ]
    },
    {
      "cell_type": "markdown",
      "source": [
        "### Retile it"
      ],
      "metadata": {
        "id": "XnlyDppFwtsQ"
      },
      "id": "XnlyDppFwtsQ"
    },
    {
      "cell_type": "code",
      "source": [
        "# Grab portion of quads that tile intersects and reproject/retile to that\n",
        "transform = dst_transform(tiles_quads_ss)\n",
        "dst_img = f\"{tile_dir}/tile{tid}_{tiles_quads_ss['date'].iloc[0]}\" +\\\n",
        "    f\"_buf{int((dst_width-2000)/2)}.tif\"\n",
        "dst_cog = re.sub('.tif', '_cog.tif', dst_img)\n",
        "\n",
        "filename = f'{quad_dir}/{tiles_quads_ss[\"file\"].iloc[0]}.tif'\n",
        "\n",
        "# # run retiler\n",
        "if not os.path.isfile(dst_img) or not os.path.isfile(dst_cog):\n",
        "    reproject_retile_image(\n",
        "        filename, transform, dst_width, dst_height, nbands, dst_crs,\n",
        "        dst_img, temp_dir, dst_dtype = np.int16, inmemory = False,\n",
        "        cleanup=True\n",
        "    )"
      ],
      "metadata": {
        "id": "eJHZJ3x7xgUP"
      },
      "id": "eJHZJ3x7xgUP",
      "execution_count": 23,
      "outputs": []
    },
    {
      "cell_type": "markdown",
      "source": [
        "### COG-ify it"
      ],
      "metadata": {
        "id": "w7VuWxnQ5ajr"
      },
      "id": "w7VuWxnQ5ajr"
    },
    {
      "cell_type": "code",
      "source": [
        "# create COG from tile\n",
        "cmd = ['rio', 'cogeo', 'create', '-b', '1,2,3,4', dst_img, dst_cog]\n",
        "p = run(cmd, capture_output=True)\n",
        "msg = p.stderr.decode().split('\\n')\n",
        "print(f'...{msg[-2]}')\n",
        "\n",
        "cmd = ['rio', 'cogeo', 'validate', dst_cog]\n",
        "p = run(cmd, capture_output = True)\n",
        "msg = p.stdout.decode().split('\\n')\n",
        "print(f'...{msg[0]}')"
      ],
      "metadata": {
        "colab": {
          "base_uri": "https://localhost:8080/"
        },
        "id": "FaKTXTv2yDKa",
        "outputId": "6b5b5d10-1a87-40f5-a3cf-4cae4c180892"
      },
      "id": "FaKTXTv2yDKa",
      "execution_count": 24,
      "outputs": [
        {
          "output_type": "stream",
          "name": "stdout",
          "text": [
            "...Writing output to: /content/gdrive/MyDrive/data/nmeo/tiles/tile927486_2021-06_buf179_cog.tif\n",
            ".../content/gdrive/MyDrive/data/nmeo/tiles/tile927486_2021-06_buf179_cog.tif is a valid cloud optimized GeoTIFF\n"
          ]
        }
      ]
    },
    {
      "cell_type": "markdown",
      "source": [
        "Let's have a look at it"
      ],
      "metadata": {
        "id": "NJ3RhmkP6XqI"
      },
      "id": "NJ3RhmkP6XqI"
    },
    {
      "cell_type": "code",
      "source": [
        "m = leafmap.Map()\n",
        "m.add_basemap()\n",
        "m.add_basemap(\"SATELLITE\")\n",
        "# m.add_raster(filename)\n",
        "m.add_raster(dst_cog, layer_name=\"Retiled Planet\")\n",
        "m.add_gdf(tiles_quads, zoom_to_layer=True, layer_name=\"Tile\")\n",
        "m"
      ],
      "metadata": {
        "id": "MMO3NixtyDj6",
        "colab": {
          "resources": {
            "http://localhost:43097/api/tiles/2/2/2.png?&filename=%2Fcontent%2Fgdrive%2FMyDrive%2Fdata%2Fnmeo%2Ftiles%2Ftile927467_2021-06_buf179_cog.tif&n_colors=255&projection=EPSG%3A3857": {
              "data": "iVBORw0KGgoAAAANSUhEUgAAAQAAAAEACAYAAABccqhmAAAEkElEQVR4Xu3QMQEAAADCoPVP7WsIiEBhwIABAwYMGDBgwIABAwYMGDBgwIABAwYMGDBgwIABAwYMGDBgwIABAwYMGDBgwIABAwYMGDBgwIABAwYMGDBgwIABAwYMGDBgwIABAwYMGDBgwIABAwYMGDBgwIABAwYMGDBgwIABAwYMGDBgwIABAwYMGDBgwIABAwYMGDBgwIABAwYMGDBgwIABAwYMGDBgwIABAwYMGDBgwIABAwYMGDBgwIABAwYMGDBgwIABAwYMGDBgwIABAwYMGDBgwIABAwYMGDBgwIABAwYMGDBgwIABAwYMGDBgwIABAwYMGDBgwIABAwYMGDBgwIABAwYMGDBgwIABAwYMGDBgwIABAwYMGDBgwIABAwYMGDBgwIABAwYMGDBgwIABAwYMGDBgwIABAwYMGDBgwIABAwYMGDBgwIABAwYMGDBgwIABAwYMGDBgwIABAwYMGDBgwIABAwYMGDBgwIABAwYMGDBgwIABAwYMGDBgwIABAwYMGDBgwIABAwYMGDBgwIABAwYMGDBgwIABAwYMGDBgwIABAwYMGDBgwIABAwYMGDBgwIABAwYMGDBgwIABAwYMGDBgwIABAwYMGDBgwIABAwYMGDBgwIABAwYMGDBgwIABAwYMGDBgwIABAwYMGDBgwIABAwYMGDBgwIABAwYMGDBgwIABAwYMGDBgwIABAwYMGDBgwIABAwYMGDBgwIABAwYMGDBgwIABAwYMGDBgwIABAwYMGDBgwIABAwYMGDBgwIABAwYMGDBgwIABAwYMGDBgwIABAwYMGDBgwIABAwYMGDBgwIABAwYMGDBgwIABAwYMGDBgwIABAwYMGDBgwIABAwYMGDBgwIABAwYMGDBgwIABAwYMGDBgwIABAwYMGDBgwIABAwYMGDBgwIABAwYMGDBgwIABAwYMGDBgwIABAwYMGDBgwIABAwYMGDBgwIABAwYMGDBgwIABAwYMGDBgwIABAwYMGDBgwIABAwYMGDBgwIABAwYMGDBgwIABAwYMGDBgwIABAwYMGDBgwIABAwYMGDBgwIABAwYMGDBgwIABAwYMGDBgwIABAwYMGDBgwIABAwYMGDBgwIABAwYMGDBgwIABAwYMGDBgwIABAwYMGDBgwIABAwYMGDBgwIABAwYMGDBgwIABAwYMGDBgwIABAwYMGDBgwIABAwYMGDBgwIABAwYMGDBgwIABAwYMGDBgwIABAwYMGDBgwIABAwYMGDBgwIABAwYMGDBgwIABAwYMGDBgwIABAwYMGDBgwIABAwYMGDBgwIABAwYMGDBgwIABAwYMGDBgwIABAwYMGDBgwIABAwYMGDBgwIABAwYMGDBgwIABAwYMGDBgwIABAwYMGDBgwIABAwYMGDBgwIABAwYMGDBgwIABAwYMGDBgwIABAwYMGDBgwIABAwYMGDBgwIABAwYMGDBgwIABAwYMGDBgwIABAwYMGDBgwIABAwYMGDBgwIABAwYMGDBgwIABAwYMGDBgwIABAwYMGDBgwIABAwYMGDBgwIABAwYMGDDwAwMBPAABvrLd5QAAAABJRU5ErkJggg==",
              "ok": true,
              "headers": [
                [
                  "content-type",
                  "image/png"
                ]
              ],
              "status": 200,
              "status_text": ""
            },
            "http://localhost:43097/api/tiles/5/19/17.png?&filename=%2Fcontent%2Fgdrive%2FMyDrive%2Fdata%2Fnmeo%2Ftiles%2Ftile927467_2021-06_buf179_cog.tif&n_colors=255&projection=EPSG%3A3857": {
              "data": "iVBORw0KGgoAAAANSUhEUgAAAQAAAAEACAYAAABccqhmAAAElklEQVR4Xu3QsQ0AAAzCMP5/ur2BEcmZMzkRAQIECBAgQIAAAQIECBAgQIAAAQIECBAgQIAAAQIECBAgQIAAAQIECBAgQIAAAQIECBAgQIAAAQIECBAgQIAAAQIECBAgQIAAAQIECBAgQIAAAQIECBAgQIAAAQIECBAgQIAAAQIECBAgQIAAAQIECBAgQIAAAQIECBAgQIAAAQIECBAgQIAAAQIECBAgQIAAAQIECBAgQIAAAQIECBAgQIAAAQIECBAgQIAAAQIECBAgQIAAAQIECBAgQIAAAQIECBAgQIAAAQIECBAgQIAAAQIECBAgQIAAAQIECBAgQIAAAQIECBAgQIAAAQIECBAgQIAAAQIECBAgQIAAAQIECBAgQIAAAQIECBAgQIAAAQIECBAgQIAAAQIECBAgQIAAAQIECBAgQIAAAQIECBAgQIAAAQIECBAgQIAAAQIECBAgQIAAAQIECBAgQIAAAQIECBAgQIAAAQIECBAgQIAAAQIECBAgQIAAAQIECBAgQIAAAQIECBAgQIAAAQIECBAgQIAAAQIECBAgQIAAAQIECBAgQIAAAQIECBAgQIAAAQIECBAgQIAAAQIECBAgQIAAAQIECBAgQIAAAQIECBAgQIAAAQIECBAgQIAAAQIECBAgQIAAAQIECBAgQIAAAQIECBAgQIAAAQIECBAgQIAAAQIECBAgQIAAAQIECBAgQIAAAQIECBAgQIBAJXDVbSZAgAABAgQIECBAgAABAgQIECBAgAABAgQIECBAgAABAgQIECBAgAABAgQIECBAgAABAgQIECBAgAABAgQIECBAgAABAgQIECBAgAABAgQIECBAgAABAgQIECBAgAABAgQIECBAgAABAgQIECBAgAABAgQIECBAgAABAgQIECBAgAABAgQIECBAgAABAgQIECBAgAABAgQIECBAgAABAgQIECBAgAABAgQIECBAgAABAgQIECBAgAABAgQIECBAgAABAgQIECBAgAABAgQIECBAgAABAgQIECBAgAABAgQIECBAgAABAgQIECBAgAABAgQIECBAgAABAgQIECBAgAABAgQIECBAgAABAgQIECBAgAABAgQIECBAgAABAgQIECBAgAABAgQIECBAgAABAgQIECBAgAABAgQIECBAgAABAgQIECBAgAABAgQIECBAgAABAgQIECBAgAABAgQIECBAgAABAgQIECBAgAABAgQIECBAgAABAgQIECBAgAABAgQIECBAgAABAgQIECBAgAABAgQIECBAgAABAgQIECBAgAABAgQIECBAgAABAgQIECBAgAABAgQIECBAgAABAgQIECBAgAABAgQIECBAgAABAgQIECBAgAABAgQIECBAgAABAgQIECBAgAABAgQIECBAgAABAgQIECBAgAABAgQIECBAgAABAgQIECBAgAABAgQIECBAgAABAgQIECBAgAABAgQIECBAgAABAgQIECBAgAABAgQIECBAgAABAgQIECBAgAABAgQIECBAgAABAgQIECBAgAABAgQIECBAgAABAgQIECBAgAABAgQGBR4kgwEA6xwivwAAAABJRU5ErkJggg==",
              "ok": true,
              "headers": [
                [
                  "content-type",
                  "image/png"
                ]
              ],
              "status": 200,
              "status_text": ""
            },
            "http://localhost:43097/api/tiles/8/152/139.png?&filename=%2Fcontent%2Fgdrive%2FMyDrive%2Fdata%2Fnmeo%2Ftiles%2Ftile927467_2021-06_buf179_cog.tif&n_colors=255&projection=EPSG%3A3857": {
              "data": "iVBORw0KGgoAAAANSUhEUgAAAQAAAAEACAYAAABccqhmAAAEw0lEQVR4Xu3UwQ3AIAwDQOj+O5cNrPKL3ONrIZEL8loOAQIECBAgQIAAAQIECBAgQIAAAQIECBAgQIAAAQIECBAgQIAAAQIECBAgQIAAAQIECBAgQIAAAQIECBAgQIAAAQIECBAgQIAAAQIECBAgQIAAAQIECBAgQIAAAQIECBAgQIAAAQIECBAgQIAAAQIECBAgQIAAAQIECBAgQIAAAQIECBAgQIAAAQIECBAgQIAAAQIECBAgQIAAAQIECBAgQIAAAQIECBAgQIAAAQIECBAgQIAAAQIECBAgQIAAAQIECBAgQIAAAQIECBAgQIAAAQIECBAgQIAAAQIECBAgQIAAAQIECBAgQIAAAQIECBAgQIAAAQIECBAgQIAAAQIECBAgQIAAAQIECBAgQIAAAQIECBAgQIAAAQIECBAgQIAAAQIECBAgQIAAAQIECBAgQIAAAQIECBAgQIAAAQIECBAgQIAAAQIECBAgQIAAAQIECBAgQIAAAQIECBAgQIAAAQIECBAgQIAAAQIECBAgQIAAAQIECBAgQIAAAQIECBAgQIAAAQIECBAgQIAAAQIECBAgQIAAAQIECBAgQIAAAQIECBAgQIAAAQIECBAgQIAAAQIECBAgQIAAAQIECBAgQIAAAQIECBAgQIAAAQIECBAgQIAAAQIECBAgQIAAAQIECBAgQIAAAQIECBAgQIAAAQIECBAgQIAAAQIECBAgQIAAAQIECBAgQIAAAQIECBAgQIAAAQIECBAgQIAAAQIECBAgQIAAAQIECBAgQIAAAQIECBAgQIAAAQIECBAgQIAAAQIECBAgQIAAAQIECBAgQIAAAQIECBAgQIAAAQIECBAgQIAAAQIECBAgQIAAAQIECBAgQIAAAQIECBAgQIAAAQIECBAgQIAAAQIECBAgQIAAAQIECBAgQIAAAQIECBAgQIAAAQIECBAgQIAAAQIECBAgQIAAAQIECBAgQIAAAQIECBAgQIAAAQIECBAgQIAAAQIECBAgQIAAAQIECBAgMEJgj3iFRxC4F3g/XvHHA9QTMhEBAuUCCqB8wcYjkAQUQNKRESgXUADlCzYegSSgAJKOjEC5gAIoX7DxCCQBBZB0ZATKBRRA+YKNRyAJKICkIyNQLqAAyhdsPAIECBAgQIAAAQIECBAgQIAAAQIECBAgQIAAAQIECBAgQIAAAQIECBAgQIAAAQIECBAgQIAAAQIECBAgQIAAAQIECBAgQIAAAQIECBAgQIAAAQIECBAgQIAAAQIECBAgQIAAAQIECBAgQIAAAQIECBAgQIAAAQIECBAgQIAAAQIECBAgQIAAAQIECBAgQIAAAQIECBAgQIAAAQIECBAgQIAAAQIECBAgQIAAAQIECBAgQIAAAQIECBAgQIAAAQIECBAgQIAAAQIECBAgQIAAAQIECBAgQIAAAQIECBAgQIAAAQIECBAgQIAAAQIECBAgQIAAAQIECBAgQIAAAQIECBAgQIAAAQIECBAgQIAAAQIECBAgQIAAAQIECBAgQIAAAQIECBAgQIAAAQIECBAgQIAAAQIECBAgQIAAAQIECBAgQIAAAQIECBAgQIAAAQIECBAgQIAAAQIECBAgQIAAAQIECBAgQOB/Agfh6AEWfGzZXAAAAABJRU5ErkJggg==",
              "ok": true,
              "headers": [
                [
                  "content-type",
                  "image/png"
                ]
              ],
              "status": 200,
              "status_text": ""
            },
            "http://localhost:43097/api/tiles/11/1221/1117.png?&filename=%2Fcontent%2Fgdrive%2FMyDrive%2Fdata%2Fnmeo%2Ftiles%2Ftile927467_2021-06_buf179_cog.tif&n_colors=255&projection=EPSG%3A3857": {
              "data": "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",
              "ok": true,
              "headers": [
                [
                  "content-type",
                  "image/png"
                ]
              ],
              "status": 200,
              "status_text": ""
            }
          },
          "base_uri": "https://localhost:8080/",
          "height": 521,
          "referenced_widgets": [
            "2dbe8aed7627415986466f88b1220778",
            "eb2ee080995c4c75bf5e70498e33387e",
            "57b1d21b04694749bab26ef08a8cfb48",
            "c0794a01ac144ea4938b01f11fdef848",
            "a7e0b7fcb92142efa01ec4a13c8401a0",
            "f0173108ced448138cafd0d97e49f101",
            "ff99395144394c22b1128744ecd52cb7",
            "1e6af698b4b54864bb8951baaa65f0c0",
            "eb2455b8c1dd49afb0d9648648a8e5c9",
            "38ba9fdcd8c3431eac6f1e9f12ff8080",
            "8eef82aa57da4f3887b887f50c94ff24",
            "1b11c2c25f1546f68120e7478c565269",
            "7c7dec82b0f644b1bda53f681e44d897",
            "2cb3c75055704d37879f7297811442c2",
            "040cf93cbcc348d69b731fe85e9c3edf",
            "7ecc8a3bdcc141f9aefb824fd66d3070",
            "7339285b836e49229964f810dde1a638",
            "5bd6dcc5166647f2a27778544a99d09c",
            "25ece0bb48d3428e95017e862aba934f",
            "4f582d8e16284aaf97f3b39559ab79d3",
            "548e7bff28504176863cbc71c5538376",
            "2667c674b0fc4a479e0cd50d044b7340",
            "7b00d196275a4820a56a8f8ada6a182f",
            "df30f6c7765645aa8500578d21413b8c",
            "8801e02004ff444b9abce8365ba047a4",
            "6927242f23d440b4b0fb8628b10f187b",
            "a24f12c2ac584d93b25f724624ce9eb7",
            "3c8f0b9b80c44e428c1ad23f189d5723",
            "66a55310280a4896a51bce9e06cc9f89",
            "3081384f3ecb4f81beba9f07d283ae36",
            "b5e94d12e1ca4af28f8700cd26789f57",
            "976dbbe2c34d498eaf901aec04527409",
            "3a7905ff39194b45943e211603a5bb8b",
            "fb653397699340ad905591cccc4f3702",
            "6558f58cc1c9456ea0159fa5f981e1b7",
            "ef97b8302d354e3d8382a9698d22e786",
            "d373ff9eadd84d66939bf7f73080582a"
          ]
        },
        "outputId": "39e39a6a-b539-4a4b-e582-ce6bc086e3da"
      },
      "id": "MMO3NixtyDj6",
      "execution_count": 129,
      "outputs": [
        {
          "output_type": "display_data",
          "data": {
            "text/plain": [
              "Map(center=[20, 0], controls=(ZoomControl(options=['position', 'zoom_in_text', 'zoom_in_title', 'zoom_out_text…"
            ],
            "application/vnd.jupyter.widget-view+json": {
              "version_major": 2,
              "version_minor": 0,
              "model_id": "2dbe8aed7627415986466f88b1220778"
            }
          },
          "metadata": {
            "application/vnd.jupyter.widget-view+json": {
              "colab": {
                "custom_widget_manager": {
                  "url": "https://ssl.gstatic.com/colaboratory-static/widgets/colab-cdn-widget-manager/b3e629b1971e1542/manager.min.js"
                }
              }
            }
          }
        }
      ]
    },
    {
      "cell_type": "markdown",
      "source": [
        "#### Download and retile multiple quads\n",
        "\n",
        "For the case when one of our tiles overlaps The code below shows how to find which tiles overlap the largest number of different Planet quads."
      ],
      "metadata": {
        "id": "EZluS4NE5qOZ"
      },
      "id": "EZluS4NE5qOZ"
    },
    {
      "cell_type": "code",
      "source": [
        "quad_counts.query(\"quad==quad.max()\")"
      ],
      "metadata": {
        "id": "JrKDGRW171IV",
        "colab": {
          "base_uri": "https://localhost:8080/",
          "height": 175
        },
        "outputId": "e835259e-ebdb-4a55-8080-18effe0aeef7"
      },
      "id": "JrKDGRW171IV",
      "execution_count": 40,
      "outputs": [
        {
          "output_type": "execute_result",
          "data": {
            "text/plain": [
              "      tile  quad\n",
              "1   927467     4\n",
              "2   927468     4\n",
              "16  927527     4\n",
              "17  927528     4"
            ],
            "text/html": [
              "\n",
              "  <div id=\"df-ec223c89-b82e-4562-a1c1-bdff3ae5fa35\" class=\"colab-df-container\">\n",
              "    <div>\n",
              "<style scoped>\n",
              "    .dataframe tbody tr th:only-of-type {\n",
              "        vertical-align: middle;\n",
              "    }\n",
              "\n",
              "    .dataframe tbody tr th {\n",
              "        vertical-align: top;\n",
              "    }\n",
              "\n",
              "    .dataframe thead th {\n",
              "        text-align: right;\n",
              "    }\n",
              "</style>\n",
              "<table border=\"1\" class=\"dataframe\">\n",
              "  <thead>\n",
              "    <tr style=\"text-align: right;\">\n",
              "      <th></th>\n",
              "      <th>tile</th>\n",
              "      <th>quad</th>\n",
              "    </tr>\n",
              "  </thead>\n",
              "  <tbody>\n",
              "    <tr>\n",
              "      <th>1</th>\n",
              "      <td>927467</td>\n",
              "      <td>4</td>\n",
              "    </tr>\n",
              "    <tr>\n",
              "      <th>2</th>\n",
              "      <td>927468</td>\n",
              "      <td>4</td>\n",
              "    </tr>\n",
              "    <tr>\n",
              "      <th>16</th>\n",
              "      <td>927527</td>\n",
              "      <td>4</td>\n",
              "    </tr>\n",
              "    <tr>\n",
              "      <th>17</th>\n",
              "      <td>927528</td>\n",
              "      <td>4</td>\n",
              "    </tr>\n",
              "  </tbody>\n",
              "</table>\n",
              "</div>\n",
              "    <div class=\"colab-df-buttons\">\n",
              "\n",
              "  <div class=\"colab-df-container\">\n",
              "    <button class=\"colab-df-convert\" onclick=\"convertToInteractive('df-ec223c89-b82e-4562-a1c1-bdff3ae5fa35')\"\n",
              "            title=\"Convert this dataframe to an interactive table.\"\n",
              "            style=\"display:none;\">\n",
              "\n",
              "  <svg xmlns=\"http://www.w3.org/2000/svg\" height=\"24px\" viewBox=\"0 -960 960 960\">\n",
              "    <path d=\"M120-120v-720h720v720H120Zm60-500h600v-160H180v160Zm220 220h160v-160H400v160Zm0 220h160v-160H400v160ZM180-400h160v-160H180v160Zm440 0h160v-160H620v160ZM180-180h160v-160H180v160Zm440 0h160v-160H620v160Z\"/>\n",
              "  </svg>\n",
              "    </button>\n",
              "\n",
              "  <style>\n",
              "    .colab-df-container {\n",
              "      display:flex;\n",
              "      gap: 12px;\n",
              "    }\n",
              "\n",
              "    .colab-df-convert {\n",
              "      background-color: #E8F0FE;\n",
              "      border: none;\n",
              "      border-radius: 50%;\n",
              "      cursor: pointer;\n",
              "      display: none;\n",
              "      fill: #1967D2;\n",
              "      height: 32px;\n",
              "      padding: 0 0 0 0;\n",
              "      width: 32px;\n",
              "    }\n",
              "\n",
              "    .colab-df-convert:hover {\n",
              "      background-color: #E2EBFA;\n",
              "      box-shadow: 0px 1px 2px rgba(60, 64, 67, 0.3), 0px 1px 3px 1px rgba(60, 64, 67, 0.15);\n",
              "      fill: #174EA6;\n",
              "    }\n",
              "\n",
              "    .colab-df-buttons div {\n",
              "      margin-bottom: 4px;\n",
              "    }\n",
              "\n",
              "    [theme=dark] .colab-df-convert {\n",
              "      background-color: #3B4455;\n",
              "      fill: #D2E3FC;\n",
              "    }\n",
              "\n",
              "    [theme=dark] .colab-df-convert:hover {\n",
              "      background-color: #434B5C;\n",
              "      box-shadow: 0px 1px 3px 1px rgba(0, 0, 0, 0.15);\n",
              "      filter: drop-shadow(0px 1px 2px rgba(0, 0, 0, 0.3));\n",
              "      fill: #FFFFFF;\n",
              "    }\n",
              "  </style>\n",
              "\n",
              "    <script>\n",
              "      const buttonEl =\n",
              "        document.querySelector('#df-ec223c89-b82e-4562-a1c1-bdff3ae5fa35 button.colab-df-convert');\n",
              "      buttonEl.style.display =\n",
              "        google.colab.kernel.accessAllowed ? 'block' : 'none';\n",
              "\n",
              "      async function convertToInteractive(key) {\n",
              "        const element = document.querySelector('#df-ec223c89-b82e-4562-a1c1-bdff3ae5fa35');\n",
              "        const dataTable =\n",
              "          await google.colab.kernel.invokeFunction('convertToInteractive',\n",
              "                                                    [key], {});\n",
              "        if (!dataTable) return;\n",
              "\n",
              "        const docLinkHtml = 'Like what you see? Visit the ' +\n",
              "          '<a target=\"_blank\" href=https://colab.research.google.com/notebooks/data_table.ipynb>data table notebook</a>'\n",
              "          + ' to learn more about interactive tables.';\n",
              "        element.innerHTML = '';\n",
              "        dataTable['output_type'] = 'display_data';\n",
              "        await google.colab.output.renderOutput(dataTable, element);\n",
              "        const docLink = document.createElement('div');\n",
              "        docLink.innerHTML = docLinkHtml;\n",
              "        element.appendChild(docLink);\n",
              "      }\n",
              "    </script>\n",
              "  </div>\n",
              "\n",
              "\n",
              "<div id=\"df-a5d4e8ff-c33d-42b4-a0e0-bee4f0730554\">\n",
              "  <button class=\"colab-df-quickchart\" onclick=\"quickchart('df-a5d4e8ff-c33d-42b4-a0e0-bee4f0730554')\"\n",
              "            title=\"Suggest charts.\"\n",
              "            style=\"display:none;\">\n",
              "\n",
              "<svg xmlns=\"http://www.w3.org/2000/svg\" height=\"24px\"viewBox=\"0 0 24 24\"\n",
              "     width=\"24px\">\n",
              "    <g>\n",
              "        <path d=\"M19 3H5c-1.1 0-2 .9-2 2v14c0 1.1.9 2 2 2h14c1.1 0 2-.9 2-2V5c0-1.1-.9-2-2-2zM9 17H7v-7h2v7zm4 0h-2V7h2v10zm4 0h-2v-4h2v4z\"/>\n",
              "    </g>\n",
              "</svg>\n",
              "  </button>\n",
              "\n",
              "<style>\n",
              "  .colab-df-quickchart {\n",
              "      --bg-color: #E8F0FE;\n",
              "      --fill-color: #1967D2;\n",
              "      --hover-bg-color: #E2EBFA;\n",
              "      --hover-fill-color: #174EA6;\n",
              "      --disabled-fill-color: #AAA;\n",
              "      --disabled-bg-color: #DDD;\n",
              "  }\n",
              "\n",
              "  [theme=dark] .colab-df-quickchart {\n",
              "      --bg-color: #3B4455;\n",
              "      --fill-color: #D2E3FC;\n",
              "      --hover-bg-color: #434B5C;\n",
              "      --hover-fill-color: #FFFFFF;\n",
              "      --disabled-bg-color: #3B4455;\n",
              "      --disabled-fill-color: #666;\n",
              "  }\n",
              "\n",
              "  .colab-df-quickchart {\n",
              "    background-color: var(--bg-color);\n",
              "    border: none;\n",
              "    border-radius: 50%;\n",
              "    cursor: pointer;\n",
              "    display: none;\n",
              "    fill: var(--fill-color);\n",
              "    height: 32px;\n",
              "    padding: 0;\n",
              "    width: 32px;\n",
              "  }\n",
              "\n",
              "  .colab-df-quickchart:hover {\n",
              "    background-color: var(--hover-bg-color);\n",
              "    box-shadow: 0 1px 2px rgba(60, 64, 67, 0.3), 0 1px 3px 1px rgba(60, 64, 67, 0.15);\n",
              "    fill: var(--button-hover-fill-color);\n",
              "  }\n",
              "\n",
              "  .colab-df-quickchart-complete:disabled,\n",
              "  .colab-df-quickchart-complete:disabled:hover {\n",
              "    background-color: var(--disabled-bg-color);\n",
              "    fill: var(--disabled-fill-color);\n",
              "    box-shadow: none;\n",
              "  }\n",
              "\n",
              "  .colab-df-spinner {\n",
              "    border: 2px solid var(--fill-color);\n",
              "    border-color: transparent;\n",
              "    border-bottom-color: var(--fill-color);\n",
              "    animation:\n",
              "      spin 1s steps(1) infinite;\n",
              "  }\n",
              "\n",
              "  @keyframes spin {\n",
              "    0% {\n",
              "      border-color: transparent;\n",
              "      border-bottom-color: var(--fill-color);\n",
              "      border-left-color: var(--fill-color);\n",
              "    }\n",
              "    20% {\n",
              "      border-color: transparent;\n",
              "      border-left-color: var(--fill-color);\n",
              "      border-top-color: var(--fill-color);\n",
              "    }\n",
              "    30% {\n",
              "      border-color: transparent;\n",
              "      border-left-color: var(--fill-color);\n",
              "      border-top-color: var(--fill-color);\n",
              "      border-right-color: var(--fill-color);\n",
              "    }\n",
              "    40% {\n",
              "      border-color: transparent;\n",
              "      border-right-color: var(--fill-color);\n",
              "      border-top-color: var(--fill-color);\n",
              "    }\n",
              "    60% {\n",
              "      border-color: transparent;\n",
              "      border-right-color: var(--fill-color);\n",
              "    }\n",
              "    80% {\n",
              "      border-color: transparent;\n",
              "      border-right-color: var(--fill-color);\n",
              "      border-bottom-color: var(--fill-color);\n",
              "    }\n",
              "    90% {\n",
              "      border-color: transparent;\n",
              "      border-bottom-color: var(--fill-color);\n",
              "    }\n",
              "  }\n",
              "</style>\n",
              "\n",
              "  <script>\n",
              "    async function quickchart(key) {\n",
              "      const quickchartButtonEl =\n",
              "        document.querySelector('#' + key + ' button');\n",
              "      quickchartButtonEl.disabled = true;  // To prevent multiple clicks.\n",
              "      quickchartButtonEl.classList.add('colab-df-spinner');\n",
              "      try {\n",
              "        const charts = await google.colab.kernel.invokeFunction(\n",
              "            'suggestCharts', [key], {});\n",
              "      } catch (error) {\n",
              "        console.error('Error during call to suggestCharts:', error);\n",
              "      }\n",
              "      quickchartButtonEl.classList.remove('colab-df-spinner');\n",
              "      quickchartButtonEl.classList.add('colab-df-quickchart-complete');\n",
              "    }\n",
              "    (() => {\n",
              "      let quickchartButtonEl =\n",
              "        document.querySelector('#df-a5d4e8ff-c33d-42b4-a0e0-bee4f0730554 button');\n",
              "      quickchartButtonEl.style.display =\n",
              "        google.colab.kernel.accessAllowed ? 'block' : 'none';\n",
              "    })();\n",
              "  </script>\n",
              "</div>\n",
              "\n",
              "    </div>\n",
              "  </div>\n"
            ]
          },
          "metadata": {},
          "execution_count": 40
        }
      ]
    },
    {
      "cell_type": "markdown",
      "source": [
        "We'll use it in an updated version of the code above to download the quads"
      ],
      "metadata": {
        "id": "fhqU38-pO-nv"
      },
      "id": "fhqU38-pO-nv"
    },
    {
      "cell_type": "code",
      "source": [
        "# Block #1\n",
        "# download_url template and variable for output file names\n",
        "filenames = []\n",
        "download_url = f\"{quads_url}/<id>/full?api_key={PLANET_API_KEY}\"\n",
        "\n",
        "# quad to download\n",
        "tid = quad_counts.query(\"quad==quad.max()\")['tile'].iloc[0]\n",
        "tiles_quads_ss = tiles_quads[tiles_quads.tile==tid]\n",
        "poly = tiles[tiles.tile==tid]"
      ],
      "metadata": {
        "id": "P1jvtjFnMqjk"
      },
      "id": "P1jvtjFnMqjk",
      "execution_count": 169,
      "outputs": []
    },
    {
      "cell_type": "markdown",
      "source": [
        "Since there is more than one quad to download, we will iterate over them in a loop"
      ],
      "metadata": {
        "id": "Jhp-NL_ERnKE"
      },
      "id": "Jhp-NL_ERnKE"
    },
    {
      "cell_type": "code",
      "source": [
        "# Block # 2\n",
        "# download each quad in a loop\n",
        "for i, row in tiles_quads_ss.iterrows():\n",
        "    print(i)\n",
        "    link = get_quad_download_url(download_url, row['quad'])\n",
        "    filename = f\"{quad_dir}/{row['file']}.tif\"\n",
        "    filenames.append(filename)\n",
        "    download_tiles_helper(link, filename)"
      ],
      "metadata": {
        "colab": {
          "base_uri": "https://localhost:8080/"
        },
        "id": "gji3617VR3XE",
        "outputId": "bfac368b-0cf4-4089-8220-41aec8f0c919"
      },
      "id": "gji3617VR3XE",
      "execution_count": 168,
      "outputs": [
        {
          "output_type": "stream",
          "name": "stdout",
          "text": [
            "3926\n",
            "File already exists: /content/gdrive/MyDrive/data/nmeo/quads/planet_medres_normalized_analytic_2021-06_mosaic_1221-930.tif\n",
            "3926\n",
            "File already exists: /content/gdrive/MyDrive/data/nmeo/quads/planet_medres_normalized_analytic_2021-06_mosaic_1221-931.tif\n",
            "3926\n",
            "File already exists: /content/gdrive/MyDrive/data/nmeo/quads/planet_medres_normalized_analytic_2021-06_mosaic_1222-930.tif\n",
            "3926\n",
            "File already exists: /content/gdrive/MyDrive/data/nmeo/quads/planet_medres_normalized_analytic_2021-06_mosaic_1222-931.tif\n"
          ]
        }
      ]
    },
    {
      "cell_type": "markdown",
      "source": [
        "We can use the code below to see how the tile boundary intersects the quad footprints"
      ],
      "metadata": {
        "id": "KnJfF9IBW5MR"
      },
      "id": "KnJfF9IBW5MR"
    },
    {
      "cell_type": "code",
      "source": [
        "# make polygons out of the quad extents\n",
        "polygons = []\n",
        "for file in filenames:\n",
        "    with rasterio.open(file) as src:\n",
        "        bounds = src.bounds\n",
        "        polygon = box(bounds.left, bounds.bottom, bounds.right, bounds.top)\n",
        "        polygons.append(gpd.GeoDataFrame({'geometry': [polygon]}))\n",
        "\n",
        "quad_polys = pd.concat(polygons)\\\n",
        "    .set_crs(src.crs)\\\n",
        "    .to_crs(4326)\\\n",
        "\n",
        "# plot the tile and quad boundaries\n",
        "fig, ax = plt.subplots()\n",
        "quad_polys.boundary.plot(ax=ax)\n",
        "poly.boundary.plot(ax=ax, color=\"red\")\n",
        "None"
      ],
      "metadata": {
        "colab": {
          "base_uri": "https://localhost:8080/",
          "height": 430
        },
        "id": "K-3TgLCDSVQR",
        "outputId": "177d547f-12c6-483a-e2ce-423c31e8fc8f"
      },
      "id": "K-3TgLCDSVQR",
      "execution_count": 157,
      "outputs": [
        {
          "output_type": "display_data",
          "data": {
            "text/plain": [
              "<Figure size 640x480 with 1 Axes>"
            ],
            "image/png": "[encoded data removed]"
          },
          "metadata": {}
        }
      ]
    },
    {
      "cell_type": "markdown",
      "source": [
        "Now let's make our tile out of the quads"
      ],
      "metadata": {
        "id": "RWoFfsUmTTgQ"
      },
      "id": "RWoFfsUmTTgQ"
    },
    {
      "cell_type": "code",
      "source": [
        "# Block 3\n",
        "transform = dst_transform(poly)\n",
        "\n",
        "dst_img = f\"{tile_dir}/tile{tid}_{row['date']}\" +\\\n",
        "        f\"_buf{int((dst_width-2000)/2)}.tif\"\n",
        "dst_cog = re.sub('.tif', '_cog.tif', dst_img)\n",
        "\n",
        "# run retiler\n",
        "if not os.path.isfile(dst_img) or not os.path.isfile(dst_cog):\n",
        "    reproject_retile_image(\n",
        "        filenames, transform, dst_width, dst_height, nbands, dst_crs,\n",
        "        dst_img, temp_dir, dst_dtype = np.int16, inmemory = False,\n",
        "        cleanup=True\n",
        "    )\n",
        "\n",
        "if not os.path.isfile(dst_cog):\n",
        "\n",
        "    # create COG from tile\n",
        "    cmd = ['rio', 'cogeo', 'create', '-b', '1,2,3,4', dst_img, dst_cog]\n",
        "    p = run(cmd, capture_output=True)\n",
        "    msg = p.stderr.decode().split('\\n')\n",
        "    print(f'...{msg[-2]}')\n",
        "\n",
        "    cmd = ['rio', 'cogeo', 'validate', dst_cog]\n",
        "    p = run(cmd, capture_output = True)\n",
        "    msg = p.stdout.decode().split('\\n')\n",
        "    print(f'...{msg[0]}')\n",
        "\n",
        "# clean up\n",
        "if os.path.exists(dst_cog):\n",
        "    if os.path.exists(dst_img):\n",
        "        os.remove(dst_img)"
      ],
      "metadata": {
        "colab": {
          "base_uri": "https://localhost:8080/"
        },
        "id": "AqkOFNB0TrPw",
        "outputId": "53ecf024-79d7-4068-c237-0f5bd3e5844c"
      },
      "id": "AqkOFNB0TrPw",
      "execution_count": 167,
      "outputs": [
        {
          "output_type": "stream",
          "name": "stdout",
          "text": [
            "..mosaicking 4 images\n",
            "....creating temporary mosaick /content/gdrive/MyDrive/data/nmeo/temp/i5wn4fl0_mosaic.tif\n",
            "..reprojecting, retiling tile927467_2021-06_buf179.tif\n",
            "....removing temporary mosaick /content/gdrive/MyDrive/data/nmeo/tiles/tile927467_2021-06_buf179.tif\n",
            "Retiling and reprojecting of /content/gdrive/MyDrive/data/nmeo/tiles/tile927467_2021-06_buf179.tif complete!\n"
          ]
        }
      ]
    },
    {
      "cell_type": "markdown",
      "source": [
        "Let's look at it now"
      ],
      "metadata": {
        "id": "8Ixk55F-Ymok"
      },
      "id": "8Ixk55F-Ymok"
    },
    {
      "cell_type": "code",
      "source": [
        "# doesn't work for now\n",
        "# m = leafmap.Map()\n",
        "# m.add_basemap(\"SATELLITE\")\n",
        "# m.add_gdf(poly, zoom_to_layer=True, layer_name=\"Tiles\")\n",
        "# m.add_gdf(quad_polys, layer_name=\"Quads\")\n",
        "# m.add_raster(dst_cog, layer_name=\"Retiled Planet\")\n",
        "# m"
      ],
      "metadata": {
        "id": "p3Syx6D6V_P6"
      },
      "id": "p3Syx6D6V_P6",
      "execution_count": null,
      "outputs": []
    },
    {
      "cell_type": "code",
      "source": [
        "# use this instead\n",
        "fig, ax = plt.subplots()\n",
        "show(rasterio.open(dst_cog), ax=ax, adjust=True)\n",
        "quad_polys.boundary.plot(ax=ax)\n",
        "None"
      ],
      "metadata": {
        "id": "Fuyb3W8zaEnT"
      },
      "id": "Fuyb3W8zaEnT",
      "execution_count": null,
      "outputs": []
    },
    {
      "cell_type": "markdown",
      "source": [
        "### Exercise\n",
        "\n",
        "Process all the tiles in your `tiles_quads` GeoDataFrame, by combining and adapting the code from Blocks 1, 2, and 3 above."
      ],
      "metadata": {
        "id": "dQhDNo1Fe0uf"
      },
      "id": "dQhDNo1Fe0uf"
    },
    {
      "cell_type": "code",
      "source": [
        "# Getting started\n",
        "download_url = f\"{quads_url}/<id>/full?api_key={PLANET_API_KEY}\"\n",
        "\n",
        "tids = list(tiles_quads.tile.unique())\n",
        "for tid in tids:\n",
        "    ## add code here\n",
        "    filenames = []\n",
        "\n",
        "    # quad to download\n",
        "    tiles_quads_ss = tiles_quads[tiles_quads.tile==tid]\n",
        "\n",
        "    # tile shape\n",
        "    poly = tiles[tiles.tile==tid]\n",
        "\n",
        "    # fill in the rest\n"
      ],
      "metadata": {
        "id": "2dXKfgEUfp6m"
      },
      "id": "2dXKfgEUfp6m",
      "execution_count": null,
      "outputs": []
    }
  ],
  "metadata": {
    "kernelspec": {
      "display_name": "Python 3 (ipykernel)",
      "language": "python",
      "name": "python3"
    },
    "language_info": {
      "codemirror_mode": {
        "name": "ipython",
        "version": 3
      },
      "file_extension": ".py",
      "mimetype": "text/x-python",
      "name": "python",
      "nbconvert_exporter": "python",
      "pygments_lexer": "ipython3",
      "version": "3.9.16"
    },
    "colab": {
      "provenance": [],
      "toc_visible": true,
      "include_colab_link": true
    },
    "widgets": {
      "application/vnd.jupyter.widget-state+json": {
        "2dbe8aed7627415986466f88b1220778": {
          "model_module": "jupyter-leaflet",
          "model_name": "LeafletMapModel",
          "model_module_version": "^0.17",
          "state": {
            "_dom_classes": [],
            "_model_module": "jupyter-leaflet",
            "_model_module_version": "^0.17",
            "_model_name": "LeafletMapModel",
            "_view_count": null,
            "_view_module": "jupyter-leaflet",
            "_view_module_version": "^0.17",
            "_view_name": "LeafletMapView",
            "bottom": 36186,
            "bounce_at_zoom_limits": true,
            "box_zoom": true,
            "center": [
              -17.14079039331665,
              37.61444091796876
            ],
            "close_popup_on_click": true,
            "controls": [
              "IPY_MODEL_eb2ee080995c4c75bf5e70498e33387e",
              "IPY_MODEL_57b1d21b04694749bab26ef08a8cfb48",
              "IPY_MODEL_c0794a01ac144ea4938b01f11fdef848",
              "IPY_MODEL_a7e0b7fcb92142efa01ec4a13c8401a0",
              "IPY_MODEL_f0173108ced448138cafd0d97e49f101",
              "IPY_MODEL_ff99395144394c22b1128744ecd52cb7",
              "IPY_MODEL_1e6af698b4b54864bb8951baaa65f0c0",
              "IPY_MODEL_eb2455b8c1dd49afb0d9648648a8e5c9",
              "IPY_MODEL_38ba9fdcd8c3431eac6f1e9f12ff8080"
            ],
            "crs": {
              "name": "EPSG3857",
              "custom": false
            },
            "default_style": "IPY_MODEL_8eef82aa57da4f3887b887f50c94ff24",
            "double_click_zoom": true,
            "dragging": true,
            "dragging_style": "IPY_MODEL_1b11c2c25f1546f68120e7478c565269",
            "east": 40.49560546875001,
            "fullscreen": false,
            "inertia": true,
            "inertia_deceleration": 3000,
            "inertia_max_speed": 1500,
            "interpolation": "bilinear",
            "keyboard": true,
            "keyboard_pan_offset": 80,
            "keyboard_zoom_offset": 1,
            "layers": [
              "IPY_MODEL_7c7dec82b0f644b1bda53f681e44d897",
              "IPY_MODEL_2cb3c75055704d37879f7297811442c2",
              "IPY_MODEL_040cf93cbcc348d69b731fe85e9c3edf",
              "IPY_MODEL_7ecc8a3bdcc141f9aefb824fd66d3070",
              "IPY_MODEL_7339285b836e49229964f810dde1a638"
            ],
            "layout": "IPY_MODEL_5bd6dcc5166647f2a27778544a99d09c",
            "left": 39091,
            "max_zoom": 24,
            "min_zoom": null,
            "modisdate": "2023-10-02",
            "north": -15.82396602717367,
            "options": [
              "bounce_at_zoom_limits",
              "box_zoom",
              "center",
              "close_popup_on_click",
              "double_click_zoom",
              "dragging",
              "fullscreen",
              "inertia",
              "inertia_deceleration",
              "inertia_max_speed",
              "interpolation",
              "keyboard",
              "keyboard_pan_offset",
              "keyboard_zoom_offset",
              "max_zoom",
              "min_zoom",
              "prefer_canvas",
              "scroll_wheel_zoom",
              "tap",
              "tap_tolerance",
              "touch_zoom",
              "world_copy_jump",
              "zoom",
              "zoom_animation_threshold",
              "zoom_delta",
              "zoom_snap"
            ],
            "panes": {},
            "prefer_canvas": false,
            "right": 40140,
            "scroll_wheel_zoom": true,
            "south": -18.44834670293207,
            "style": "IPY_MODEL_8eef82aa57da4f3887b887f50c94ff24",
            "tap": true,
            "tap_tolerance": 15,
            "top": 35686,
            "touch_zoom": true,
            "west": 34.73327636718751,
            "window_url": "https://9zl874ct80l-496ff2e9c6d22116-0-colab.googleusercontent.com/outputframe.html?vrz=colab_20230929-060113_RC00_569458824",
            "world_copy_jump": false,
            "zoom": 8,
            "zoom_animation_threshold": 4,
            "zoom_delta": 1,
            "zoom_snap": 1
          }
        },
        "eb2ee080995c4c75bf5e70498e33387e": {
          "model_module": "jupyter-leaflet",
          "model_name": "LeafletZoomControlModel",
          "model_module_version": "^0.17",
          "state": {
            "_model_module": "jupyter-leaflet",
            "_model_module_version": "^0.17",
            "_model_name": "LeafletZoomControlModel",
            "_view_count": null,
            "_view_module": "jupyter-leaflet",
            "_view_module_version": "^0.17",
            "_view_name": "LeafletZoomControlView",
            "options": [
              "position",
              "zoom_in_text",
              "zoom_in_title",
              "zoom_out_text",
              "zoom_out_title"
            ],
            "position": "topleft",
            "zoom_in_text": "+",
            "zoom_in_title": "Zoom in",
            "zoom_out_text": "-",
            "zoom_out_title": "Zoom out"
          }
        },
        "57b1d21b04694749bab26ef08a8cfb48": {
          "model_module": "jupyter-leaflet",
          "model_name": "LeafletAttributionControlModel",
          "model_module_version": "^0.17",
          "state": {
            "_model_module": "jupyter-leaflet",
            "_model_module_version": "^0.17",
            "_model_name": "LeafletAttributionControlModel",
            "_view_count": null,
            "_view_module": "jupyter-leaflet",
            "_view_module_version": "^0.17",
            "_view_name": "LeafletAttributionControlView",
            "options": [
              "position",
              "prefix"
            ],
            "position": "bottomright",
            "prefix": "ipyleaflet"
          }
        },
        "c0794a01ac144ea4938b01f11fdef848": {
          "model_module": "jupyter-leaflet",
          "model_name": "LeafletFullScreenControlModel",
          "model_module_version": "^0.17",
          "state": {
            "_model_module": "jupyter-leaflet",
            "_model_module_version": "^0.17",
            "_model_name": "LeafletFullScreenControlModel",
            "_view_count": null,
            "_view_module": "jupyter-leaflet",
            "_view_module_version": "^0.17",
            "_view_name": "LeafletFullScreenControlView",
            "options": [
              "position"
            ],
            "position": "topleft"
          }
        },
        "a7e0b7fcb92142efa01ec4a13c8401a0": {
          "model_module": "jupyter-leaflet",
          "model_name": "LeafletSearchControlModel",
          "model_module_version": "^0.17",
          "state": {
            "_model_module": "jupyter-leaflet",
            "_model_module_version": "^0.17",
            "_model_name": "LeafletSearchControlModel",
            "_view_count": null,
            "_view_module": "jupyter-leaflet",
            "_view_module_version": "^0.17",
            "_view_name": "LeafletSearchControlView",
            "animate_location": false,
            "auto_collapse": false,
            "auto_type": false,
            "found_style": {
              "fillColor": "#3f0",
              "color": "#0f0"
            },
            "jsonp_param": "json_callback",
            "layer": null,
            "marker": null,
            "options": [
              "animate_location",
              "auto_collapse",
              "auto_type",
              "found_style",
              "jsonp_param",
              "position",
              "property_loc",
              "property_name",
              "url",
              "zoom"
            ],
            "position": "topleft",
            "property_loc": [
              "lat",
              "lon"
            ],
            "property_name": "display_name",
            "url": "https://nominatim.openstreetmap.org/search?format=json&q={s}",
            "zoom": 12
          }
        },
        "f0173108ced448138cafd0d97e49f101": {
          "model_module": "jupyter-leaflet",
          "model_name": "LeafletDrawControlModel",
          "model_module_version": "^0.17",
          "state": {
            "_model_module": "jupyter-leaflet",
            "_model_module_version": "^0.17",
            "_model_name": "LeafletDrawControlModel",
            "_view_count": null,
            "_view_module": "jupyter-leaflet",
            "_view_module_version": "^0.17",
            "_view_name": "LeafletDrawControlView",
            "circle": {
              "shapeOptions": {
                "color": "#3388ff"
              },
              "repeatMode": false
            },
            "circlemarker": {},
            "data": [],
            "edit": true,
            "marker": {
              "shapeOptions": {
                "color": "#3388ff"
              },
              "repeatMode": false
            },
            "options": [
              "position"
            ],
            "polygon": {
              "repeatMode": false
            },
            "polyline": {
              "repeatMode": false
            },
            "position": "topleft",
            "rectangle": {
              "shapeOptions": {
                "color": "#3388ff"
              },
              "repeatMode": false
            },
            "remove": true
          }
        },
        "ff99395144394c22b1128744ecd52cb7": {
          "model_module": "jupyter-leaflet",
          "model_name": "LeafletMeasureControlModel",
          "model_module_version": "^0.17",
          "state": {
            "_custom_units": {},
            "_model_module": "jupyter-leaflet",
            "_model_module_version": "^0.17",
            "_model_name": "LeafletMeasureControlModel",
            "_view_count": null,
            "_view_module": "jupyter-leaflet",
            "_view_module_version": "^0.17",
            "_view_name": "LeafletMeasureControlView",
            "active_color": "#ABE67E",
            "capture_z_index": 10000,
            "completed_color": "#C8F2BE",
            "options": [
              "active_color",
              "capture_z_index",
              "completed_color",
              "popup_options",
              "position",
              "primary_area_unit",
              "primary_length_unit",
              "secondary_area_unit",
              "secondary_length_unit"
            ],
            "popup_options": {
              "className": "leaflet-measure-resultpopup",
              "autoPanPadding": [
                10,
                10
              ]
            },
            "position": "topleft",
            "primary_area_unit": "acres",
            "primary_length_unit": "feet",
            "secondary_area_unit": null,
            "secondary_length_unit": null
          }
        },
        "1e6af698b4b54864bb8951baaa65f0c0": {
          "model_module": "jupyter-leaflet",
          "model_name": "LeafletScaleControlModel",
          "model_module_version": "^0.17",
          "state": {
            "_model_module": "jupyter-leaflet",
            "_model_module_version": "^0.17",
            "_model_name": "LeafletScaleControlModel",
            "_view_count": null,
            "_view_module": "jupyter-leaflet",
            "_view_module_version": "^0.17",
            "_view_name": "LeafletScaleControlView",
            "imperial": true,
            "max_width": 100,
            "metric": true,
            "options": [
              "imperial",
              "max_width",
              "metric",
              "position",
              "update_when_idle"
            ],
            "position": "bottomleft",
            "update_when_idle": false
          }
        },
        "eb2455b8c1dd49afb0d9648648a8e5c9": {
          "model_module": "jupyter-leaflet",
          "model_name": "LeafletWidgetControlModel",
          "model_module_version": "^0.17",
          "state": {
            "_model_module": "jupyter-leaflet",
            "_model_module_version": "^0.17",
            "_model_name": "LeafletWidgetControlModel",
            "_view_count": null,
            "_view_module": "jupyter-leaflet",
            "_view_module_version": "^0.17",
            "_view_name": "LeafletWidgetControlView",
            "max_height": null,
            "max_width": null,
            "min_height": null,
            "min_width": null,
            "options": [
              "position",
              "transparent_bg"
            ],
            "position": "topright",
            "transparent_bg": false,
            "widget": "IPY_MODEL_4f582d8e16284aaf97f3b39559ab79d3"
          }
        },
        "38ba9fdcd8c3431eac6f1e9f12ff8080": {
          "model_module": "jupyter-leaflet",
          "model_name": "LeafletWidgetControlModel",
          "model_module_version": "^0.17",
          "state": {
            "_model_module": "jupyter-leaflet",
            "_model_module_version": "^0.17",
            "_model_name": "LeafletWidgetControlModel",
            "_view_count": null,
            "_view_module": "jupyter-leaflet",
            "_view_module_version": "^0.17",
            "_view_name": "LeafletWidgetControlView",
            "max_height": null,
            "max_width": null,
            "min_height": null,
            "min_width": null,
            "options": [
              "position",
              "transparent_bg"
            ],
            "position": "bottomright",
            "transparent_bg": false,
            "widget": "IPY_MODEL_548e7bff28504176863cbc71c5538376"
          }
        },
        "8eef82aa57da4f3887b887f50c94ff24": {
          "model_module": "jupyter-leaflet",
          "model_name": "LeafletMapStyleModel",
          "model_module_version": "^0.17",
          "state": {
            "_model_module": "jupyter-leaflet",
            "_model_module_version": "^0.17",
            "_model_name": "LeafletMapStyleModel",
            "_view_count": null,
            "_view_module": "@jupyter-widgets/base",
            "_view_module_version": "1.2.0",
            "_view_name": "StyleView",
            "cursor": "grab"
          }
        },
        "1b11c2c25f1546f68120e7478c565269": {
          "model_module": "jupyter-leaflet",
          "model_name": "LeafletMapStyleModel",
          "model_module_version": "^0.17",
          "state": {
            "_model_module": "jupyter-leaflet",
            "_model_module_version": "^0.17",
            "_model_name": "LeafletMapStyleModel",
            "_view_count": null,
            "_view_module": "@jupyter-widgets/base",
            "_view_module_version": "1.2.0",
            "_view_name": "StyleView",
            "cursor": "move"
          }
        },
        "7c7dec82b0f644b1bda53f681e44d897": {
          "model_module": "jupyter-leaflet",
          "model_name": "LeafletTileLayerModel",
          "model_module_version": "^0.17",
          "state": {
            "_model_module": "jupyter-leaflet",
            "_model_module_version": "^0.17",
            "_model_name": "LeafletTileLayerModel",
            "_view_count": null,
            "_view_module": "jupyter-leaflet",
            "_view_module_version": "^0.17",
            "_view_name": "LeafletTileLayerView",
            "attribution": "&copy; <a href=\"https://www.openstreetmap.org/copyright\">OpenStreetMap</a> contributors",
            "base": true,
            "bottom": true,
            "bounds": null,
            "detect_retina": false,
            "loading": false,
            "max_native_zoom": null,
            "max_zoom": 19,
            "min_native_zoom": null,
            "min_zoom": 1,
            "name": "OpenStreetMap",
            "no_wrap": false,
            "opacity": 1,
            "options": [
              "attribution",
              "bounds",
              "detect_retina",
              "max_native_zoom",
              "max_zoom",
              "min_native_zoom",
              "min_zoom",
              "no_wrap",
              "tile_size",
              "tms",
              "zoom_offset"
            ],
            "pane": "",
            "popup": null,
            "popup_max_height": null,
            "popup_max_width": 300,
            "popup_min_width": 50,
            "show_loading": false,
            "subitems": [],
            "tile_size": 256,
            "tms": false,
            "url": "https://tile.openstreetmap.org/{z}/{x}/{y}.png",
            "visible": true,
            "zoom_offset": 0
          }
        },
        "2cb3c75055704d37879f7297811442c2": {
          "model_module": "jupyter-leaflet",
          "model_name": "LeafletTileLayerModel",
          "model_module_version": "^0.17",
          "state": {
            "_model_module": "jupyter-leaflet",
            "_model_module_version": "^0.17",
            "_model_name": "LeafletTileLayerModel",
            "_view_count": null,
            "_view_module": "jupyter-leaflet",
            "_view_module_version": "^0.17",
            "_view_name": "LeafletTileLayerView",
            "attribution": "Google",
            "base": false,
            "bottom": true,
            "bounds": null,
            "detect_retina": false,
            "loading": false,
            "max_native_zoom": null,
            "max_zoom": 24,
            "min_native_zoom": null,
            "min_zoom": 0,
            "name": "Google Hybrid",
            "no_wrap": false,
            "opacity": 1,
            "options": [
              "attribution",
              "bounds",
              "detect_retina",
              "max_native_zoom",
              "max_zoom",
              "min_native_zoom",
              "min_zoom",
              "no_wrap",
              "tile_size",
              "tms",
              "zoom_offset"
            ],
            "pane": "",
            "popup": null,
            "popup_max_height": null,
            "popup_max_width": 300,
            "popup_min_width": 50,
            "show_loading": false,
            "subitems": [],
            "tile_size": 256,
            "tms": false,
            "url": "https://mt1.google.com/vt/lyrs=y&x={x}&y={y}&z={z}&key=YOUR-API-KEY",
            "visible": true,
            "zoom_offset": 0
          }
        },
        "040cf93cbcc348d69b731fe85e9c3edf": {
          "model_module": "jupyter-leaflet",
          "model_name": "LeafletTileLayerModel",
          "model_module_version": "^0.17",
          "state": {
            "_model_module": "jupyter-leaflet",
            "_model_module_version": "^0.17",
            "_model_name": "LeafletTileLayerModel",
            "_view_count": null,
            "_view_module": "jupyter-leaflet",
            "_view_module_version": "^0.17",
            "_view_name": "LeafletTileLayerView",
            "attribution": "Google",
            "base": false,
            "bottom": true,
            "bounds": null,
            "detect_retina": false,
            "loading": false,
            "max_native_zoom": null,
            "max_zoom": 24,
            "min_native_zoom": null,
            "min_zoom": 0,
            "name": "Google Satellite",
            "no_wrap": false,
            "opacity": 1,
            "options": [
              "attribution",
              "bounds",
              "detect_retina",
              "max_native_zoom",
              "max_zoom",
              "min_native_zoom",
              "min_zoom",
              "no_wrap",
              "tile_size",
              "tms",
              "zoom_offset"
            ],
            "pane": "",
            "popup": null,
            "popup_max_height": null,
            "popup_max_width": 300,
            "popup_min_width": 50,
            "show_loading": false,
            "subitems": [],
            "tile_size": 256,
            "tms": false,
            "url": "https://mt1.google.com/vt/lyrs=s&x={x}&y={y}&z={z}&key=YOUR-API-KEY",
            "visible": true,
            "zoom_offset": 0
          }
        },
        "7ecc8a3bdcc141f9aefb824fd66d3070": {
          "model_module": "jupyter-leaflet",
          "model_name": "LeafletTileLayerModel",
          "model_module_version": "^0.17",
          "state": {
            "_model_module": "jupyter-leaflet",
            "_model_module_version": "^0.17",
            "_model_name": "LeafletTileLayerModel",
            "_view_count": null,
            "_view_module": "jupyter-leaflet",
            "_view_module_version": "^0.17",
            "_view_name": "LeafletTileLayerView",
            "attribution": "Raster file served by <a href='https://github.com/banesullivan/localtileserver' target='_blank'>localtileserver</a>.",
            "base": false,
            "bottom": true,
            "bounds": [
              [
                -16.214475,
                34.704525
              ],
              [
                -16.155525,
                34.763475
              ]
            ],
            "detect_retina": false,
            "loading": false,
            "max_native_zoom": 100,
            "max_zoom": 100,
            "min_native_zoom": null,
            "min_zoom": 0,
            "name": "Retiled Planet",
            "no_wrap": false,
            "opacity": 1,
            "options": [
              "attribution",
              "bounds",
              "detect_retina",
              "max_native_zoom",
              "max_zoom",
              "min_native_zoom",
              "min_zoom",
              "no_wrap",
              "tile_size",
              "tms",
              "zoom_offset"
            ],
            "pane": "",
            "popup": null,
            "popup_max_height": null,
            "popup_max_width": 300,
            "popup_min_width": 50,
            "show_loading": false,
            "subitems": [],
            "tile_size": 256,
            "tms": false,
            "url": "http://localhost:43097/api/tiles/{z}/{x}/{y}.png?&filename=%2Fcontent%2Fgdrive%2FMyDrive%2Fdata%2Fnmeo%2Ftiles%2Ftile927467_2021-06_buf179_cog.tif&n_colors=255&projection=EPSG%3A3857",
            "visible": true,
            "zoom_offset": 0
          }
        },
        "7339285b836e49229964f810dde1a638": {
          "model_module": "jupyter-leaflet",
          "model_name": "LeafletGeoJSONModel",
          "model_module_version": "^0.17",
          "state": {
            "_model_module": "jupyter-leaflet",
            "_model_module_version": "^0.17",
            "_model_name": "LeafletGeoJSONModel",
            "_view_count": null,
            "_view_module": "jupyter-leaflet",
            "_view_module_version": "^0.17",
            "_view_name": "LeafletGeoJSONView",
            "base": false,
            "bottom": false,
            "data": {
              "type": "FeatureCollection",
              "features": [
                {
                  "id": "3925",
                  "type": "Feature",
                  "properties": {
                    "tile": "927466",
                    "quad": "1221-930",
                    "date": "2021-06",
                    "file": "planet_medres_normalized_analytic_2021-06_mosaic_1221-930",
                    "style": {
                      "color": "black",
                      "fillColor": "black"
                    }
                  },
                  "geometry": {
                    "type": "Polygon",
                    "coordinates": [
                      [
                        [
                          34.704525,
                          -16.164475
                        ],
                        [
                          34.763475,
                          -16.164475
                        ],
                        [
                          34.763475,
                          -16.105525
                        ],
                        [
                          34.704525,
                          -16.105525
                        ],
                        [
                          34.704525,
                          -16.164475
                        ]
                      ]
                    ]
                  },
                  "bbox": [
                    34.704525,
                    -16.164475,
                    34.763475,
                    -16.105525
                  ]
                },
                {
                  "id": "3926",
                  "type": "Feature",
                  "properties": {
                    "tile": "927467",
                    "quad": "1221-930",
                    "date": "2021-06",
                    "file": "planet_medres_normalized_analytic_2021-06_mosaic_1221-930",
                    "style": {
                      "color": "black",
                      "fillColor": "black"
                    }
                  },
                  "geometry": {
                    "type": "Polygon",
                    "coordinates": [
                      [
                        [
                          34.754525,
                          -16.164475
                        ],
                        [
                          34.813475,
                          -16.164475
                        ],
                        [
                          34.813475,
                          -16.105525
                        ],
                        [
                          34.754525,
                          -16.105525
                        ],
                        [
                          34.754525,
                          -16.164475
                        ]
                      ]
                    ]
                  },
                  "bbox": [
                    34.754525,
                    -16.164475,
                    34.813475,
                    -16.105525
                  ]
                },
                {
                  "id": "3927",
                  "type": "Feature",
                  "properties": {
                    "tile": "927468",
                    "quad": "1221-930",
                    "date": "2021-06",
                    "file": "planet_medres_normalized_analytic_2021-06_mosaic_1221-930",
                    "style": {
                      "color": "black",
                      "fillColor": "black"
                    }
                  },
                  "geometry": {
                    "type": "Polygon",
                    "coordinates": [
                      [
                        [
                          34.804525,
                          -16.164475
                        ],
                        [
                          34.863475,
                          -16.164475
                        ],
                        [
                          34.863475,
                          -16.105525
                        ],
                        [
                          34.804525,
                          -16.105525
                        ],
                        [
                          34.804525,
                          -16.164475
                        ]
                      ]
                    ]
                  },
                  "bbox": [
                    34.804525,
                    -16.164475,
                    34.863475,
                    -16.105525
                  ]
                },
                {
                  "id": "3945",
                  "type": "Feature",
                  "properties": {
                    "tile": "927486",
                    "quad": "1221-930",
                    "date": "2021-06",
                    "file": "planet_medres_normalized_analytic_2021-06_mosaic_1221-930",
                    "style": {
                      "color": "black",
                      "fillColor": "black"
                    }
                  },
                  "geometry": {
                    "type": "Polygon",
                    "coordinates": [
                      [
                        [
                          34.704525,
                          -16.214475
                        ],
                        [
                          34.763475,
                          -16.214475
                        ],
                        [
                          34.763475,
                          -16.155525
                        ],
                        [
                          34.704525,
                          -16.155525
                        ],
                        [
                          34.704525,
                          -16.214475
                        ]
                      ]
                    ]
                  },
                  "bbox": [
                    34.704525,
                    -16.214475,
                    34.763475,
                    -16.155525
                  ]
                },
                {
                  "id": "3946",
                  "type": "Feature",
                  "properties": {
                    "tile": "927487",
                    "quad": "1221-930",
                    "date": "2021-06",
                    "file": "planet_medres_normalized_analytic_2021-06_mosaic_1221-930",
                    "style": {
                      "color": "black",
                      "fillColor": "black"
                    }
                  },
                  "geometry": {
                    "type": "Polygon",
                    "coordinates": [
                      [
                        [
                          34.754525,
                          -16.214475
                        ],
                        [
                          34.813475,
                          -16.214475
                        ],
                        [
                          34.813475,
                          -16.155525
                        ],
                        [
                          34.754525,
                          -16.155525
                        ],
                        [
                          34.754525,
                          -16.214475
                        ]
                      ]
                    ]
                  },
                  "bbox": [
                    34.754525,
                    -16.214475,
                    34.813475,
                    -16.155525
                  ]
                },
                {
                  "id": "3947",
                  "type": "Feature",
                  "properties": {
                    "tile": "927488",
                    "quad": "1221-930",
                    "date": "2021-06",
                    "file": "planet_medres_normalized_analytic_2021-06_mosaic_1221-930",
                    "style": {
                      "color": "black",
                      "fillColor": "black"
                    }
                  },
                  "geometry": {
                    "type": "Polygon",
                    "coordinates": [
                      [
                        [
                          34.804525,
                          -16.214475
                        ],
                        [
                          34.863475,
                          -16.214475
                        ],
                        [
                          34.863475,
                          -16.155525
                        ],
                        [
                          34.804525,
                          -16.155525
                        ],
                        [
                          34.804525,
                          -16.214475
                        ]
                      ]
                    ]
                  },
                  "bbox": [
                    34.804525,
                    -16.214475,
                    34.863475,
                    -16.155525
                  ]
                },
                {
                  "id": "3964",
                  "type": "Feature",
                  "properties": {
                    "tile": "927506",
                    "quad": "1221-930",
                    "date": "2021-06",
                    "file": "planet_medres_normalized_analytic_2021-06_mosaic_1221-930",
                    "style": {
                      "color": "black",
                      "fillColor": "black"
                    }
                  },
                  "geometry": {
                    "type": "Polygon",
                    "coordinates": [
                      [
                        [
                          34.704525,
                          -16.264475
                        ],
                        [
                          34.763475,
                          -16.264475
                        ],
                        [
                          34.763475,
                          -16.205525
                        ],
                        [
                          34.704525,
                          -16.205525
                        ],
                        [
                          34.704525,
                          -16.264475
                        ]
                      ]
                    ]
                  },
                  "bbox": [
                    34.704525,
                    -16.264475,
                    34.763475,
                    -16.205525
                  ]
                },
                {
                  "id": "3965",
                  "type": "Feature",
                  "properties": {
                    "tile": "927507",
                    "quad": "1221-930",
                    "date": "2021-06",
                    "file": "planet_medres_normalized_analytic_2021-06_mosaic_1221-930",
                    "style": {
                      "color": "black",
                      "fillColor": "black"
                    }
                  },
                  "geometry": {
                    "type": "Polygon",
                    "coordinates": [
                      [
                        [
                          34.754525,
                          -16.264475
                        ],
                        [
                          34.813475,
                          -16.264475
                        ],
                        [
                          34.813475,
                          -16.205525
                        ],
                        [
                          34.754525,
                          -16.205525
                        ],
                        [
                          34.754525,
                          -16.264475
                        ]
                      ]
                    ]
                  },
                  "bbox": [
                    34.754525,
                    -16.264475,
                    34.813475,
                    -16.205525
                  ]
                },
                {
                  "id": "3966",
                  "type": "Feature",
                  "properties": {
                    "tile": "927508",
                    "quad": "1221-930",
                    "date": "2021-06",
                    "file": "planet_medres_normalized_analytic_2021-06_mosaic_1221-930",
                    "style": {
                      "color": "black",
                      "fillColor": "black"
                    }
                  },
                  "geometry": {
                    "type": "Polygon",
                    "coordinates": [
                      [
                        [
                          34.804525,
                          -16.264475
                        ],
                        [
                          34.863475,
                          -16.264475
                        ],
                        [
                          34.863475,
                          -16.205525
                        ],
                        [
                          34.804525,
                          -16.205525
                        ],
                        [
                          34.804525,
                          -16.264475
                        ]
                      ]
                    ]
                  },
                  "bbox": [
                    34.804525,
                    -16.264475,
                    34.863475,
                    -16.205525
                  ]
                },
                {
                  "id": "3982",
                  "type": "Feature",
                  "properties": {
                    "tile": "927526",
                    "quad": "1221-930",
                    "date": "2021-06",
                    "file": "planet_medres_normalized_analytic_2021-06_mosaic_1221-930",
                    "style": {
                      "color": "black",
                      "fillColor": "black"
                    }
                  },
                  "geometry": {
                    "type": "Polygon",
                    "coordinates": [
                      [
                        [
                          34.704525,
                          -16.314475
                        ],
                        [
                          34.763475,
                          -16.314475
                        ],
                        [
                          34.763475,
                          -16.255525
                        ],
                        [
                          34.704525,
                          -16.255525
                        ],
                        [
                          34.704525,
                          -16.314475
                        ]
                      ]
                    ]
                  },
                  "bbox": [
                    34.704525,
                    -16.314475,
                    34.763475,
                    -16.255525
                  ]
                },
                {
                  "id": "3983",
                  "type": "Feature",
                  "properties": {
                    "tile": "927527",
                    "quad": "1221-930",
                    "date": "2021-06",
                    "file": "planet_medres_normalized_analytic_2021-06_mosaic_1221-930",
                    "style": {
                      "color": "black",
                      "fillColor": "black"
                    }
                  },
                  "geometry": {
                    "type": "Polygon",
                    "coordinates": [
                      [
                        [
                          34.754525,
                          -16.314475
                        ],
                        [
                          34.813475,
                          -16.314475
                        ],
                        [
                          34.813475,
                          -16.255525
                        ],
                        [
                          34.754525,
                          -16.255525
                        ],
                        [
                          34.754525,
                          -16.314475
                        ]
                      ]
                    ]
                  },
                  "bbox": [
                    34.754525,
                    -16.314475,
                    34.813475,
                    -16.255525
                  ]
                },
                {
                  "id": "3984",
                  "type": "Feature",
                  "properties": {
                    "tile": "927528",
                    "quad": "1221-930",
                    "date": "2021-06",
                    "file": "planet_medres_normalized_analytic_2021-06_mosaic_1221-930",
                    "style": {
                      "color": "black",
                      "fillColor": "black"
                    }
                  },
                  "geometry": {
                    "type": "Polygon",
                    "coordinates": [
                      [
                        [
                          34.804525,
                          -16.314475
                        ],
                        [
                          34.863475,
                          -16.314475
                        ],
                        [
                          34.863475,
                          -16.255525
                        ],
                        [
                          34.804525,
                          -16.255525
                        ],
                        [
                          34.804525,
                          -16.314475
                        ]
                      ]
                    ]
                  },
                  "bbox": [
                    34.804525,
                    -16.314475,
                    34.863475,
                    -16.255525
                  ]
                },
                {
                  "id": "3925",
                  "type": "Feature",
                  "properties": {
                    "tile": "927466",
                    "quad": "1221-931",
                    "date": "2021-06",
                    "file": "planet_medres_normalized_analytic_2021-06_mosaic_1221-931",
                    "style": {
                      "color": "black",
                      "fillColor": "black"
                    }
                  },
                  "geometry": {
                    "type": "Polygon",
                    "coordinates": [
                      [
                        [
                          34.704525,
                          -16.164475
                        ],
                        [
                          34.763475,
                          -16.164475
                        ],
                        [
                          34.763475,
                          -16.105525
                        ],
                        [
                          34.704525,
                          -16.105525
                        ],
                        [
                          34.704525,
                          -16.164475
                        ]
                      ]
                    ]
                  },
                  "bbox": [
                    34.704525,
                    -16.164475,
                    34.763475,
                    -16.105525
                  ]
                },
                {
                  "id": "3926",
                  "type": "Feature",
                  "properties": {
                    "tile": "927467",
                    "quad": "1221-931",
                    "date": "2021-06",
                    "file": "planet_medres_normalized_analytic_2021-06_mosaic_1221-931",
                    "style": {
                      "color": "black",
                      "fillColor": "black"
                    }
                  },
                  "geometry": {
                    "type": "Polygon",
                    "coordinates": [
                      [
                        [
                          34.754525,
                          -16.164475
                        ],
                        [
                          34.813475,
                          -16.164475
                        ],
                        [
                          34.813475,
                          -16.105525
                        ],
                        [
                          34.754525,
                          -16.105525
                        ],
                        [
                          34.754525,
                          -16.164475
                        ]
                      ]
                    ]
                  },
                  "bbox": [
                    34.754525,
                    -16.164475,
                    34.813475,
                    -16.105525
                  ]
                },
                {
                  "id": "3927",
                  "type": "Feature",
                  "properties": {
                    "tile": "927468",
                    "quad": "1221-931",
                    "date": "2021-06",
                    "file": "planet_medres_normalized_analytic_2021-06_mosaic_1221-931",
                    "style": {
                      "color": "black",
                      "fillColor": "black"
                    }
                  },
                  "geometry": {
                    "type": "Polygon",
                    "coordinates": [
                      [
                        [
                          34.804525,
                          -16.164475
                        ],
                        [
                          34.863475,
                          -16.164475
                        ],
                        [
                          34.863475,
                          -16.105525
                        ],
                        [
                          34.804525,
                          -16.105525
                        ],
                        [
                          34.804525,
                          -16.164475
                        ]
                      ]
                    ]
                  },
                  "bbox": [
                    34.804525,
                    -16.164475,
                    34.863475,
                    -16.105525
                  ]
                },
                {
                  "id": "3926",
                  "type": "Feature",
                  "properties": {
                    "tile": "927467",
                    "quad": "1222-930",
                    "date": "2021-06",
                    "file": "planet_medres_normalized_analytic_2021-06_mosaic_1222-930",
                    "style": {
                      "color": "black",
                      "fillColor": "black"
                    }
                  },
                  "geometry": {
                    "type": "Polygon",
                    "coordinates": [
                      [
                        [
                          34.754525,
                          -16.164475
                        ],
                        [
                          34.813475,
                          -16.164475
                        ],
                        [
                          34.813475,
                          -16.105525
                        ],
                        [
                          34.754525,
                          -16.105525
                        ],
                        [
                          34.754525,
                          -16.164475
                        ]
                      ]
                    ]
                  },
                  "bbox": [
                    34.754525,
                    -16.164475,
                    34.813475,
                    -16.105525
                  ]
                },
                {
                  "id": "3927",
                  "type": "Feature",
                  "properties": {
                    "tile": "927468",
                    "quad": "1222-930",
                    "date": "2021-06",
                    "file": "planet_medres_normalized_analytic_2021-06_mosaic_1222-930",
                    "style": {
                      "color": "black",
                      "fillColor": "black"
                    }
                  },
                  "geometry": {
                    "type": "Polygon",
                    "coordinates": [
                      [
                        [
                          34.804525,
                          -16.164475
                        ],
                        [
                          34.863475,
                          -16.164475
                        ],
                        [
                          34.863475,
                          -16.105525
                        ],
                        [
                          34.804525,
                          -16.105525
                        ],
                        [
                          34.804525,
                          -16.164475
                        ]
                      ]
                    ]
                  },
                  "bbox": [
                    34.804525,
                    -16.164475,
                    34.863475,
                    -16.105525
                  ]
                },
                {
                  "id": "3928",
                  "type": "Feature",
                  "properties": {
                    "tile": "927469",
                    "quad": "1222-930",
                    "date": "2021-06",
                    "file": "planet_medres_normalized_analytic_2021-06_mosaic_1222-930",
                    "style": {
                      "color": "black",
                      "fillColor": "black"
                    }
                  },
                  "geometry": {
                    "type": "Polygon",
                    "coordinates": [
                      [
                        [
                          34.854525,
                          -16.164475
                        ],
                        [
                          34.913475,
                          -16.164475
                        ],
                        [
                          34.913475,
                          -16.105525
                        ],
                        [
                          34.854525,
                          -16.105525
                        ],
                        [
                          34.854525,
                          -16.164475
                        ]
                      ]
                    ]
                  },
                  "bbox": [
                    34.854525,
                    -16.164475,
                    34.913475,
                    -16.105525
                  ]
                },
                {
                  "id": "3929",
                  "type": "Feature",
                  "properties": {
                    "tile": "927470",
                    "quad": "1222-930",
                    "date": "2021-06",
                    "file": "planet_medres_normalized_analytic_2021-06_mosaic_1222-930",
                    "style": {
                      "color": "black",
                      "fillColor": "black"
                    }
                  },
                  "geometry": {
                    "type": "Polygon",
                    "coordinates": [
                      [
                        [
                          34.904525,
                          -16.164475
                        ],
                        [
                          34.963475,
                          -16.164475
                        ],
                        [
                          34.963475,
                          -16.105525
                        ],
                        [
                          34.904525,
                          -16.105525
                        ],
                        [
                          34.904525,
                          -16.164475
                        ]
                      ]
                    ]
                  },
                  "bbox": [
                    34.904525,
                    -16.164475,
                    34.963475,
                    -16.105525
                  ]
                },
                {
                  "id": "3946",
                  "type": "Feature",
                  "properties": {
                    "tile": "927487",
                    "quad": "1222-930",
                    "date": "2021-06",
                    "file": "planet_medres_normalized_analytic_2021-06_mosaic_1222-930",
                    "style": {
                      "color": "black",
                      "fillColor": "black"
                    }
                  },
                  "geometry": {
                    "type": "Polygon",
                    "coordinates": [
                      [
                        [
                          34.754525,
                          -16.214475
                        ],
                        [
                          34.813475,
                          -16.214475
                        ],
                        [
                          34.813475,
                          -16.155525
                        ],
                        [
                          34.754525,
                          -16.155525
                        ],
                        [
                          34.754525,
                          -16.214475
                        ]
                      ]
                    ]
                  },
                  "bbox": [
                    34.754525,
                    -16.214475,
                    34.813475,
                    -16.155525
                  ]
                },
                {
                  "id": "3947",
                  "type": "Feature",
                  "properties": {
                    "tile": "927488",
                    "quad": "1222-930",
                    "date": "2021-06",
                    "file": "planet_medres_normalized_analytic_2021-06_mosaic_1222-930",
                    "style": {
                      "color": "black",
                      "fillColor": "black"
                    }
                  },
                  "geometry": {
                    "type": "Polygon",
                    "coordinates": [
                      [
                        [
                          34.804525,
                          -16.214475
                        ],
                        [
                          34.863475,
                          -16.214475
                        ],
                        [
                          34.863475,
                          -16.155525
                        ],
                        [
                          34.804525,
                          -16.155525
                        ],
                        [
                          34.804525,
                          -16.214475
                        ]
                      ]
                    ]
                  },
                  "bbox": [
                    34.804525,
                    -16.214475,
                    34.863475,
                    -16.155525
                  ]
                },
                {
                  "id": "3948",
                  "type": "Feature",
                  "properties": {
                    "tile": "927489",
                    "quad": "1222-930",
                    "date": "2021-06",
                    "file": "planet_medres_normalized_analytic_2021-06_mosaic_1222-930",
                    "style": {
                      "color": "black",
                      "fillColor": "black"
                    }
                  },
                  "geometry": {
                    "type": "Polygon",
                    "coordinates": [
                      [
                        [
                          34.854525,
                          -16.214475
                        ],
                        [
                          34.913475,
                          -16.214475
                        ],
                        [
                          34.913475,
                          -16.155525
                        ],
                        [
                          34.854525,
                          -16.155525
                        ],
                        [
                          34.854525,
                          -16.214475
                        ]
                      ]
                    ]
                  },
                  "bbox": [
                    34.854525,
                    -16.214475,
                    34.913475,
                    -16.155525
                  ]
                },
                {
                  "id": "3949",
                  "type": "Feature",
                  "properties": {
                    "tile": "927490",
                    "quad": "1222-930",
                    "date": "2021-06",
                    "file": "planet_medres_normalized_analytic_2021-06_mosaic_1222-930",
                    "style": {
                      "color": "black",
                      "fillColor": "black"
                    }
                  },
                  "geometry": {
                    "type": "Polygon",
                    "coordinates": [
                      [
                        [
                          34.904525,
                          -16.214475
                        ],
                        [
                          34.963475,
                          -16.214475
                        ],
                        [
                          34.963475,
                          -16.155525
                        ],
                        [
                          34.904525,
                          -16.155525
                        ],
                        [
                          34.904525,
                          -16.214475
                        ]
                      ]
                    ]
                  },
                  "bbox": [
                    34.904525,
                    -16.214475,
                    34.963475,
                    -16.155525
                  ]
                },
                {
                  "id": "3965",
                  "type": "Feature",
                  "properties": {
                    "tile": "927507",
                    "quad": "1222-930",
                    "date": "2021-06",
                    "file": "planet_medres_normalized_analytic_2021-06_mosaic_1222-930",
                    "style": {
                      "color": "black",
                      "fillColor": "black"
                    }
                  },
                  "geometry": {
                    "type": "Polygon",
                    "coordinates": [
                      [
                        [
                          34.754525,
                          -16.264475
                        ],
                        [
                          34.813475,
                          -16.264475
                        ],
                        [
                          34.813475,
                          -16.205525
                        ],
                        [
                          34.754525,
                          -16.205525
                        ],
                        [
                          34.754525,
                          -16.264475
                        ]
                      ]
                    ]
                  },
                  "bbox": [
                    34.754525,
                    -16.264475,
                    34.813475,
                    -16.205525
                  ]
                },
                {
                  "id": "3966",
                  "type": "Feature",
                  "properties": {
                    "tile": "927508",
                    "quad": "1222-930",
                    "date": "2021-06",
                    "file": "planet_medres_normalized_analytic_2021-06_mosaic_1222-930",
                    "style": {
                      "color": "black",
                      "fillColor": "black"
                    }
                  },
                  "geometry": {
                    "type": "Polygon",
                    "coordinates": [
                      [
                        [
                          34.804525,
                          -16.264475
                        ],
                        [
                          34.863475,
                          -16.264475
                        ],
                        [
                          34.863475,
                          -16.205525
                        ],
                        [
                          34.804525,
                          -16.205525
                        ],
                        [
                          34.804525,
                          -16.264475
                        ]
                      ]
                    ]
                  },
                  "bbox": [
                    34.804525,
                    -16.264475,
                    34.863475,
                    -16.205525
                  ]
                },
                {
                  "id": "3967",
                  "type": "Feature",
                  "properties": {
                    "tile": "927509",
                    "quad": "1222-930",
                    "date": "2021-06",
                    "file": "planet_medres_normalized_analytic_2021-06_mosaic_1222-930",
                    "style": {
                      "color": "black",
                      "fillColor": "black"
                    }
                  },
                  "geometry": {
                    "type": "Polygon",
                    "coordinates": [
                      [
                        [
                          34.854525,
                          -16.264475
                        ],
                        [
                          34.913475,
                          -16.264475
                        ],
                        [
                          34.913475,
                          -16.205525
                        ],
                        [
                          34.854525,
                          -16.205525
                        ],
                        [
                          34.854525,
                          -16.264475
                        ]
                      ]
                    ]
                  },
                  "bbox": [
                    34.854525,
                    -16.264475,
                    34.913475,
                    -16.205525
                  ]
                },
                {
                  "id": "3968",
                  "type": "Feature",
                  "properties": {
                    "tile": "927510",
                    "quad": "1222-930",
                    "date": "2021-06",
                    "file": "planet_medres_normalized_analytic_2021-06_mosaic_1222-930",
                    "style": {
                      "color": "black",
                      "fillColor": "black"
                    }
                  },
                  "geometry": {
                    "type": "Polygon",
                    "coordinates": [
                      [
                        [
                          34.904525,
                          -16.264475
                        ],
                        [
                          34.963475,
                          -16.264475
                        ],
                        [
                          34.963475,
                          -16.205525
                        ],
                        [
                          34.904525,
                          -16.205525
                        ],
                        [
                          34.904525,
                          -16.264475
                        ]
                      ]
                    ]
                  },
                  "bbox": [
                    34.904525,
                    -16.264475,
                    34.963475,
                    -16.205525
                  ]
                },
                {
                  "id": "3983",
                  "type": "Feature",
                  "properties": {
                    "tile": "927527",
                    "quad": "1222-930",
                    "date": "2021-06",
                    "file": "planet_medres_normalized_analytic_2021-06_mosaic_1222-930",
                    "style": {
                      "color": "black",
                      "fillColor": "black"
                    }
                  },
                  "geometry": {
                    "type": "Polygon",
                    "coordinates": [
                      [
                        [
                          34.754525,
                          -16.314475
                        ],
                        [
                          34.813475,
                          -16.314475
                        ],
                        [
                          34.813475,
                          -16.255525
                        ],
                        [
                          34.754525,
                          -16.255525
                        ],
                        [
                          34.754525,
                          -16.314475
                        ]
                      ]
                    ]
                  },
                  "bbox": [
                    34.754525,
                    -16.314475,
                    34.813475,
                    -16.255525
                  ]
                },
                {
                  "id": "3984",
                  "type": "Feature",
                  "properties": {
                    "tile": "927528",
                    "quad": "1222-930",
                    "date": "2021-06",
                    "file": "planet_medres_normalized_analytic_2021-06_mosaic_1222-930",
                    "style": {
                      "color": "black",
                      "fillColor": "black"
                    }
                  },
                  "geometry": {
                    "type": "Polygon",
                    "coordinates": [
                      [
                        [
                          34.804525,
                          -16.314475
                        ],
                        [
                          34.863475,
                          -16.314475
                        ],
                        [
                          34.863475,
                          -16.255525
                        ],
                        [
                          34.804525,
                          -16.255525
                        ],
                        [
                          34.804525,
                          -16.314475
                        ]
                      ]
                    ]
                  },
                  "bbox": [
                    34.804525,
                    -16.314475,
                    34.863475,
                    -16.255525
                  ]
                },
                {
                  "id": "3985",
                  "type": "Feature",
                  "properties": {
                    "tile": "927529",
                    "quad": "1222-930",
                    "date": "2021-06",
                    "file": "planet_medres_normalized_analytic_2021-06_mosaic_1222-930",
                    "style": {
                      "color": "black",
                      "fillColor": "black"
                    }
                  },
                  "geometry": {
                    "type": "Polygon",
                    "coordinates": [
                      [
                        [
                          34.854525,
                          -16.314475
                        ],
                        [
                          34.913475,
                          -16.314475
                        ],
                        [
                          34.913475,
                          -16.255525
                        ],
                        [
                          34.854525,
                          -16.255525
                        ],
                        [
                          34.854525,
                          -16.314475
                        ]
                      ]
                    ]
                  },
                  "bbox": [
                    34.854525,
                    -16.314475,
                    34.913475,
                    -16.255525
                  ]
                },
                {
                  "id": "3986",
                  "type": "Feature",
                  "properties": {
                    "tile": "927530",
                    "quad": "1222-930",
                    "date": "2021-06",
                    "file": "planet_medres_normalized_analytic_2021-06_mosaic_1222-930",
                    "style": {
                      "color": "black",
                      "fillColor": "black"
                    }
                  },
                  "geometry": {
                    "type": "Polygon",
                    "coordinates": [
                      [
                        [
                          34.904525,
                          -16.314475
                        ],
                        [
                          34.963475,
                          -16.314475
                        ],
                        [
                          34.963475,
                          -16.255525
                        ],
                        [
                          34.904525,
                          -16.255525
                        ],
                        [
                          34.904525,
                          -16.314475
                        ]
                      ]
                    ]
                  },
                  "bbox": [
                    34.904525,
                    -16.314475,
                    34.963475,
                    -16.255525
                  ]
                },
                {
                  "id": "3926",
                  "type": "Feature",
                  "properties": {
                    "tile": "927467",
                    "quad": "1222-931",
                    "date": "2021-06",
                    "file": "planet_medres_normalized_analytic_2021-06_mosaic_1222-931",
                    "style": {
                      "color": "black",
                      "fillColor": "black"
                    }
                  },
                  "geometry": {
                    "type": "Polygon",
                    "coordinates": [
                      [
                        [
                          34.754525,
                          -16.164475
                        ],
                        [
                          34.813475,
                          -16.164475
                        ],
                        [
                          34.813475,
                          -16.105525
                        ],
                        [
                          34.754525,
                          -16.105525
                        ],
                        [
                          34.754525,
                          -16.164475
                        ]
                      ]
                    ]
                  },
                  "bbox": [
                    34.754525,
                    -16.164475,
                    34.813475,
                    -16.105525
                  ]
                },
                {
                  "id": "3927",
                  "type": "Feature",
                  "properties": {
                    "tile": "927468",
                    "quad": "1222-931",
                    "date": "2021-06",
                    "file": "planet_medres_normalized_analytic_2021-06_mosaic_1222-931",
                    "style": {
                      "color": "black",
                      "fillColor": "black"
                    }
                  },
                  "geometry": {
                    "type": "Polygon",
                    "coordinates": [
                      [
                        [
                          34.804525,
                          -16.164475
                        ],
                        [
                          34.863475,
                          -16.164475
                        ],
                        [
                          34.863475,
                          -16.105525
                        ],
                        [
                          34.804525,
                          -16.105525
                        ],
                        [
                          34.804525,
                          -16.164475
                        ]
                      ]
                    ]
                  },
                  "bbox": [
                    34.804525,
                    -16.164475,
                    34.863475,
                    -16.105525
                  ]
                },
                {
                  "id": "3928",
                  "type": "Feature",
                  "properties": {
                    "tile": "927469",
                    "quad": "1222-931",
                    "date": "2021-06",
                    "file": "planet_medres_normalized_analytic_2021-06_mosaic_1222-931",
                    "style": {
                      "color": "black",
                      "fillColor": "black"
                    }
                  },
                  "geometry": {
                    "type": "Polygon",
                    "coordinates": [
                      [
                        [
                          34.854525,
                          -16.164475
                        ],
                        [
                          34.913475,
                          -16.164475
                        ],
                        [
                          34.913475,
                          -16.105525
                        ],
                        [
                          34.854525,
                          -16.105525
                        ],
                        [
                          34.854525,
                          -16.164475
                        ]
                      ]
                    ]
                  },
                  "bbox": [
                    34.854525,
                    -16.164475,
                    34.913475,
                    -16.105525
                  ]
                },
                {
                  "id": "3929",
                  "type": "Feature",
                  "properties": {
                    "tile": "927470",
                    "quad": "1222-931",
                    "date": "2021-06",
                    "file": "planet_medres_normalized_analytic_2021-06_mosaic_1222-931",
                    "style": {
                      "color": "black",
                      "fillColor": "black"
                    }
                  },
                  "geometry": {
                    "type": "Polygon",
                    "coordinates": [
                      [
                        [
                          34.904525,
                          -16.164475
                        ],
                        [
                          34.963475,
                          -16.164475
                        ],
                        [
                          34.963475,
                          -16.105525
                        ],
                        [
                          34.904525,
                          -16.105525
                        ],
                        [
                          34.904525,
                          -16.164475
                        ]
                      ]
                    ]
                  },
                  "bbox": [
                    34.904525,
                    -16.164475,
                    34.963475,
                    -16.105525
                  ]
                },
                {
                  "id": "3982",
                  "type": "Feature",
                  "properties": {
                    "tile": "927526",
                    "quad": "1221-929",
                    "date": "2021-06",
                    "file": "planet_medres_normalized_analytic_2021-06_mosaic_1221-929",
                    "style": {
                      "color": "black",
                      "fillColor": "black"
                    }
                  },
                  "geometry": {
                    "type": "Polygon",
                    "coordinates": [
                      [
                        [
                          34.704525,
                          -16.314475
                        ],
                        [
                          34.763475,
                          -16.314475
                        ],
                        [
                          34.763475,
                          -16.255525
                        ],
                        [
                          34.704525,
                          -16.255525
                        ],
                        [
                          34.704525,
                          -16.314475
                        ]
                      ]
                    ]
                  },
                  "bbox": [
                    34.704525,
                    -16.314475,
                    34.763475,
                    -16.255525
                  ]
                },
                {
                  "id": "3983",
                  "type": "Feature",
                  "properties": {
                    "tile": "927527",
                    "quad": "1221-929",
                    "date": "2021-06",
                    "file": "planet_medres_normalized_analytic_2021-06_mosaic_1221-929",
                    "style": {
                      "color": "black",
                      "fillColor": "black"
                    }
                  },
                  "geometry": {
                    "type": "Polygon",
                    "coordinates": [
                      [
                        [
                          34.754525,
                          -16.314475
                        ],
                        [
                          34.813475,
                          -16.314475
                        ],
                        [
                          34.813475,
                          -16.255525
                        ],
                        [
                          34.754525,
                          -16.255525
                        ],
                        [
                          34.754525,
                          -16.314475
                        ]
                      ]
                    ]
                  },
                  "bbox": [
                    34.754525,
                    -16.314475,
                    34.813475,
                    -16.255525
                  ]
                },
                {
                  "id": "3984",
                  "type": "Feature",
                  "properties": {
                    "tile": "927528",
                    "quad": "1221-929",
                    "date": "2021-06",
                    "file": "planet_medres_normalized_analytic_2021-06_mosaic_1221-929",
                    "style": {
                      "color": "black",
                      "fillColor": "black"
                    }
                  },
                  "geometry": {
                    "type": "Polygon",
                    "coordinates": [
                      [
                        [
                          34.804525,
                          -16.314475
                        ],
                        [
                          34.863475,
                          -16.314475
                        ],
                        [
                          34.863475,
                          -16.255525
                        ],
                        [
                          34.804525,
                          -16.255525
                        ],
                        [
                          34.804525,
                          -16.314475
                        ]
                      ]
                    ]
                  },
                  "bbox": [
                    34.804525,
                    -16.314475,
                    34.863475,
                    -16.255525
                  ]
                },
                {
                  "id": "3983",
                  "type": "Feature",
                  "properties": {
                    "tile": "927527",
                    "quad": "1222-929",
                    "date": "2021-06",
                    "file": "planet_medres_normalized_analytic_2021-06_mosaic_1222-929",
                    "style": {
                      "color": "black",
                      "fillColor": "black"
                    }
                  },
                  "geometry": {
                    "type": "Polygon",
                    "coordinates": [
                      [
                        [
                          34.754525,
                          -16.314475
                        ],
                        [
                          34.813475,
                          -16.314475
                        ],
                        [
                          34.813475,
                          -16.255525
                        ],
                        [
                          34.754525,
                          -16.255525
                        ],
                        [
                          34.754525,
                          -16.314475
                        ]
                      ]
                    ]
                  },
                  "bbox": [
                    34.754525,
                    -16.314475,
                    34.813475,
                    -16.255525
                  ]
                },
                {
                  "id": "3984",
                  "type": "Feature",
                  "properties": {
                    "tile": "927528",
                    "quad": "1222-929",
                    "date": "2021-06",
                    "file": "planet_medres_normalized_analytic_2021-06_mosaic_1222-929",
                    "style": {
                      "color": "black",
                      "fillColor": "black"
                    }
                  },
                  "geometry": {
                    "type": "Polygon",
                    "coordinates": [
                      [
                        [
                          34.804525,
                          -16.314475
                        ],
                        [
                          34.863475,
                          -16.314475
                        ],
                        [
                          34.863475,
                          -16.255525
                        ],
                        [
                          34.804525,
                          -16.255525
                        ],
                        [
                          34.804525,
                          -16.314475
                        ]
                      ]
                    ]
                  },
                  "bbox": [
                    34.804525,
                    -16.314475,
                    34.863475,
                    -16.255525
                  ]
                },
                {
                  "id": "3985",
                  "type": "Feature",
                  "properties": {
                    "tile": "927529",
                    "quad": "1222-929",
                    "date": "2021-06",
                    "file": "planet_medres_normalized_analytic_2021-06_mosaic_1222-929",
                    "style": {
                      "color": "black",
                      "fillColor": "black"
                    }
                  },
                  "geometry": {
                    "type": "Polygon",
                    "coordinates": [
                      [
                        [
                          34.854525,
                          -16.314475
                        ],
                        [
                          34.913475,
                          -16.314475
                        ],
                        [
                          34.913475,
                          -16.255525
                        ],
                        [
                          34.854525,
                          -16.255525
                        ],
                        [
                          34.854525,
                          -16.314475
                        ]
                      ]
                    ]
                  },
                  "bbox": [
                    34.854525,
                    -16.314475,
                    34.913475,
                    -16.255525
                  ]
                },
                {
                  "id": "3986",
                  "type": "Feature",
                  "properties": {
                    "tile": "927530",
                    "quad": "1222-929",
                    "date": "2021-06",
                    "file": "planet_medres_normalized_analytic_2021-06_mosaic_1222-929",
                    "style": {
                      "color": "black",
                      "fillColor": "black"
                    }
                  },
                  "geometry": {
                    "type": "Polygon",
                    "coordinates": [
                      [
                        [
                          34.904525,
                          -16.314475
                        ],
                        [
                          34.963475,
                          -16.314475
                        ],
                        [
                          34.963475,
                          -16.255525
                        ],
                        [
                          34.904525,
                          -16.255525
                        ],
                        [
                          34.904525,
                          -16.314475
                        ]
                      ]
                    ]
                  },
                  "bbox": [
                    34.904525,
                    -16.314475,
                    34.963475,
                    -16.255525
                  ]
                }
              ],
              "bbox": [
                34.704525,
                -16.314475,
                34.963475,
                -16.105525
              ]
            },
            "hover_style": {
              "weight": 4,
              "fillOpacity": 0
            },
            "layers": [],
            "name": "Tile",
            "options": [],
            "pane": "",
            "point_style": {},
            "popup": null,
            "popup_max_height": null,
            "popup_max_width": 300,
            "popup_min_width": 50,
            "style": {
              "color": "#3388ff",
              "weight": 2,
              "opacity": 1,
              "fill": true,
              "fillColor": "#3388ff",
              "fillOpacity": 0.2
            },
            "subitems": [],
            "visible": true
          }
        },
        "5bd6dcc5166647f2a27778544a99d09c": {
          "model_module": "@jupyter-widgets/base",
          "model_name": "LayoutModel",
          "model_module_version": "1.2.0",
          "state": {
            "_model_module": "@jupyter-widgets/base",
            "_model_module_version": "1.2.0",
            "_model_name": "LayoutModel",
            "_view_count": null,
            "_view_module": "@jupyter-widgets/base",
            "_view_module_version": "1.2.0",
            "_view_name": "LayoutView",
            "align_content": null,
            "align_items": null,
            "align_self": null,
            "border": null,
            "bottom": null,
            "display": null,
            "flex": null,
            "flex_flow": null,
            "grid_area": null,
            "grid_auto_columns": null,
            "grid_auto_flow": null,
            "grid_auto_rows": null,
            "grid_column": null,
            "grid_gap": null,
            "grid_row": null,
            "grid_template_areas": null,
            "grid_template_columns": null,
            "grid_template_rows": null,
            "height": "500px",
            "justify_content": null,
            "justify_items": null,
            "left": null,
            "margin": null,
            "max_height": null,
            "max_width": null,
            "min_height": null,
            "min_width": null,
            "object_fit": null,
            "object_position": null,
            "order": null,
            "overflow": null,
            "overflow_x": null,
            "overflow_y": null,
            "padding": null,
            "right": null,
            "top": null,
            "visibility": null,
            "width": null
          }
        },
        "25ece0bb48d3428e95017e862aba934f": {
          "model_module": "jupyter-leaflet",
          "model_name": "LeafletMapStyleModel",
          "model_module_version": "^0.17",
          "state": {
            "_model_module": "jupyter-leaflet",
            "_model_module_version": "^0.17",
            "_model_name": "LeafletMapStyleModel",
            "_view_count": null,
            "_view_module": "@jupyter-widgets/base",
            "_view_module_version": "1.2.0",
            "_view_name": "StyleView",
            "cursor": "grab"
          }
        },
        "4f582d8e16284aaf97f3b39559ab79d3": {
          "model_module": "@jupyter-widgets/controls",
          "model_name": "VBoxModel",
          "model_module_version": "1.5.0",
          "state": {
            "_dom_classes": [],
            "_model_module": "@jupyter-widgets/controls",
            "_model_module_version": "1.5.0",
            "_model_name": "VBoxModel",
            "_view_count": null,
            "_view_module": "@jupyter-widgets/controls",
            "_view_module_version": "1.5.0",
            "_view_name": "VBoxView",
            "box_style": "",
            "children": [
              "IPY_MODEL_2667c674b0fc4a479e0cd50d044b7340"
            ],
            "layout": "IPY_MODEL_7b00d196275a4820a56a8f8ada6a182f"
          }
        },
        "548e7bff28504176863cbc71c5538376": {
          "model_module": "@jupyter-widgets/controls",
          "model_name": "VBoxModel",
          "model_module_version": "1.5.0",
          "state": {
            "_dom_classes": [],
            "_model_module": "@jupyter-widgets/controls",
            "_model_module_version": "1.5.0",
            "_model_name": "VBoxModel",
            "_view_count": null,
            "_view_module": "@jupyter-widgets/controls",
            "_view_module_version": "1.5.0",
            "_view_name": "VBoxView",
            "box_style": "",
            "children": [
              "IPY_MODEL_df30f6c7765645aa8500578d21413b8c",
              "IPY_MODEL_8801e02004ff444b9abce8365ba047a4"
            ],
            "layout": "IPY_MODEL_6927242f23d440b4b0fb8628b10f187b"
          }
        },
        "2667c674b0fc4a479e0cd50d044b7340": {
          "model_module": "@jupyter-widgets/controls",
          "model_name": "ToggleButtonModel",
          "model_module_version": "1.5.0",
          "state": {
            "_dom_classes": [],
            "_model_module": "@jupyter-widgets/controls",
            "_model_module_version": "1.5.0",
            "_model_name": "ToggleButtonModel",
            "_view_count": null,
            "_view_module": "@jupyter-widgets/controls",
            "_view_module_version": "1.5.0",
            "_view_name": "ToggleButtonView",
            "button_style": "",
            "description": "",
            "description_tooltip": null,
            "disabled": false,
            "icon": "wrench",
            "layout": "IPY_MODEL_a24f12c2ac584d93b25f724624ce9eb7",
            "style": "IPY_MODEL_3c8f0b9b80c44e428c1ad23f189d5723",
            "tooltip": "Toolbar",
            "value": false
          }
        },
        "7b00d196275a4820a56a8f8ada6a182f": {
          "model_module": "@jupyter-widgets/base",
          "model_name": "LayoutModel",
          "model_module_version": "1.2.0",
          "state": {
            "_model_module": "@jupyter-widgets/base",
            "_model_module_version": "1.2.0",
            "_model_name": "LayoutModel",
            "_view_count": null,
            "_view_module": "@jupyter-widgets/base",
            "_view_module_version": "1.2.0",
            "_view_name": "LayoutView",
            "align_content": null,
            "align_items": null,
            "align_self": null,
            "border": null,
            "bottom": null,
            "display": null,
            "flex": null,
            "flex_flow": null,
            "grid_area": null,
            "grid_auto_columns": null,
            "grid_auto_flow": null,
            "grid_auto_rows": null,
            "grid_column": null,
            "grid_gap": null,
            "grid_row": null,
            "grid_template_areas": null,
            "grid_template_columns": null,
            "grid_template_rows": null,
            "height": null,
            "justify_content": null,
            "justify_items": null,
            "left": null,
            "margin": null,
            "max_height": null,
            "max_width": null,
            "min_height": null,
            "min_width": null,
            "object_fit": null,
            "object_position": null,
            "order": null,
            "overflow": null,
            "overflow_x": null,
            "overflow_y": null,
            "padding": null,
            "right": null,
            "top": null,
            "visibility": null,
            "width": null
          }
        },
        "df30f6c7765645aa8500578d21413b8c": {
          "model_module": "@jupyter-widgets/controls",
          "model_name": "HBoxModel",
          "model_module_version": "1.5.0",
          "state": {
            "_dom_classes": [],
            "_model_module": "@jupyter-widgets/controls",
            "_model_module_version": "1.5.0",
            "_model_name": "HBoxModel",
            "_view_count": null,
            "_view_module": "@jupyter-widgets/controls",
            "_view_module_version": "1.5.0",
            "_view_name": "HBoxView",
            "box_style": "",
            "children": [
              "IPY_MODEL_66a55310280a4896a51bce9e06cc9f89",
              "IPY_MODEL_3081384f3ecb4f81beba9f07d283ae36"
            ],
            "layout": "IPY_MODEL_b5e94d12e1ca4af28f8700cd26789f57"
          }
        },
        "8801e02004ff444b9abce8365ba047a4": {
          "model_module": "@jupyter-widgets/controls",
          "model_name": "HTMLModel",
          "model_module_version": "1.5.0",
          "state": {
            "_dom_classes": [],
            "_model_module": "@jupyter-widgets/controls",
            "_model_module_version": "1.5.0",
            "_model_name": "HTMLModel",
            "_view_count": null,
            "_view_module": "@jupyter-widgets/controls",
            "_view_module_version": "1.5.0",
            "_view_name": "HTMLView",
            "description": "",
            "description_tooltip": null,
            "layout": "IPY_MODEL_976dbbe2c34d498eaf901aec04527409",
            "placeholder": "​",
            "style": "IPY_MODEL_3a7905ff39194b45943e211603a5bb8b",
            "value": ""
          }
        },
        "6927242f23d440b4b0fb8628b10f187b": {
          "model_module": "@jupyter-widgets/base",
          "model_name": "LayoutModel",
          "model_module_version": "1.2.0",
          "state": {
            "_model_module": "@jupyter-widgets/base",
            "_model_module_version": "1.2.0",
            "_model_name": "LayoutModel",
            "_view_count": null,
            "_view_module": "@jupyter-widgets/base",
            "_view_module_version": "1.2.0",
            "_view_name": "LayoutView",
            "align_content": null,
            "align_items": null,
            "align_self": null,
            "border": null,
            "bottom": null,
            "display": null,
            "flex": null,
            "flex_flow": null,
            "grid_area": null,
            "grid_auto_columns": null,
            "grid_auto_flow": null,
            "grid_auto_rows": null,
            "grid_column": null,
            "grid_gap": null,
            "grid_row": null,
            "grid_template_areas": null,
            "grid_template_columns": null,
            "grid_template_rows": null,
            "height": null,
            "justify_content": null,
            "justify_items": null,
            "left": null,
            "margin": null,
            "max_height": null,
            "max_width": null,
            "min_height": null,
            "min_width": null,
            "object_fit": null,
            "object_position": null,
            "order": null,
            "overflow": null,
            "overflow_x": null,
            "overflow_y": null,
            "padding": null,
            "right": null,
            "top": null,
            "visibility": null,
            "width": null
          }
        },
        "a24f12c2ac584d93b25f724624ce9eb7": {
          "model_module": "@jupyter-widgets/base",
          "model_name": "LayoutModel",
          "model_module_version": "1.2.0",
          "state": {
            "_model_module": "@jupyter-widgets/base",
            "_model_module_version": "1.2.0",
            "_model_name": "LayoutModel",
            "_view_count": null,
            "_view_module": "@jupyter-widgets/base",
            "_view_module_version": "1.2.0",
            "_view_name": "LayoutView",
            "align_content": null,
            "align_items": null,
            "align_self": null,
            "border": null,
            "bottom": null,
            "display": null,
            "flex": null,
            "flex_flow": null,
            "grid_area": null,
            "grid_auto_columns": null,
            "grid_auto_flow": null,
            "grid_auto_rows": null,
            "grid_column": null,
            "grid_gap": null,
            "grid_row": null,
            "grid_template_areas": null,
            "grid_template_columns": null,
            "grid_template_rows": null,
            "height": "28px",
            "justify_content": null,
            "justify_items": null,
            "left": null,
            "margin": null,
            "max_height": null,
            "max_width": null,
            "min_height": null,
            "min_width": null,
            "object_fit": null,
            "object_position": null,
            "order": null,
            "overflow": null,
            "overflow_x": null,
            "overflow_y": null,
            "padding": "0px 0px 0px 4px",
            "right": null,
            "top": null,
            "visibility": null,
            "width": "28px"
          }
        },
        "3c8f0b9b80c44e428c1ad23f189d5723": {
          "model_module": "@jupyter-widgets/controls",
          "model_name": "DescriptionStyleModel",
          "model_module_version": "1.5.0",
          "state": {
            "_model_module": "@jupyter-widgets/controls",
            "_model_module_version": "1.5.0",
            "_model_name": "DescriptionStyleModel",
            "_view_count": null,
            "_view_module": "@jupyter-widgets/base",
            "_view_module_version": "1.2.0",
            "_view_name": "StyleView",
            "description_width": ""
          }
        },
        "66a55310280a4896a51bce9e06cc9f89": {
          "model_module": "@jupyter-widgets/controls",
          "model_name": "ToggleButtonModel",
          "model_module_version": "1.5.0",
          "state": {
            "_dom_classes": [],
            "_model_module": "@jupyter-widgets/controls",
            "_model_module_version": "1.5.0",
            "_model_name": "ToggleButtonModel",
            "_view_count": null,
            "_view_module": "@jupyter-widgets/controls",
            "_view_module_version": "1.5.0",
            "_view_name": "ToggleButtonView",
            "button_style": "",
            "description": "",
            "description_tooltip": null,
            "disabled": false,
            "icon": "info",
            "layout": "IPY_MODEL_fb653397699340ad905591cccc4f3702",
            "style": "IPY_MODEL_6558f58cc1c9456ea0159fa5f981e1b7",
            "tooltip": "Toolbar",
            "value": true
          }
        },
        "3081384f3ecb4f81beba9f07d283ae36": {
          "model_module": "@jupyter-widgets/controls",
          "model_name": "ToggleButtonModel",
          "model_module_version": "1.5.0",
          "state": {
            "_dom_classes": [],
            "_model_module": "@jupyter-widgets/controls",
            "_model_module_version": "1.5.0",
            "_model_name": "ToggleButtonModel",
            "_view_count": null,
            "_view_module": "@jupyter-widgets/controls",
            "_view_module_version": "1.5.0",
            "_view_name": "ToggleButtonView",
            "button_style": "",
            "description": "",
            "description_tooltip": null,
            "disabled": false,
            "icon": "times",
            "layout": "IPY_MODEL_ef97b8302d354e3d8382a9698d22e786",
            "style": "IPY_MODEL_d373ff9eadd84d66939bf7f73080582a",
            "tooltip": "Close the tool",
            "value": false
          }
        },
        "b5e94d12e1ca4af28f8700cd26789f57": {
          "model_module": "@jupyter-widgets/base",
          "model_name": "LayoutModel",
          "model_module_version": "1.2.0",
          "state": {
            "_model_module": "@jupyter-widgets/base",
            "_model_module_version": "1.2.0",
            "_model_name": "LayoutModel",
            "_view_count": null,
            "_view_module": "@jupyter-widgets/base",
            "_view_module_version": "1.2.0",
            "_view_name": "LayoutView",
            "align_content": null,
            "align_items": null,
            "align_self": null,
            "border": null,
            "bottom": null,
            "display": null,
            "flex": null,
            "flex_flow": null,
            "grid_area": null,
            "grid_auto_columns": null,
            "grid_auto_flow": null,
            "grid_auto_rows": null,
            "grid_column": null,
            "grid_gap": null,
            "grid_row": null,
            "grid_template_areas": null,
            "grid_template_columns": null,
            "grid_template_rows": null,
            "height": null,
            "justify_content": null,
            "justify_items": null,
            "left": null,
            "margin": null,
            "max_height": null,
            "max_width": null,
            "min_height": null,
            "min_width": null,
            "object_fit": null,
            "object_position": null,
            "order": null,
            "overflow": null,
            "overflow_x": null,
            "overflow_y": null,
            "padding": null,
            "right": null,
            "top": null,
            "visibility": null,
            "width": null
          }
        },
        "976dbbe2c34d498eaf901aec04527409": {
          "model_module": "@jupyter-widgets/base",
          "model_name": "LayoutModel",
          "model_module_version": "1.2.0",
          "state": {
            "_model_module": "@jupyter-widgets/base",
            "_model_module_version": "1.2.0",
            "_model_name": "LayoutModel",
            "_view_count": null,
            "_view_module": "@jupyter-widgets/base",
            "_view_module_version": "1.2.0",
            "_view_name": "LayoutView",
            "align_content": null,
            "align_items": null,
            "align_self": null,
            "border": null,
            "bottom": null,
            "display": null,
            "flex": null,
            "flex_flow": null,
            "grid_area": null,
            "grid_auto_columns": null,
            "grid_auto_flow": null,
            "grid_auto_rows": null,
            "grid_column": null,
            "grid_gap": null,
            "grid_row": null,
            "grid_template_areas": null,
            "grid_template_columns": null,
            "grid_template_rows": null,
            "height": null,
            "justify_content": null,
            "justify_items": null,
            "left": null,
            "margin": "0px 10px 0px 10px",
            "max_height": "250px",
            "max_width": "250px",
            "min_height": null,
            "min_width": null,
            "object_fit": null,
            "object_position": null,
            "order": null,
            "overflow": null,
            "overflow_x": null,
            "overflow_y": null,
            "padding": null,
            "right": null,
            "top": null,
            "visibility": null,
            "width": null
          }
        },
        "3a7905ff39194b45943e211603a5bb8b": {
          "model_module": "@jupyter-widgets/controls",
          "model_name": "DescriptionStyleModel",
          "model_module_version": "1.5.0",
          "state": {
            "_model_module": "@jupyter-widgets/controls",
            "_model_module_version": "1.5.0",
            "_model_name": "DescriptionStyleModel",
            "_view_count": null,
            "_view_module": "@jupyter-widgets/base",
            "_view_module_version": "1.2.0",
            "_view_name": "StyleView",
            "description_width": ""
          }
        },
        "fb653397699340ad905591cccc4f3702": {
          "model_module": "@jupyter-widgets/base",
          "model_name": "LayoutModel",
          "model_module_version": "1.2.0",
          "state": {
            "_model_module": "@jupyter-widgets/base",
            "_model_module_version": "1.2.0",
            "_model_name": "LayoutModel",
            "_view_count": null,
            "_view_module": "@jupyter-widgets/base",
            "_view_module_version": "1.2.0",
            "_view_name": "LayoutView",
            "align_content": null,
            "align_items": null,
            "align_self": null,
            "border": null,
            "bottom": null,
            "display": null,
            "flex": null,
            "flex_flow": null,
            "grid_area": null,
            "grid_auto_columns": null,
            "grid_auto_flow": null,
            "grid_auto_rows": null,
            "grid_column": null,
            "grid_gap": null,
            "grid_row": null,
            "grid_template_areas": null,
            "grid_template_columns": null,
            "grid_template_rows": null,
            "height": "28px",
            "justify_content": null,
            "justify_items": null,
            "left": null,
            "margin": null,
            "max_height": null,
            "max_width": null,
            "min_height": null,
            "min_width": null,
            "object_fit": null,
            "object_position": null,
            "order": null,
            "overflow": null,
            "overflow_x": null,
            "overflow_y": null,
            "padding": "0px 0px 0px 4px",
            "right": null,
            "top": null,
            "visibility": null,
            "width": "28px"
          }
        },
        "6558f58cc1c9456ea0159fa5f981e1b7": {
          "model_module": "@jupyter-widgets/controls",
          "model_name": "DescriptionStyleModel",
          "model_module_version": "1.5.0",
          "state": {
            "_model_module": "@jupyter-widgets/controls",
            "_model_module_version": "1.5.0",
            "_model_name": "DescriptionStyleModel",
            "_view_count": null,
            "_view_module": "@jupyter-widgets/base",
            "_view_module_version": "1.2.0",
            "_view_name": "StyleView",
            "description_width": ""
          }
        },
        "ef97b8302d354e3d8382a9698d22e786": {
          "model_module": "@jupyter-widgets/base",
          "model_name": "LayoutModel",
          "model_module_version": "1.2.0",
          "state": {
            "_model_module": "@jupyter-widgets/base",
            "_model_module_version": "1.2.0",
            "_model_name": "LayoutModel",
            "_view_count": null,
            "_view_module": "@jupyter-widgets/base",
            "_view_module_version": "1.2.0",
            "_view_name": "LayoutView",
            "align_content": null,
            "align_items": null,
            "align_self": null,
            "border": null,
            "bottom": null,
            "display": null,
            "flex": null,
            "flex_flow": null,
            "grid_area": null,
            "grid_auto_columns": null,
            "grid_auto_flow": null,
            "grid_auto_rows": null,
            "grid_column": null,
            "grid_gap": null,
            "grid_row": null,
            "grid_template_areas": null,
            "grid_template_columns": null,
            "grid_template_rows": null,
            "height": "28px",
            "justify_content": null,
            "justify_items": null,
            "left": null,
            "margin": null,
            "max_height": null,
            "max_width": null,
            "min_height": null,
            "min_width": null,
            "object_fit": null,
            "object_position": null,
            "order": null,
            "overflow": null,
            "overflow_x": null,
            "overflow_y": null,
            "padding": "0px 0px 0px 4px",
            "right": null,
            "top": null,
            "visibility": null,
            "width": "28px"
          }
        },
        "d373ff9eadd84d66939bf7f73080582a": {
          "model_module": "@jupyter-widgets/controls",
          "model_name": "DescriptionStyleModel",
          "model_module_version": "1.5.0",
          "state": {
            "_model_module": "@jupyter-widgets/controls",
            "_model_module_version": "1.5.0",
            "_model_name": "DescriptionStyleModel",
            "_view_count": null,
            "_view_module": "@jupyter-widgets/base",
            "_view_module_version": "1.2.0",
            "_view_name": "StyleView",
            "description_width": ""
          }
        }
      }
    }
  },
  "nbformat": 4,
  "nbformat_minor": 5
}