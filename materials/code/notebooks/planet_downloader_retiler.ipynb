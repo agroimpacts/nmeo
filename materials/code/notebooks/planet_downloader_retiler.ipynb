{
  "cells": [
    {
      "cell_type": "markdown",
      "metadata": {
        "id": "view-in-github",
        "colab_type": "text"
      },
      "source": [
        "<a href=\"https://colab.research.google.com/github/agroimpacts/nmeo/blob/class%2Ff2023/planet_downloader_retiler.ipynb\" target=\"_parent\"><img src=\"https://colab.research.google.com/assets/colab-badge.svg\" alt=\"Open In Colab\"/></a>"
      ]
    },
    {
      "cell_type": "markdown",
      "id": "13485195-32a6-4f6f-9196-6526f1464450",
      "metadata": {
        "id": "13485195-32a6-4f6f-9196-6526f1464450"
      },
      "source": [
        "## Downloading and preparing PlanetScope data"
      ]
    },
    {
      "cell_type": "markdown",
      "id": "7893a556-2e4a-4e9b-a31d-c805f419c323",
      "metadata": {
        "id": "7893a556-2e4a-4e9b-a31d-c805f419c323"
      },
      "source": [
        "This notebook provides instructions for working with selected samples to query the Planet API, download the necessary NICFI tiles by date, and then reprocess them into tiles defined by a different grid format."
      ]
    },
    {
      "cell_type": "markdown",
      "id": "99dc4ad3-6f60-4c0b-863b-6828923cfd39",
      "metadata": {
        "id": "99dc4ad3-6f60-4c0b-863b-6828923cfd39"
      },
      "source": [
        "## Requirements"
      ]
    },
    {
      "cell_type": "markdown",
      "source": [
        "### Files\n",
        "You will need one input file:\n",
        "\n",
        "- malawi_tiles_full.geojson\n",
        "\n",
        "This file is the one you will select a subset from to collect NICFI tiles, and then retile them. You will have to select an area of 5X5 tiles first.\n"
      ],
      "metadata": {
        "id": "eaJ2yBcOayFD"
      },
      "id": "eaJ2yBcOayFD"
    },
    {
      "cell_type": "markdown",
      "source": [
        "### Code\n",
        "You will first have to install the clone our `maputil` repository from GitHub, which can be collected done by running the code below (first we mount Drive)"
      ],
      "metadata": {
        "id": "aI_caF82a1-Y"
      },
      "id": "aI_caF82a1-Y"
    },
    {
      "cell_type": "code",
      "execution_count": null,
      "id": "919cd22c-4dfd-43df-bd70-8038c4e7a8dc",
      "metadata": {
        "id": "919cd22c-4dfd-43df-bd70-8038c4e7a8dc"
      },
      "outputs": [],
      "source": [
        "from google.colab import drive\n",
        "root = '/content/gdrive'\n",
        "drive.mount(root)"
      ]
    },
    {
      "cell_type": "markdown",
      "source": [
        "#### Clone and/or update maputil"
      ],
      "metadata": {
        "id": "LTeIIzT7i4if"
      },
      "id": "LTeIIzT7i4if"
    },
    {
      "cell_type": "code",
      "source": [
        "import os\n",
        "from datetime import datetime as dt\n",
        "repo_path = f\"{root}/MyDrive/repos\"\n",
        "clone_path = 'https://github.com/agroimpacts/maputil.git'\n",
        "if not os.path.exists(repo_path):\n",
        "    print(f\"Making {repo_path}\")\n",
        "    os.makedirs(repo_path, exist_ok=True)\n",
        "\n",
        "if not os.path.exists(f\"{repo_path}/maputil\"):\n",
        "    !git -C \"{repo_path}\" clone \"{clone_path}\"\n",
        "else:\n",
        "    !git -C \"{repo_path}/maputil\" pull\n",
        "\n",
        "# os.chdir(f\"{repo_path}/maputil\")"
      ],
      "metadata": {
        "colab": {
          "base_uri": "https://localhost:8080/"
        },
        "id": "wF_wdADMYf8r",
        "outputId": "4ea33bba-4921-4b63-a003-b784643c6b12"
      },
      "id": "wF_wdADMYf8r",
      "execution_count": 2,
      "outputs": [
        {
          "output_type": "stream",
          "name": "stdout",
          "text": [
            "Already up to date.\n"
          ]
        }
      ]
    },
    {
      "cell_type": "markdown",
      "source": [
        "### Install and import other necessary packages"
      ],
      "metadata": {
        "id": "McjymlAuanWK"
      },
      "id": "McjymlAuanWK"
    },
    {
      "cell_type": "markdown",
      "id": "5ebf1453-bbb8-4b84-8729-d3598561af91",
      "metadata": {
        "id": "5ebf1453-bbb8-4b84-8729-d3598561af91"
      },
      "source": [
        "Having cloned that repo, you need want to include the python modules that are contained in it within the import statements."
      ]
    },
    {
      "cell_type": "code",
      "source": [
        "%%capture\n",
        "%pip install affine\n",
        "%pip install leafmap\n",
        "%pip install localtileserver\n",
        "%pip install leafmap\n",
        "%pip install boto3\n",
        "%pip install urllib3==2.0.3\n",
        "# import rioxarray"
      ],
      "metadata": {
        "id": "7hgDqciVa_Oj"
      },
      "id": "7hgDqciVa_Oj",
      "execution_count": 3,
      "outputs": []
    },
    {
      "cell_type": "code",
      "execution_count": 3,
      "id": "4a470334-f0fc-42cc-ad24-2b9698629f8f",
      "metadata": {
        "tags": [],
        "id": "4a470334-f0fc-42cc-ad24-2b9698629f8f"
      },
      "outputs": [],
      "source": [
        "os.chdir(f\"{repo_path}/maputil\")\n",
        "import sys\n",
        "import importlib\n",
        "from pathlib import Path\n",
        "import affine\n",
        "import pandas as pd\n",
        "# import rioxarray as rxr\n",
        "import leafmap.leafmap as leafmap\n",
        "import localtileserver\n",
        "import geopandas as gpd\n",
        "import inspect\n",
        "# from botocore.utils import PROTOCOL_TLS\n",
        "\n",
        "libpath = f\"{repo_path}\"\n",
        "# sys.path.insert(0, libpath)\n",
        "# import maputil\n",
        "# importlib.reload(maputil)\n",
        "# importlib.reload(maputil.utils)\n",
        "from maputil import *\n"
      ]
    },
    {
      "cell_type": "markdown",
      "id": "b4b4e043-951e-4b70-88e8-b05e67edd133",
      "metadata": {
        "tags": [],
        "id": "b4b4e043-951e-4b70-88e8-b05e67edd133"
      },
      "source": [
        "## Set up the parameters to run the downloader"
      ]
    },
    {
      "cell_type": "markdown",
      "source": [
        "First, enter in the prompt below the path on Google Drive to a text file containing the Planet API key for your account. You can find that key by logging into your [Planet account](https://account.planet.com/) under the My Settings tab. Copy the key and save it into a simply text file (e.g. mykey.txt), which has only one line containing the key. This is safer than copying it into your notebook, where it might eventually become public."
      ],
      "metadata": {
        "id": "VPyv38NYn3M5"
      },
      "id": "VPyv38NYn3M5"
    },
    {
      "cell_type": "code",
      "source": [
        "#@title #### Enter path to Planet key\n",
        "x = input(\"Enter the path on Drive where your key is stored, \"\\\n",
        "          \"e.g. keys/mykey.txt: \")\n",
        "key_path = f\"{root}/MyDrive/{x}\"\n",
        "\n",
        "PLANET_API_KEY = open(key_path).read().strip()"
      ],
      "metadata": {
        "cellView": "form",
        "id": "AcaRYjIOorCj"
      },
      "id": "AcaRYjIOorCj",
      "execution_count": null,
      "outputs": []
    },
    {
      "cell_type": "markdown",
      "id": "ab84655a-5600-4099-9772-f884e831e77b",
      "metadata": {
        "id": "ab84655a-5600-4099-9772-f884e831e77b"
      },
      "source": [
        "The following parameters should be set for running the code.\n",
        "\n",
        "- API_URL_KEY: Provided\n",
        "- proj_path: The path where you want to place all files\n",
        "- quad_dir: The place to download Planet basemap quads\n",
        "- tile_dir: The place where tile clipped out of basemap quads will go\n",
        "- temp_dir: The place where temporary files to be made during clipping out the tile go\n",
        "- dst_width: The output width in pixels of the final PlanetScope tile (2368)\n",
        "- dst_height: The output width in pixels of the final PlanetScope tile (2368)\n",
        "- nbands: The number of output bands in the imagery (4)\n",
        "- dst_crs: The output coordinate reference system ('EPSG=4326')\n",
        "- tile_path: The path to the tile file provided for this exercise (malawi_tiles_full.geojson), which you can get [here](https://drive.google.com/file/d/1yTFp7IjvCVvPr9mBRD8L5PC20oGc_g5I/view?usp=sharing).\n",
        "\n",
        "Change the paths below to match those on your system."
      ]
    },
    {
      "cell_type": "code",
      "execution_count": 28,
      "id": "eddadd8a-145d-4b16-8675-7fcb782f69d3",
      "metadata": {
        "tags": [],
        "id": "eddadd8a-145d-4b16-8675-7fcb782f69d3"
      },
      "outputs": [],
      "source": [
        "API_URL = 'https://api.planet.com/basemaps/v1/mosaics'\n",
        "\n",
        "# change the dest_path to the one you want\n",
        "proj_path = f\"{root}/MyDrive/data/nmeo\"  # main output path\n",
        "quad_dir = f\"{proj_path}/quads\"  # for downloaded NICFI quads\n",
        "tile_dir = f\"{proj_path}/tiles\"  # for output tiles\n",
        "temp_dir = f\"{proj_path}/temp\"   # temporary directory for intermediate outputs\n",
        "log_dir = f\"{proj_path}/logs\"  # directory for log files\n",
        "\n",
        "# output parameters for tiles\n",
        "dst_width = 2358\n",
        "dst_height = 2358\n",
        "nbands = 4\n",
        "dst_crs = 'EPSG:4326'\n",
        "\n",
        "tile_path = f\"{proj_path}/inputs/malawi_tiles_full.geojson\""
      ]
    },
    {
      "cell_type": "markdown",
      "id": "871058f7-5c64-4d00-8e3a-1b8a6a022ef7",
      "metadata": {
        "id": "871058f7-5c64-4d00-8e3a-1b8a6a022ef7"
      },
      "source": [
        "### Read in tile file and select sub-area\n",
        "\n",
        "Using the Malawi tiles"
      ]
    },
    {
      "cell_type": "markdown",
      "id": "11419ada-617c-4fa6-9ab0-23c5a8932735",
      "metadata": {
        "id": "11419ada-617c-4fa6-9ab0-23c5a8932735"
      },
      "source": [
        "We just want to collect the month and year information from the samples file, and add it to the tiles file. We also want to convert the month and year data to a single variable, for querying the Planet API"
      ]
    },
    {
      "cell_type": "code",
      "execution_count": 7,
      "id": "f925f304-5384-4c58-b97f-ef6c05f6d88f",
      "metadata": {
        "tags": [],
        "colab": {
          "base_uri": "https://localhost:8080/",
          "height": 206
        },
        "id": "f925f304-5384-4c58-b97f-ef6c05f6d88f",
        "outputId": "db7c114d-3ec8-41e4-a8d7-11f319a1ae13"
      },
      "outputs": [
        {
          "output_type": "execute_result",
          "data": {
            "text/plain": [
              "     tile tile_col tile_row                                           geometry\n",
              "0  841570     1009      938  POLYGON ((32.90900 -9.36000, 32.90900 -9.41000...\n",
              "1  841571     1010      938  POLYGON ((32.95900 -9.36000, 32.95900 -9.41000...\n",
              "2  841572     1011      938  POLYGON ((33.00900 -9.36000, 33.00900 -9.41000...\n",
              "3  841590     1009      939  POLYGON ((32.90900 -9.41000, 32.90900 -9.46000...\n",
              "4  841591     1010      939  POLYGON ((32.95900 -9.41000, 32.95900 -9.46000..."
            ],
            "text/html": [
              "\n",
              "  <div id=\"df-3b3900e6-9a90-42a3-b6ac-082ececfeb0b\" class=\"colab-df-container\">\n",
              "    <div>\n",
              "<style scoped>\n",
              "    .dataframe tbody tr th:only-of-type {\n",
              "        vertical-align: middle;\n",
              "    }\n",
              "\n",
              "    .dataframe tbody tr th {\n",
              "        vertical-align: top;\n",
              "    }\n",
              "\n",
              "    .dataframe thead th {\n",
              "        text-align: right;\n",
              "    }\n",
              "</style>\n",
              "<table border=\"1\" class=\"dataframe\">\n",
              "  <thead>\n",
              "    <tr style=\"text-align: right;\">\n",
              "      <th></th>\n",
              "      <th>tile</th>\n",
              "      <th>tile_col</th>\n",
              "      <th>tile_row</th>\n",
              "      <th>geometry</th>\n",
              "    </tr>\n",
              "  </thead>\n",
              "  <tbody>\n",
              "    <tr>\n",
              "      <th>0</th>\n",
              "      <td>841570</td>\n",
              "      <td>1009</td>\n",
              "      <td>938</td>\n",
              "      <td>POLYGON ((32.90900 -9.36000, 32.90900 -9.41000...</td>\n",
              "    </tr>\n",
              "    <tr>\n",
              "      <th>1</th>\n",
              "      <td>841571</td>\n",
              "      <td>1010</td>\n",
              "      <td>938</td>\n",
              "      <td>POLYGON ((32.95900 -9.36000, 32.95900 -9.41000...</td>\n",
              "    </tr>\n",
              "    <tr>\n",
              "      <th>2</th>\n",
              "      <td>841572</td>\n",
              "      <td>1011</td>\n",
              "      <td>938</td>\n",
              "      <td>POLYGON ((33.00900 -9.36000, 33.00900 -9.41000...</td>\n",
              "    </tr>\n",
              "    <tr>\n",
              "      <th>3</th>\n",
              "      <td>841590</td>\n",
              "      <td>1009</td>\n",
              "      <td>939</td>\n",
              "      <td>POLYGON ((32.90900 -9.41000, 32.90900 -9.46000...</td>\n",
              "    </tr>\n",
              "    <tr>\n",
              "      <th>4</th>\n",
              "      <td>841591</td>\n",
              "      <td>1010</td>\n",
              "      <td>939</td>\n",
              "      <td>POLYGON ((32.95900 -9.41000, 32.95900 -9.46000...</td>\n",
              "    </tr>\n",
              "  </tbody>\n",
              "</table>\n",
              "</div>\n",
              "    <div class=\"colab-df-buttons\">\n",
              "\n",
              "  <div class=\"colab-df-container\">\n",
              "    <button class=\"colab-df-convert\" onclick=\"convertToInteractive('df-3b3900e6-9a90-42a3-b6ac-082ececfeb0b')\"\n",
              "            title=\"Convert this dataframe to an interactive table.\"\n",
              "            style=\"display:none;\">\n",
              "\n",
              "  <svg xmlns=\"http://www.w3.org/2000/svg\" height=\"24px\" viewBox=\"0 -960 960 960\">\n",
              "    <path d=\"M120-120v-720h720v720H120Zm60-500h600v-160H180v160Zm220 220h160v-160H400v160Zm0 220h160v-160H400v160ZM180-400h160v-160H180v160Zm440 0h160v-160H620v160ZM180-180h160v-160H180v160Zm440 0h160v-160H620v160Z\"/>\n",
              "  </svg>\n",
              "    </button>\n",
              "\n",
              "  <style>\n",
              "    .colab-df-container {\n",
              "      display:flex;\n",
              "      gap: 12px;\n",
              "    }\n",
              "\n",
              "    .colab-df-convert {\n",
              "      background-color: #E8F0FE;\n",
              "      border: none;\n",
              "      border-radius: 50%;\n",
              "      cursor: pointer;\n",
              "      display: none;\n",
              "      fill: #1967D2;\n",
              "      height: 32px;\n",
              "      padding: 0 0 0 0;\n",
              "      width: 32px;\n",
              "    }\n",
              "\n",
              "    .colab-df-convert:hover {\n",
              "      background-color: #E2EBFA;\n",
              "      box-shadow: 0px 1px 2px rgba(60, 64, 67, 0.3), 0px 1px 3px 1px rgba(60, 64, 67, 0.15);\n",
              "      fill: #174EA6;\n",
              "    }\n",
              "\n",
              "    .colab-df-buttons div {\n",
              "      margin-bottom: 4px;\n",
              "    }\n",
              "\n",
              "    [theme=dark] .colab-df-convert {\n",
              "      background-color: #3B4455;\n",
              "      fill: #D2E3FC;\n",
              "    }\n",
              "\n",
              "    [theme=dark] .colab-df-convert:hover {\n",
              "      background-color: #434B5C;\n",
              "      box-shadow: 0px 1px 3px 1px rgba(0, 0, 0, 0.15);\n",
              "      filter: drop-shadow(0px 1px 2px rgba(0, 0, 0, 0.3));\n",
              "      fill: #FFFFFF;\n",
              "    }\n",
              "  </style>\n",
              "\n",
              "    <script>\n",
              "      const buttonEl =\n",
              "        document.querySelector('#df-3b3900e6-9a90-42a3-b6ac-082ececfeb0b button.colab-df-convert');\n",
              "      buttonEl.style.display =\n",
              "        google.colab.kernel.accessAllowed ? 'block' : 'none';\n",
              "\n",
              "      async function convertToInteractive(key) {\n",
              "        const element = document.querySelector('#df-3b3900e6-9a90-42a3-b6ac-082ececfeb0b');\n",
              "        const dataTable =\n",
              "          await google.colab.kernel.invokeFunction('convertToInteractive',\n",
              "                                                    [key], {});\n",
              "        if (!dataTable) return;\n",
              "\n",
              "        const docLinkHtml = 'Like what you see? Visit the ' +\n",
              "          '<a target=\"_blank\" href=https://colab.research.google.com/notebooks/data_table.ipynb>data table notebook</a>'\n",
              "          + ' to learn more about interactive tables.';\n",
              "        element.innerHTML = '';\n",
              "        dataTable['output_type'] = 'display_data';\n",
              "        await google.colab.output.renderOutput(dataTable, element);\n",
              "        const docLink = document.createElement('div');\n",
              "        docLink.innerHTML = docLinkHtml;\n",
              "        element.appendChild(docLink);\n",
              "      }\n",
              "    </script>\n",
              "  </div>\n",
              "\n",
              "\n",
              "<div id=\"df-a1bbf691-c21d-4bdb-b2da-bdff4666de1f\">\n",
              "  <button class=\"colab-df-quickchart\" onclick=\"quickchart('df-a1bbf691-c21d-4bdb-b2da-bdff4666de1f')\"\n",
              "            title=\"Suggest charts.\"\n",
              "            style=\"display:none;\">\n",
              "\n",
              "<svg xmlns=\"http://www.w3.org/2000/svg\" height=\"24px\"viewBox=\"0 0 24 24\"\n",
              "     width=\"24px\">\n",
              "    <g>\n",
              "        <path d=\"M19 3H5c-1.1 0-2 .9-2 2v14c0 1.1.9 2 2 2h14c1.1 0 2-.9 2-2V5c0-1.1-.9-2-2-2zM9 17H7v-7h2v7zm4 0h-2V7h2v10zm4 0h-2v-4h2v4z\"/>\n",
              "    </g>\n",
              "</svg>\n",
              "  </button>\n",
              "\n",
              "<style>\n",
              "  .colab-df-quickchart {\n",
              "      --bg-color: #E8F0FE;\n",
              "      --fill-color: #1967D2;\n",
              "      --hover-bg-color: #E2EBFA;\n",
              "      --hover-fill-color: #174EA6;\n",
              "      --disabled-fill-color: #AAA;\n",
              "      --disabled-bg-color: #DDD;\n",
              "  }\n",
              "\n",
              "  [theme=dark] .colab-df-quickchart {\n",
              "      --bg-color: #3B4455;\n",
              "      --fill-color: #D2E3FC;\n",
              "      --hover-bg-color: #434B5C;\n",
              "      --hover-fill-color: #FFFFFF;\n",
              "      --disabled-bg-color: #3B4455;\n",
              "      --disabled-fill-color: #666;\n",
              "  }\n",
              "\n",
              "  .colab-df-quickchart {\n",
              "    background-color: var(--bg-color);\n",
              "    border: none;\n",
              "    border-radius: 50%;\n",
              "    cursor: pointer;\n",
              "    display: none;\n",
              "    fill: var(--fill-color);\n",
              "    height: 32px;\n",
              "    padding: 0;\n",
              "    width: 32px;\n",
              "  }\n",
              "\n",
              "  .colab-df-quickchart:hover {\n",
              "    background-color: var(--hover-bg-color);\n",
              "    box-shadow: 0 1px 2px rgba(60, 64, 67, 0.3), 0 1px 3px 1px rgba(60, 64, 67, 0.15);\n",
              "    fill: var(--button-hover-fill-color);\n",
              "  }\n",
              "\n",
              "  .colab-df-quickchart-complete:disabled,\n",
              "  .colab-df-quickchart-complete:disabled:hover {\n",
              "    background-color: var(--disabled-bg-color);\n",
              "    fill: var(--disabled-fill-color);\n",
              "    box-shadow: none;\n",
              "  }\n",
              "\n",
              "  .colab-df-spinner {\n",
              "    border: 2px solid var(--fill-color);\n",
              "    border-color: transparent;\n",
              "    border-bottom-color: var(--fill-color);\n",
              "    animation:\n",
              "      spin 1s steps(1) infinite;\n",
              "  }\n",
              "\n",
              "  @keyframes spin {\n",
              "    0% {\n",
              "      border-color: transparent;\n",
              "      border-bottom-color: var(--fill-color);\n",
              "      border-left-color: var(--fill-color);\n",
              "    }\n",
              "    20% {\n",
              "      border-color: transparent;\n",
              "      border-left-color: var(--fill-color);\n",
              "      border-top-color: var(--fill-color);\n",
              "    }\n",
              "    30% {\n",
              "      border-color: transparent;\n",
              "      border-left-color: var(--fill-color);\n",
              "      border-top-color: var(--fill-color);\n",
              "      border-right-color: var(--fill-color);\n",
              "    }\n",
              "    40% {\n",
              "      border-color: transparent;\n",
              "      border-right-color: var(--fill-color);\n",
              "      border-top-color: var(--fill-color);\n",
              "    }\n",
              "    60% {\n",
              "      border-color: transparent;\n",
              "      border-right-color: var(--fill-color);\n",
              "    }\n",
              "    80% {\n",
              "      border-color: transparent;\n",
              "      border-right-color: var(--fill-color);\n",
              "      border-bottom-color: var(--fill-color);\n",
              "    }\n",
              "    90% {\n",
              "      border-color: transparent;\n",
              "      border-bottom-color: var(--fill-color);\n",
              "    }\n",
              "  }\n",
              "</style>\n",
              "\n",
              "  <script>\n",
              "    async function quickchart(key) {\n",
              "      const quickchartButtonEl =\n",
              "        document.querySelector('#' + key + ' button');\n",
              "      quickchartButtonEl.disabled = true;  // To prevent multiple clicks.\n",
              "      quickchartButtonEl.classList.add('colab-df-spinner');\n",
              "      try {\n",
              "        const charts = await google.colab.kernel.invokeFunction(\n",
              "            'suggestCharts', [key], {});\n",
              "      } catch (error) {\n",
              "        console.error('Error during call to suggestCharts:', error);\n",
              "      }\n",
              "      quickchartButtonEl.classList.remove('colab-df-spinner');\n",
              "      quickchartButtonEl.classList.add('colab-df-quickchart-complete');\n",
              "    }\n",
              "    (() => {\n",
              "      let quickchartButtonEl =\n",
              "        document.querySelector('#df-a1bbf691-c21d-4bdb-b2da-bdff4666de1f button');\n",
              "      quickchartButtonEl.style.display =\n",
              "        google.colab.kernel.accessAllowed ? 'block' : 'none';\n",
              "    })();\n",
              "  </script>\n",
              "</div>\n",
              "\n",
              "    </div>\n",
              "  </div>\n"
            ]
          },
          "metadata": {},
          "execution_count": 7
        }
      ],
      "source": [
        "tiles = gpd.read_file(tile_path)\n",
        "tiles[tiles.columns[0:3]] = tiles[tiles.columns[0:3]].astype(int).astype(str)\n",
        "tiles.head()"
      ]
    },
    {
      "cell_type": "markdown",
      "source": [
        "View the tiles on the map, and then use the rectangle tool to select a small number of tiles (e.g. 10) anywhere in Malawi.  "
      ],
      "metadata": {
        "id": "YEqf3fFPrQzE"
      },
      "id": "YEqf3fFPrQzE"
    },
    {
      "cell_type": "code",
      "source": [
        "m = leafmap.Map()\n",
        "m.add_basemap()\n",
        "m.add_basemap(\"SATELLITE\")\n",
        "m.add_gdf(tiles, zoom_to_layer=True)\n",
        "m"
      ],
      "metadata": {
        "id": "uC9Qft3IibG_"
      },
      "id": "uC9Qft3IibG_",
      "execution_count": null,
      "outputs": []
    },
    {
      "cell_type": "markdown",
      "source": [
        "Save the polygon you draw to a geojson."
      ],
      "metadata": {
        "id": "4DDHO8HPriVZ"
      },
      "id": "4DDHO8HPriVZ"
    },
    {
      "cell_type": "code",
      "source": [
        "m.save_draw_features(f\"{proj_path}/inputs/aoi.geojson\")"
      ],
      "metadata": {
        "id": "p8s4NVoTkATc"
      },
      "id": "p8s4NVoTkATc",
      "execution_count": null,
      "outputs": []
    },
    {
      "cell_type": "markdown",
      "source": [
        "### Select the tiles using the AOI"
      ],
      "metadata": {
        "id": "RlBk1qiEkyfV"
      },
      "id": "RlBk1qiEkyfV"
    },
    {
      "cell_type": "code",
      "execution_count": 22,
      "id": "817f9490-3646-491b-b52a-54ce49c89aa8",
      "metadata": {
        "id": "817f9490-3646-491b-b52a-54ce49c89aa8",
        "outputId": "ebeaba09-5b6d-4044-b955-41082ddb6fad",
        "colab": {
          "base_uri": "https://localhost:8080/"
        }
      },
      "outputs": [
        {
          "output_type": "execute_result",
          "data": {
            "text/plain": [
              "(20, 4)"
            ]
          },
          "metadata": {},
          "execution_count": 22
        }
      ],
      "source": [
        "aoi = gpd.read_file(f\"{proj_path}/inputs/aoi.geojson\")\n",
        "tiles_aoi = tiles.sjoin(aoi)\\\n",
        "    .drop(columns=\"index_right\")\n",
        "tiles_aoi.shape"
      ]
    },
    {
      "cell_type": "markdown",
      "id": "79011c78-6b5a-46ed-8696-753f55963280",
      "metadata": {
        "tags": [],
        "id": "79011c78-6b5a-46ed-8696-753f55963280"
      },
      "source": [
        "## Get the NICFI grid catalog for the tiles"
      ]
    },
    {
      "cell_type": "markdown",
      "id": "39e7b7e9-d17a-40bb-a0d4-d3757ec9132d",
      "metadata": {
        "id": "39e7b7e9-d17a-40bb-a0d4-d3757ec9132d"
      },
      "source": [
        "### Query the catalog\n",
        "\n",
        "Find the Planet basemap quads that intersect the selected tiles.\n",
        "We first create a function for defining the correct dates of imagery, which vary in terms of their length of monthly coverage. The date period has to be exact when querying the API to get the images back from Planet."
      ]
    },
    {
      "cell_type": "code",
      "execution_count": 9,
      "id": "adbda418-2db2-4964-bcb0-dad13be6b88a",
      "metadata": {
        "id": "adbda418-2db2-4964-bcb0-dad13be6b88a"
      },
      "outputs": [],
      "source": [
        "def year_date(year, month):\n",
        "    if (year < \"2021\") & (month < \"06\"):\n",
        "        date = str(int(year)-1) + \"-12_\" + year + \"-05\"\n",
        "    elif (year < \"2020\") & (month == \"12\"):\n",
        "        date = year + \"-12_\" + str(int(year)+1) + \"-05\"\n",
        "    elif (year == \"2020\") & (month == \"12\"):\n",
        "        date = year + '-' + month\n",
        "    elif (year < \"2020\") & ((month >= \"06\") & (month < \"12\")):\n",
        "        date = year + \"-06_\" + year + \"-11\"\n",
        "    elif (year == \"2020\") & ((month >= \"06\") & (month < \"09\")):\n",
        "        date = year + \"-06_\" + year + \"-08\"\n",
        "    else:\n",
        "        date = year + '-' + month\n",
        "    return(date)"
      ]
    },
    {
      "cell_type": "markdown",
      "id": "1643d30f-6c0a-4b30-8e1a-51ceb4236bc1",
      "metadata": {
        "id": "1643d30f-6c0a-4b30-8e1a-51ceb4236bc1"
      },
      "source": [
        "Run the query, which will give you a list of GeoDataFrames containing the quad tile name, date, download URL, as well as the tile ID of the tiling grid we use here.\n",
        "\n",
        "But first specify the year and month(s) of interest. In this example, we are using June, 2021."
      ]
    },
    {
      "cell_type": "code",
      "source": [
        "date = year_date(\"2021\", \"06\")"
      ],
      "metadata": {
        "id": "JFV2qUBAmycP"
      },
      "id": "JFV2qUBAmycP",
      "execution_count": 10,
      "outputs": []
    },
    {
      "cell_type": "markdown",
      "source": [
        "Then fetch the intersecting basemap quad grid."
      ],
      "metadata": {
        "id": "lZiIzTXozzOZ"
      },
      "id": "lZiIzTXozzOZ"
    },
    {
      "cell_type": "code",
      "execution_count": 27,
      "id": "618a6135-4303-4b7a-8ab5-52b0ea19c9af",
      "metadata": {
        "id": "618a6135-4303-4b7a-8ab5-52b0ea19c9af",
        "colab": {
          "base_uri": "https://localhost:8080/"
        },
        "outputId": "76cb0ab4-1ab4-43a0-ac27-b4c5ee658e3e"
      },
      "outputs": [
        {
          "output_type": "stream",
          "name": "stdout",
          "text": [
            "None does not exist. Creating the catalog...\n"
          ]
        }
      ],
      "source": [
        "pdl = PlanetDownloader()\n",
        "quads_gdf, quads_url = pdl.get_basemap_grid(\n",
        "    PLANET_API_KEY, API_URL, dates=[date],\n",
        "    bbox=tiles_aoi.dissolve().iloc[0][\"geometry\"].bounds\n",
        ")"
      ]
    },
    {
      "cell_type": "code",
      "source": [
        "quads_gdf.head()"
      ],
      "metadata": {
        "id": "hQNYl-nEnhoY",
        "colab": {
          "base_uri": "https://localhost:8080/",
          "height": 206
        },
        "outputId": "196dfce4-338b-4ae5-ff03-922eaa3baade"
      },
      "id": "hQNYl-nEnhoY",
      "execution_count": 12,
      "outputs": [
        {
          "output_type": "execute_result",
          "data": {
            "text/plain": [
              "       tile     date                                           geometry  \\\n",
              "0  1221-931  2021-06  POLYGON ((34.80469 -16.13026, 34.80469 -15.961...   \n",
              "1  1222-931  2021-06  POLYGON ((34.98047 -16.13026, 34.98047 -15.961...   \n",
              "2  1221-930  2021-06  POLYGON ((34.80469 -16.29905, 34.80469 -16.130...   \n",
              "3  1222-930  2021-06  POLYGON ((34.98047 -16.29905, 34.98047 -16.130...   \n",
              "4  1221-929  2021-06  POLYGON ((34.80469 -16.46769, 34.80469 -16.299...   \n",
              "\n",
              "                                                file  \n",
              "0  planet_medres_normalized_analytic_2021-06_mosa...  \n",
              "1  planet_medres_normalized_analytic_2021-06_mosa...  \n",
              "2  planet_medres_normalized_analytic_2021-06_mosa...  \n",
              "3  planet_medres_normalized_analytic_2021-06_mosa...  \n",
              "4  planet_medres_normalized_analytic_2021-06_mosa...  "
            ],
            "text/html": [
              "\n",
              "  <div id=\"df-1a4a1263-babd-4cf3-8267-1fe1a4e2d029\" class=\"colab-df-container\">\n",
              "    <div>\n",
              "<style scoped>\n",
              "    .dataframe tbody tr th:only-of-type {\n",
              "        vertical-align: middle;\n",
              "    }\n",
              "\n",
              "    .dataframe tbody tr th {\n",
              "        vertical-align: top;\n",
              "    }\n",
              "\n",
              "    .dataframe thead th {\n",
              "        text-align: right;\n",
              "    }\n",
              "</style>\n",
              "<table border=\"1\" class=\"dataframe\">\n",
              "  <thead>\n",
              "    <tr style=\"text-align: right;\">\n",
              "      <th></th>\n",
              "      <th>tile</th>\n",
              "      <th>date</th>\n",
              "      <th>geometry</th>\n",
              "      <th>file</th>\n",
              "    </tr>\n",
              "  </thead>\n",
              "  <tbody>\n",
              "    <tr>\n",
              "      <th>0</th>\n",
              "      <td>1221-931</td>\n",
              "      <td>2021-06</td>\n",
              "      <td>POLYGON ((34.80469 -16.13026, 34.80469 -15.961...</td>\n",
              "      <td>planet_medres_normalized_analytic_2021-06_mosa...</td>\n",
              "    </tr>\n",
              "    <tr>\n",
              "      <th>1</th>\n",
              "      <td>1222-931</td>\n",
              "      <td>2021-06</td>\n",
              "      <td>POLYGON ((34.98047 -16.13026, 34.98047 -15.961...</td>\n",
              "      <td>planet_medres_normalized_analytic_2021-06_mosa...</td>\n",
              "    </tr>\n",
              "    <tr>\n",
              "      <th>2</th>\n",
              "      <td>1221-930</td>\n",
              "      <td>2021-06</td>\n",
              "      <td>POLYGON ((34.80469 -16.29905, 34.80469 -16.130...</td>\n",
              "      <td>planet_medres_normalized_analytic_2021-06_mosa...</td>\n",
              "    </tr>\n",
              "    <tr>\n",
              "      <th>3</th>\n",
              "      <td>1222-930</td>\n",
              "      <td>2021-06</td>\n",
              "      <td>POLYGON ((34.98047 -16.29905, 34.98047 -16.130...</td>\n",
              "      <td>planet_medres_normalized_analytic_2021-06_mosa...</td>\n",
              "    </tr>\n",
              "    <tr>\n",
              "      <th>4</th>\n",
              "      <td>1221-929</td>\n",
              "      <td>2021-06</td>\n",
              "      <td>POLYGON ((34.80469 -16.46769, 34.80469 -16.299...</td>\n",
              "      <td>planet_medres_normalized_analytic_2021-06_mosa...</td>\n",
              "    </tr>\n",
              "  </tbody>\n",
              "</table>\n",
              "</div>\n",
              "    <div class=\"colab-df-buttons\">\n",
              "\n",
              "  <div class=\"colab-df-container\">\n",
              "    <button class=\"colab-df-convert\" onclick=\"convertToInteractive('df-1a4a1263-babd-4cf3-8267-1fe1a4e2d029')\"\n",
              "            title=\"Convert this dataframe to an interactive table.\"\n",
              "            style=\"display:none;\">\n",
              "\n",
              "  <svg xmlns=\"http://www.w3.org/2000/svg\" height=\"24px\" viewBox=\"0 -960 960 960\">\n",
              "    <path d=\"M120-120v-720h720v720H120Zm60-500h600v-160H180v160Zm220 220h160v-160H400v160Zm0 220h160v-160H400v160ZM180-400h160v-160H180v160Zm440 0h160v-160H620v160ZM180-180h160v-160H180v160Zm440 0h160v-160H620v160Z\"/>\n",
              "  </svg>\n",
              "    </button>\n",
              "\n",
              "  <style>\n",
              "    .colab-df-container {\n",
              "      display:flex;\n",
              "      gap: 12px;\n",
              "    }\n",
              "\n",
              "    .colab-df-convert {\n",
              "      background-color: #E8F0FE;\n",
              "      border: none;\n",
              "      border-radius: 50%;\n",
              "      cursor: pointer;\n",
              "      display: none;\n",
              "      fill: #1967D2;\n",
              "      height: 32px;\n",
              "      padding: 0 0 0 0;\n",
              "      width: 32px;\n",
              "    }\n",
              "\n",
              "    .colab-df-convert:hover {\n",
              "      background-color: #E2EBFA;\n",
              "      box-shadow: 0px 1px 2px rgba(60, 64, 67, 0.3), 0px 1px 3px 1px rgba(60, 64, 67, 0.15);\n",
              "      fill: #174EA6;\n",
              "    }\n",
              "\n",
              "    .colab-df-buttons div {\n",
              "      margin-bottom: 4px;\n",
              "    }\n",
              "\n",
              "    [theme=dark] .colab-df-convert {\n",
              "      background-color: #3B4455;\n",
              "      fill: #D2E3FC;\n",
              "    }\n",
              "\n",
              "    [theme=dark] .colab-df-convert:hover {\n",
              "      background-color: #434B5C;\n",
              "      box-shadow: 0px 1px 3px 1px rgba(0, 0, 0, 0.15);\n",
              "      filter: drop-shadow(0px 1px 2px rgba(0, 0, 0, 0.3));\n",
              "      fill: #FFFFFF;\n",
              "    }\n",
              "  </style>\n",
              "\n",
              "    <script>\n",
              "      const buttonEl =\n",
              "        document.querySelector('#df-1a4a1263-babd-4cf3-8267-1fe1a4e2d029 button.colab-df-convert');\n",
              "      buttonEl.style.display =\n",
              "        google.colab.kernel.accessAllowed ? 'block' : 'none';\n",
              "\n",
              "      async function convertToInteractive(key) {\n",
              "        const element = document.querySelector('#df-1a4a1263-babd-4cf3-8267-1fe1a4e2d029');\n",
              "        const dataTable =\n",
              "          await google.colab.kernel.invokeFunction('convertToInteractive',\n",
              "                                                    [key], {});\n",
              "        if (!dataTable) return;\n",
              "\n",
              "        const docLinkHtml = 'Like what you see? Visit the ' +\n",
              "          '<a target=\"_blank\" href=https://colab.research.google.com/notebooks/data_table.ipynb>data table notebook</a>'\n",
              "          + ' to learn more about interactive tables.';\n",
              "        element.innerHTML = '';\n",
              "        dataTable['output_type'] = 'display_data';\n",
              "        await google.colab.output.renderOutput(dataTable, element);\n",
              "        const docLink = document.createElement('div');\n",
              "        docLink.innerHTML = docLinkHtml;\n",
              "        element.appendChild(docLink);\n",
              "      }\n",
              "    </script>\n",
              "  </div>\n",
              "\n",
              "\n",
              "<div id=\"df-fe98e697-17b2-42a0-94aa-3e37ec7ce7c6\">\n",
              "  <button class=\"colab-df-quickchart\" onclick=\"quickchart('df-fe98e697-17b2-42a0-94aa-3e37ec7ce7c6')\"\n",
              "            title=\"Suggest charts.\"\n",
              "            style=\"display:none;\">\n",
              "\n",
              "<svg xmlns=\"http://www.w3.org/2000/svg\" height=\"24px\"viewBox=\"0 0 24 24\"\n",
              "     width=\"24px\">\n",
              "    <g>\n",
              "        <path d=\"M19 3H5c-1.1 0-2 .9-2 2v14c0 1.1.9 2 2 2h14c1.1 0 2-.9 2-2V5c0-1.1-.9-2-2-2zM9 17H7v-7h2v7zm4 0h-2V7h2v10zm4 0h-2v-4h2v4z\"/>\n",
              "    </g>\n",
              "</svg>\n",
              "  </button>\n",
              "\n",
              "<style>\n",
              "  .colab-df-quickchart {\n",
              "      --bg-color: #E8F0FE;\n",
              "      --fill-color: #1967D2;\n",
              "      --hover-bg-color: #E2EBFA;\n",
              "      --hover-fill-color: #174EA6;\n",
              "      --disabled-fill-color: #AAA;\n",
              "      --disabled-bg-color: #DDD;\n",
              "  }\n",
              "\n",
              "  [theme=dark] .colab-df-quickchart {\n",
              "      --bg-color: #3B4455;\n",
              "      --fill-color: #D2E3FC;\n",
              "      --hover-bg-color: #434B5C;\n",
              "      --hover-fill-color: #FFFFFF;\n",
              "      --disabled-bg-color: #3B4455;\n",
              "      --disabled-fill-color: #666;\n",
              "  }\n",
              "\n",
              "  .colab-df-quickchart {\n",
              "    background-color: var(--bg-color);\n",
              "    border: none;\n",
              "    border-radius: 50%;\n",
              "    cursor: pointer;\n",
              "    display: none;\n",
              "    fill: var(--fill-color);\n",
              "    height: 32px;\n",
              "    padding: 0;\n",
              "    width: 32px;\n",
              "  }\n",
              "\n",
              "  .colab-df-quickchart:hover {\n",
              "    background-color: var(--hover-bg-color);\n",
              "    box-shadow: 0 1px 2px rgba(60, 64, 67, 0.3), 0 1px 3px 1px rgba(60, 64, 67, 0.15);\n",
              "    fill: var(--button-hover-fill-color);\n",
              "  }\n",
              "\n",
              "  .colab-df-quickchart-complete:disabled,\n",
              "  .colab-df-quickchart-complete:disabled:hover {\n",
              "    background-color: var(--disabled-bg-color);\n",
              "    fill: var(--disabled-fill-color);\n",
              "    box-shadow: none;\n",
              "  }\n",
              "\n",
              "  .colab-df-spinner {\n",
              "    border: 2px solid var(--fill-color);\n",
              "    border-color: transparent;\n",
              "    border-bottom-color: var(--fill-color);\n",
              "    animation:\n",
              "      spin 1s steps(1) infinite;\n",
              "  }\n",
              "\n",
              "  @keyframes spin {\n",
              "    0% {\n",
              "      border-color: transparent;\n",
              "      border-bottom-color: var(--fill-color);\n",
              "      border-left-color: var(--fill-color);\n",
              "    }\n",
              "    20% {\n",
              "      border-color: transparent;\n",
              "      border-left-color: var(--fill-color);\n",
              "      border-top-color: var(--fill-color);\n",
              "    }\n",
              "    30% {\n",
              "      border-color: transparent;\n",
              "      border-left-color: var(--fill-color);\n",
              "      border-top-color: var(--fill-color);\n",
              "      border-right-color: var(--fill-color);\n",
              "    }\n",
              "    40% {\n",
              "      border-color: transparent;\n",
              "      border-right-color: var(--fill-color);\n",
              "      border-top-color: var(--fill-color);\n",
              "    }\n",
              "    60% {\n",
              "      border-color: transparent;\n",
              "      border-right-color: var(--fill-color);\n",
              "    }\n",
              "    80% {\n",
              "      border-color: transparent;\n",
              "      border-right-color: var(--fill-color);\n",
              "      border-bottom-color: var(--fill-color);\n",
              "    }\n",
              "    90% {\n",
              "      border-color: transparent;\n",
              "      border-bottom-color: var(--fill-color);\n",
              "    }\n",
              "  }\n",
              "</style>\n",
              "\n",
              "  <script>\n",
              "    async function quickchart(key) {\n",
              "      const quickchartButtonEl =\n",
              "        document.querySelector('#' + key + ' button');\n",
              "      quickchartButtonEl.disabled = true;  // To prevent multiple clicks.\n",
              "      quickchartButtonEl.classList.add('colab-df-spinner');\n",
              "      try {\n",
              "        const charts = await google.colab.kernel.invokeFunction(\n",
              "            'suggestCharts', [key], {});\n",
              "      } catch (error) {\n",
              "        console.error('Error during call to suggestCharts:', error);\n",
              "      }\n",
              "      quickchartButtonEl.classList.remove('colab-df-spinner');\n",
              "      quickchartButtonEl.classList.add('colab-df-quickchart-complete');\n",
              "    }\n",
              "    (() => {\n",
              "      let quickchartButtonEl =\n",
              "        document.querySelector('#df-fe98e697-17b2-42a0-94aa-3e37ec7ce7c6 button');\n",
              "      quickchartButtonEl.style.display =\n",
              "        google.colab.kernel.accessAllowed ? 'block' : 'none';\n",
              "    })();\n",
              "  </script>\n",
              "</div>\n",
              "\n",
              "    </div>\n",
              "  </div>\n"
            ]
          },
          "metadata": {},
          "execution_count": 12
        }
      ]
    },
    {
      "cell_type": "markdown",
      "id": "b3d6f2bf-3b71-4205-a729-bc228de8431b",
      "metadata": {
        "id": "b3d6f2bf-3b71-4205-a729-bc228de8431b"
      },
      "source": [
        "After iterating through the tile grid and querying the catalog, combine the results into a single GeoDataFrame, which you can save to a geojson, which lists the tiles you need to cover each grid.  "
      ]
    },
    {
      "cell_type": "markdown",
      "source": [
        "Now let's join the two catalogs, reorganize a bit and save to disk."
      ],
      "metadata": {
        "id": "LL_i3V9pn3Qq"
      },
      "id": "LL_i3V9pn3Qq"
    },
    {
      "cell_type": "code",
      "source": [
        "tiles_quads = tiles_aoi.sjoin(quads_gdf.rename(columns={\"tile\": \"quad\"}))\\\n",
        "    .drop(columns=\"index_right\")\\\n",
        "    .iloc[:,[0,4,5,6,3]]"
      ],
      "metadata": {
        "id": "BENsWdiqx6Xs"
      },
      "id": "BENsWdiqx6Xs",
      "execution_count": 26,
      "outputs": []
    },
    {
      "cell_type": "code",
      "execution_count": 29,
      "id": "6c729a66-7ed1-44ba-b763-a1c0ac98ac96",
      "metadata": {
        "tags": [],
        "id": "6c729a66-7ed1-44ba-b763-a1c0ac98ac96"
      },
      "outputs": [],
      "source": [
        "tiles_quads.to_file(\n",
        "    Path(proj_path) / \"tiles_quads.geojson\", driver=\"GeoJSON\"\n",
        ")"
      ]
    },
    {
      "cell_type": "markdown",
      "id": "0fad40d5-0e29-4402-ba6b-d5a5f8288f5c",
      "metadata": {
        "id": "0fad40d5-0e29-4402-ba6b-d5a5f8288f5c"
      },
      "source": [
        "## Download quads and retile"
      ]
    },
    {
      "cell_type": "markdown",
      "id": "2bad1134-8274-422c-bd17-082efe0bf8a6",
      "metadata": {
        "id": "2bad1134-8274-422c-bd17-082efe0bf8a6"
      },
      "source": [
        "Once you have the catalog, you can now start to download quads and retile them. However, we are first going to test downloading just one quad. We will first set up some directories"
      ]
    },
    {
      "cell_type": "code",
      "source": [
        "# set up tile and temporary directory\n",
        "if not os.path.isdir(tile_dir):\n",
        "    os.makedirs(tile_dir)\n",
        "if not os.path.isdir(quad_dir):\n",
        "    os.makedirs(quad_dir)\n",
        "if not os.path.isdir(temp_dir):\n",
        "    os.makedirs(temp_dir)"
      ],
      "metadata": {
        "id": "JH-tt9VA1ICo"
      },
      "id": "JH-tt9VA1ICo",
      "execution_count": 30,
      "outputs": []
    },
    {
      "cell_type": "markdown",
      "source": [
        "Next, we will query the catalog we have created to see which tiles intersect just a single quad (they can intersect up to 4)"
      ],
      "metadata": {
        "id": "Krzg2-Aw1L8v"
      },
      "id": "Krzg2-Aw1L8v"
    },
    {
      "cell_type": "code",
      "source": [
        "tiles_quads[[\"tile\", \"quad\"]]\\\n",
        "    .groupby(\"tile\")\\\n",
        "    .count()\\\n",
        "    .reset_index()\\\n",
        "    .query(\"quad==1\")"
      ],
      "metadata": {
        "colab": {
          "base_uri": "https://localhost:8080/",
          "height": 300
        },
        "id": "qUfP4XGM1Uvd",
        "outputId": "4e1c8ecb-e41f-44b5-8225-810d2e68cd66"
      },
      "id": "qUfP4XGM1Uvd",
      "execution_count": 37,
      "outputs": [
        {
          "output_type": "execute_result",
          "data": {
            "text/plain": [
              "      tile  quad\n",
              "5   927486     1\n",
              "7   927488     1\n",
              "8   927489     1\n",
              "9   927490     1\n",
              "10  927506     1\n",
              "12  927508     1\n",
              "13  927509     1\n",
              "14  927510     1"
            ],
            "text/html": [
              "\n",
              "  <div id=\"df-db5d2500-11ac-4f2a-a189-aeff0184ceec\" class=\"colab-df-container\">\n",
              "    <div>\n",
              "<style scoped>\n",
              "    .dataframe tbody tr th:only-of-type {\n",
              "        vertical-align: middle;\n",
              "    }\n",
              "\n",
              "    .dataframe tbody tr th {\n",
              "        vertical-align: top;\n",
              "    }\n",
              "\n",
              "    .dataframe thead th {\n",
              "        text-align: right;\n",
              "    }\n",
              "</style>\n",
              "<table border=\"1\" class=\"dataframe\">\n",
              "  <thead>\n",
              "    <tr style=\"text-align: right;\">\n",
              "      <th></th>\n",
              "      <th>tile</th>\n",
              "      <th>quad</th>\n",
              "    </tr>\n",
              "  </thead>\n",
              "  <tbody>\n",
              "    <tr>\n",
              "      <th>5</th>\n",
              "      <td>927486</td>\n",
              "      <td>1</td>\n",
              "    </tr>\n",
              "    <tr>\n",
              "      <th>7</th>\n",
              "      <td>927488</td>\n",
              "      <td>1</td>\n",
              "    </tr>\n",
              "    <tr>\n",
              "      <th>8</th>\n",
              "      <td>927489</td>\n",
              "      <td>1</td>\n",
              "    </tr>\n",
              "    <tr>\n",
              "      <th>9</th>\n",
              "      <td>927490</td>\n",
              "      <td>1</td>\n",
              "    </tr>\n",
              "    <tr>\n",
              "      <th>10</th>\n",
              "      <td>927506</td>\n",
              "      <td>1</td>\n",
              "    </tr>\n",
              "    <tr>\n",
              "      <th>12</th>\n",
              "      <td>927508</td>\n",
              "      <td>1</td>\n",
              "    </tr>\n",
              "    <tr>\n",
              "      <th>13</th>\n",
              "      <td>927509</td>\n",
              "      <td>1</td>\n",
              "    </tr>\n",
              "    <tr>\n",
              "      <th>14</th>\n",
              "      <td>927510</td>\n",
              "      <td>1</td>\n",
              "    </tr>\n",
              "  </tbody>\n",
              "</table>\n",
              "</div>\n",
              "    <div class=\"colab-df-buttons\">\n",
              "\n",
              "  <div class=\"colab-df-container\">\n",
              "    <button class=\"colab-df-convert\" onclick=\"convertToInteractive('df-db5d2500-11ac-4f2a-a189-aeff0184ceec')\"\n",
              "            title=\"Convert this dataframe to an interactive table.\"\n",
              "            style=\"display:none;\">\n",
              "\n",
              "  <svg xmlns=\"http://www.w3.org/2000/svg\" height=\"24px\" viewBox=\"0 -960 960 960\">\n",
              "    <path d=\"M120-120v-720h720v720H120Zm60-500h600v-160H180v160Zm220 220h160v-160H400v160Zm0 220h160v-160H400v160ZM180-400h160v-160H180v160Zm440 0h160v-160H620v160ZM180-180h160v-160H180v160Zm440 0h160v-160H620v160Z\"/>\n",
              "  </svg>\n",
              "    </button>\n",
              "\n",
              "  <style>\n",
              "    .colab-df-container {\n",
              "      display:flex;\n",
              "      gap: 12px;\n",
              "    }\n",
              "\n",
              "    .colab-df-convert {\n",
              "      background-color: #E8F0FE;\n",
              "      border: none;\n",
              "      border-radius: 50%;\n",
              "      cursor: pointer;\n",
              "      display: none;\n",
              "      fill: #1967D2;\n",
              "      height: 32px;\n",
              "      padding: 0 0 0 0;\n",
              "      width: 32px;\n",
              "    }\n",
              "\n",
              "    .colab-df-convert:hover {\n",
              "      background-color: #E2EBFA;\n",
              "      box-shadow: 0px 1px 2px rgba(60, 64, 67, 0.3), 0px 1px 3px 1px rgba(60, 64, 67, 0.15);\n",
              "      fill: #174EA6;\n",
              "    }\n",
              "\n",
              "    .colab-df-buttons div {\n",
              "      margin-bottom: 4px;\n",
              "    }\n",
              "\n",
              "    [theme=dark] .colab-df-convert {\n",
              "      background-color: #3B4455;\n",
              "      fill: #D2E3FC;\n",
              "    }\n",
              "\n",
              "    [theme=dark] .colab-df-convert:hover {\n",
              "      background-color: #434B5C;\n",
              "      box-shadow: 0px 1px 3px 1px rgba(0, 0, 0, 0.15);\n",
              "      filter: drop-shadow(0px 1px 2px rgba(0, 0, 0, 0.3));\n",
              "      fill: #FFFFFF;\n",
              "    }\n",
              "  </style>\n",
              "\n",
              "    <script>\n",
              "      const buttonEl =\n",
              "        document.querySelector('#df-db5d2500-11ac-4f2a-a189-aeff0184ceec button.colab-df-convert');\n",
              "      buttonEl.style.display =\n",
              "        google.colab.kernel.accessAllowed ? 'block' : 'none';\n",
              "\n",
              "      async function convertToInteractive(key) {\n",
              "        const element = document.querySelector('#df-db5d2500-11ac-4f2a-a189-aeff0184ceec');\n",
              "        const dataTable =\n",
              "          await google.colab.kernel.invokeFunction('convertToInteractive',\n",
              "                                                    [key], {});\n",
              "        if (!dataTable) return;\n",
              "\n",
              "        const docLinkHtml = 'Like what you see? Visit the ' +\n",
              "          '<a target=\"_blank\" href=https://colab.research.google.com/notebooks/data_table.ipynb>data table notebook</a>'\n",
              "          + ' to learn more about interactive tables.';\n",
              "        element.innerHTML = '';\n",
              "        dataTable['output_type'] = 'display_data';\n",
              "        await google.colab.output.renderOutput(dataTable, element);\n",
              "        const docLink = document.createElement('div');\n",
              "        docLink.innerHTML = docLinkHtml;\n",
              "        element.appendChild(docLink);\n",
              "      }\n",
              "    </script>\n",
              "  </div>\n",
              "\n",
              "\n",
              "<div id=\"df-965d0e44-b6c9-4219-b472-11ee087fe609\">\n",
              "  <button class=\"colab-df-quickchart\" onclick=\"quickchart('df-965d0e44-b6c9-4219-b472-11ee087fe609')\"\n",
              "            title=\"Suggest charts.\"\n",
              "            style=\"display:none;\">\n",
              "\n",
              "<svg xmlns=\"http://www.w3.org/2000/svg\" height=\"24px\"viewBox=\"0 0 24 24\"\n",
              "     width=\"24px\">\n",
              "    <g>\n",
              "        <path d=\"M19 3H5c-1.1 0-2 .9-2 2v14c0 1.1.9 2 2 2h14c1.1 0 2-.9 2-2V5c0-1.1-.9-2-2-2zM9 17H7v-7h2v7zm4 0h-2V7h2v10zm4 0h-2v-4h2v4z\"/>\n",
              "    </g>\n",
              "</svg>\n",
              "  </button>\n",
              "\n",
              "<style>\n",
              "  .colab-df-quickchart {\n",
              "      --bg-color: #E8F0FE;\n",
              "      --fill-color: #1967D2;\n",
              "      --hover-bg-color: #E2EBFA;\n",
              "      --hover-fill-color: #174EA6;\n",
              "      --disabled-fill-color: #AAA;\n",
              "      --disabled-bg-color: #DDD;\n",
              "  }\n",
              "\n",
              "  [theme=dark] .colab-df-quickchart {\n",
              "      --bg-color: #3B4455;\n",
              "      --fill-color: #D2E3FC;\n",
              "      --hover-bg-color: #434B5C;\n",
              "      --hover-fill-color: #FFFFFF;\n",
              "      --disabled-bg-color: #3B4455;\n",
              "      --disabled-fill-color: #666;\n",
              "  }\n",
              "\n",
              "  .colab-df-quickchart {\n",
              "    background-color: var(--bg-color);\n",
              "    border: none;\n",
              "    border-radius: 50%;\n",
              "    cursor: pointer;\n",
              "    display: none;\n",
              "    fill: var(--fill-color);\n",
              "    height: 32px;\n",
              "    padding: 0;\n",
              "    width: 32px;\n",
              "  }\n",
              "\n",
              "  .colab-df-quickchart:hover {\n",
              "    background-color: var(--hover-bg-color);\n",
              "    box-shadow: 0 1px 2px rgba(60, 64, 67, 0.3), 0 1px 3px 1px rgba(60, 64, 67, 0.15);\n",
              "    fill: var(--button-hover-fill-color);\n",
              "  }\n",
              "\n",
              "  .colab-df-quickchart-complete:disabled,\n",
              "  .colab-df-quickchart-complete:disabled:hover {\n",
              "    background-color: var(--disabled-bg-color);\n",
              "    fill: var(--disabled-fill-color);\n",
              "    box-shadow: none;\n",
              "  }\n",
              "\n",
              "  .colab-df-spinner {\n",
              "    border: 2px solid var(--fill-color);\n",
              "    border-color: transparent;\n",
              "    border-bottom-color: var(--fill-color);\n",
              "    animation:\n",
              "      spin 1s steps(1) infinite;\n",
              "  }\n",
              "\n",
              "  @keyframes spin {\n",
              "    0% {\n",
              "      border-color: transparent;\n",
              "      border-bottom-color: var(--fill-color);\n",
              "      border-left-color: var(--fill-color);\n",
              "    }\n",
              "    20% {\n",
              "      border-color: transparent;\n",
              "      border-left-color: var(--fill-color);\n",
              "      border-top-color: var(--fill-color);\n",
              "    }\n",
              "    30% {\n",
              "      border-color: transparent;\n",
              "      border-left-color: var(--fill-color);\n",
              "      border-top-color: var(--fill-color);\n",
              "      border-right-color: var(--fill-color);\n",
              "    }\n",
              "    40% {\n",
              "      border-color: transparent;\n",
              "      border-right-color: var(--fill-color);\n",
              "      border-top-color: var(--fill-color);\n",
              "    }\n",
              "    60% {\n",
              "      border-color: transparent;\n",
              "      border-right-color: var(--fill-color);\n",
              "    }\n",
              "    80% {\n",
              "      border-color: transparent;\n",
              "      border-right-color: var(--fill-color);\n",
              "      border-bottom-color: var(--fill-color);\n",
              "    }\n",
              "    90% {\n",
              "      border-color: transparent;\n",
              "      border-bottom-color: var(--fill-color);\n",
              "    }\n",
              "  }\n",
              "</style>\n",
              "\n",
              "  <script>\n",
              "    async function quickchart(key) {\n",
              "      const quickchartButtonEl =\n",
              "        document.querySelector('#' + key + ' button');\n",
              "      quickchartButtonEl.disabled = true;  // To prevent multiple clicks.\n",
              "      quickchartButtonEl.classList.add('colab-df-spinner');\n",
              "      try {\n",
              "        const charts = await google.colab.kernel.invokeFunction(\n",
              "            'suggestCharts', [key], {});\n",
              "      } catch (error) {\n",
              "        console.error('Error during call to suggestCharts:', error);\n",
              "      }\n",
              "      quickchartButtonEl.classList.remove('colab-df-spinner');\n",
              "      quickchartButtonEl.classList.add('colab-df-quickchart-complete');\n",
              "    }\n",
              "    (() => {\n",
              "      let quickchartButtonEl =\n",
              "        document.querySelector('#df-965d0e44-b6c9-4219-b472-11ee087fe609 button');\n",
              "      quickchartButtonEl.style.display =\n",
              "        google.colab.kernel.accessAllowed ? 'block' : 'none';\n",
              "    })();\n",
              "  </script>\n",
              "</div>\n",
              "\n",
              "    </div>\n",
              "  </div>\n"
            ]
          },
          "metadata": {},
          "execution_count": 37
        }
      ]
    },
    {
      "cell_type": "markdown",
      "source": [
        "Let's use the first one, 927486. We need to select that row from the DataFrame, build a download url, and then download it"
      ],
      "metadata": {
        "id": "5RkMSs4Q2uf1"
      },
      "id": "5RkMSs4Q2uf1"
    },
    {
      "cell_type": "code",
      "execution_count": 53,
      "id": "a8835f30-253a-458d-91f6-8ce9b9109782",
      "metadata": {
        "id": "a8835f30-253a-458d-91f6-8ce9b9109782",
        "colab": {
          "base_uri": "https://localhost:8080/"
        },
        "outputId": "8b4b7b9e-464b-4906-e0b4-56bb4d74b40f"
      },
      "outputs": [
        {
          "output_type": "stream",
          "name": "stdout",
          "text": [
            "Downloaded: /content/gdrive/MyDrive/data/nmeo/quads/planet_medres_normalized_analytic_2021-06_mosaic_1221-930.tif\n"
          ]
        }
      ],
      "source": [
        "row = tiles_quads[tiles_quads.tile==\"927486\"]  # quad to download\n",
        "download_url = f\"{quads_url}/<id>/full?api_key={PLANET_API_KEY}\"\n",
        "\n",
        "link = get_quad_download_url(download_url, row.quad.iloc[0])\n",
        "filename = f\"{quad_dir}/{row.file.iloc[0]}.tif\"\n",
        "download_tiles_helper(link, filename)"
      ]
    },
    {
      "cell_type": "markdown",
      "source": [
        "Check your quads folder--you should the file there. We will continue on with this on Monday!\n"
      ],
      "metadata": {
        "id": "fNmmddmg3bR7"
      },
      "id": "fNmmddmg3bR7"
    }
  ],
  "metadata": {
    "kernelspec": {
      "display_name": "Python 3 (ipykernel)",
      "language": "python",
      "name": "python3"
    },
    "language_info": {
      "codemirror_mode": {
        "name": "ipython",
        "version": 3
      },
      "file_extension": ".py",
      "mimetype": "text/x-python",
      "name": "python",
      "nbconvert_exporter": "python",
      "pygments_lexer": "ipython3",
      "version": "3.9.16"
    },
    "colab": {
      "provenance": [],
      "include_colab_link": true
    }
  },
  "nbformat": 4,
  "nbformat_minor": 5
}